{
 "cells": [
  {
   "cell_type": "code",
   "execution_count": 1,
   "metadata": {},
   "outputs": [],
   "source": [
    "import os\n",
    "import cv2\n",
    "from skimage import io\n",
    "from tqdm import tqdm"
   ]
  },
  {
   "cell_type": "code",
   "execution_count": 3,
   "metadata": {},
   "outputs": [
    {
     "name": "stderr",
     "output_type": "stream",
     "text": [
      "/var/folders/sd/z_kvtl2s6v93h4_t4j4zmpjm0000gn/T/ipykernel_55305/788962213.py:12: DeprecationWarning: Please use `binary_fill_holes` from the `scipy.ndimage` namespace, the `scipy.ndimage.morphology` namespace is deprecated.\n",
      "  from scipy.ndimage.morphology import binary_fill_holes\n"
     ]
    }
   ],
   "source": [
    "import argparse\n",
    "import os\n",
    "import sys\n",
    "import numpy as np\n",
    "import csv\n",
    "import cv2\n",
    "import argparse \n",
    "import imageio\n",
    "from skimage.filters import threshold_otsu, threshold_mean, threshold_local, threshold_isodata\n",
    "from skimage.measure import label, regionprops\n",
    "from skimage.morphology import remove_small_objects\n",
    "from scipy.ndimage.morphology import binary_fill_holes\n",
    "from skimage.morphology import square\n",
    "from skimage import morphology\n",
    "from skimage.segmentation import clear_border\n",
    "from sklearn.preprocessing import StandardScaler\n",
    "from sklearn.decomposition import PCA\n",
    "import time"
   ]
  },
  {
   "cell_type": "code",
   "execution_count": 4,
   "metadata": {},
   "outputs": [],
   "source": [
    "def crop_and_save3(complete_image, centroid, shapeid, output_dir, size=160):\n",
    "    \"\"\" Crops and saves a region from an image \"\"\"\n",
    "    \n",
    "    nx_0 = max(int(centroid[0] - size/2),0)\n",
    "    ny_0 = max(int(centroid[1] - size/2),0)\n",
    "    nx_1 = min(nx_0 + size, complete_image.shape[1])\n",
    "    ny_1 = min(ny_0 + size, complete_image.shape[0])\n",
    "    #roi_type = shape['type'].split(':')[-1]\n",
    "    roi_file = os.path.join(output_dir, str(shapeid)+'.png')\n",
    "    cropped_image = complete_image[ny_0:ny_1, nx_0: nx_1,:]\n",
    "    imageio.imwrite(roi_file, cropped_image)    \n",
    "    \n",
    "\n",
    "\n",
    "\n",
    "    \n",
    "    \n",
    "def rbc_segmentation(img, outputdir=None):\n",
    "    gray = cv2.cvtColor(img,cv2.COLOR_BGR2GRAY)\n",
    "    gray = cv2.GaussianBlur(gray,(5,5),0)\n",
    "    ret, thresh = cv2.threshold(gray, 127, 255,cv2.THRESH_BINARY_INV+cv2.THRESH_OTSU)\n",
    "    kernel = np.ones((3,3),np.uint8)\n",
    "    opening = cv2.morphologyEx(thresh,cv2.MORPH_OPEN,kernel, iterations = 2)\n",
    "    sure_bg = cv2.dilate(opening,kernel,iterations=2)\n",
    "    dist_transform = cv2.distanceTransform(opening,cv2.DIST_L2,5)\n",
    "    ret, sure_fg = cv2.threshold(dist_transform,0.3*dist_transform.max(),255,0)\n",
    "    sure_fg = np.uint8(sure_fg)\n",
    "    unknown = cv2.subtract(sure_bg,sure_fg)\n",
    "    ret, markers = cv2.connectedComponents(sure_fg)\n",
    "    markers = markers+1\n",
    "    markers[unknown==255] = 0\n",
    "\n",
    "    markers = cv2.watershed(img,markers)\n",
    "    bw=(markers>1).astype(int)\n",
    "    bw=binary_fill_holes(bw).astype(np.uint8)\n",
    "    #img[markers == -1] = [255,0,0]\n",
    "    bw_clean=morphology.remove_small_objects(bw.astype(bool), min_size=5000, connectivity=4).astype(np.uint8)\n",
    "    rbc_gone = 255*remove_small_objects(bw_clean.astype(bool), min_size=17000, connectivity=4).astype(np.uint8)\n",
    "    rbc_only = cv2.subtract(255*bw_clean, rbc_gone)\n",
    "    #cv2.imwrite(outputdir +'.jpg', img)\n",
    "    return rbc_only\n",
    "\n",
    "\n",
    "def chop_thumbnails(image, output_dir, current_shapeid=0):\n",
    "    shapeid = current_shapeid\n",
    "\n",
    "\n",
    "    mp_masks=rbc_segmentation(image)\n",
    "    \n",
    "    output  = cv2.connectedComponentsWithStats(mp_masks, connectivity=8)\n",
    "#    num_labels = output[0]\n",
    "#    labels = output[1]\n",
    "#    stats = output[2]\n",
    "    centroids = output[3]    \n",
    "#                \n",
    "    for c in centroids:\n",
    "        crop_and_save3(image, c, shapeid, output_dir)\n",
    "        shapeid=shapeid+1\n",
    "                \n",
    "               \n",
    "    return shapeid"
   ]
  },
  {
   "attachments": {},
   "cell_type": "markdown",
   "metadata": {},
   "source": [
    "Segment and isolate non sma RBCs"
   ]
  },
  {
   "cell_type": "code",
   "execution_count": 6,
   "metadata": {},
   "outputs": [
    {
     "name": "stderr",
     "output_type": "stream",
     "text": [
      "Processing images:   6%|▋         | 1/16 [00:01<00:29,  2.00s/it]"
     ]
    },
    {
     "name": "stdout",
     "output_type": "stream",
     "text": [
      "Image non-sma_6_EDOF_RGB.tiff processed. Total shapes extracted: 80\n"
     ]
    },
    {
     "name": "stderr",
     "output_type": "stream",
     "text": [
      "Processing images:  12%|█▎        | 2/16 [00:03<00:22,  1.62s/it]"
     ]
    },
    {
     "name": "stdout",
     "output_type": "stream",
     "text": [
      "Image non-sma_2_EDOF_RGB.tiff processed. Total shapes extracted: 135\n"
     ]
    },
    {
     "name": "stderr",
     "output_type": "stream",
     "text": [
      "Processing images:  19%|█▉        | 3/16 [00:04<00:19,  1.48s/it]"
     ]
    },
    {
     "name": "stdout",
     "output_type": "stream",
     "text": [
      "Image non-sma_5_EDOF_RGB.tiff processed. Total shapes extracted: 158\n"
     ]
    },
    {
     "name": "stderr",
     "output_type": "stream",
     "text": [
      "Processing images:  25%|██▌       | 4/16 [00:06<00:18,  1.57s/it]"
     ]
    },
    {
     "name": "stdout",
     "output_type": "stream",
     "text": [
      "Image non-sma_1_EDOF_RGB.tiff processed. Total shapes extracted: 174\n"
     ]
    },
    {
     "name": "stderr",
     "output_type": "stream",
     "text": [
      "Processing images:  31%|███▏      | 5/16 [00:07<00:16,  1.54s/it]"
     ]
    },
    {
     "name": "stdout",
     "output_type": "stream",
     "text": [
      "Image non-sma_16_EDOF_RGB.tiff processed. Total shapes extracted: 118\n"
     ]
    },
    {
     "name": "stderr",
     "output_type": "stream",
     "text": [
      "Processing images:  38%|███▊      | 6/16 [00:08<00:13,  1.39s/it]"
     ]
    },
    {
     "name": "stdout",
     "output_type": "stream",
     "text": [
      "Image non-sma_12_EDOF_RGB.tiff processed. Total shapes extracted: 126\n"
     ]
    },
    {
     "name": "stderr",
     "output_type": "stream",
     "text": [
      "Processing images:  44%|████▍     | 7/16 [00:10<00:12,  1.35s/it]"
     ]
    },
    {
     "name": "stdout",
     "output_type": "stream",
     "text": [
      "Image non-sma_8_EDOF_RGB.tiff processed. Total shapes extracted: 144\n"
     ]
    },
    {
     "name": "stderr",
     "output_type": "stream",
     "text": [
      "Processing images:  50%|█████     | 8/16 [00:11<00:09,  1.18s/it]"
     ]
    },
    {
     "name": "stdout",
     "output_type": "stream",
     "text": [
      "Image non-sma_15_EDOF_RGB.tiff processed. Total shapes extracted: 38\n"
     ]
    },
    {
     "name": "stderr",
     "output_type": "stream",
     "text": [
      "Processing images:  56%|█████▋    | 9/16 [00:12<00:08,  1.23s/it]"
     ]
    },
    {
     "name": "stdout",
     "output_type": "stream",
     "text": [
      "Image non-sma_11_EDOF_RGB.tiff processed. Total shapes extracted: 153\n"
     ]
    },
    {
     "name": "stderr",
     "output_type": "stream",
     "text": [
      "Processing images:  62%|██████▎   | 10/16 [00:14<00:08,  1.42s/it]"
     ]
    },
    {
     "name": "stdout",
     "output_type": "stream",
     "text": [
      "Image non-sma_10_EDOF_RGB.tiff processed. Total shapes extracted: 199\n"
     ]
    },
    {
     "name": "stderr",
     "output_type": "stream",
     "text": [
      "Processing images:  69%|██████▉   | 11/16 [00:15<00:07,  1.44s/it]"
     ]
    },
    {
     "name": "stdout",
     "output_type": "stream",
     "text": [
      "Image non-sma_14_EDOF_RGB.tiff processed. Total shapes extracted: 175\n"
     ]
    },
    {
     "name": "stderr",
     "output_type": "stream",
     "text": [
      "Processing images:  75%|███████▌  | 12/16 [00:17<00:06,  1.53s/it]"
     ]
    },
    {
     "name": "stdout",
     "output_type": "stream",
     "text": [
      "Image non-sma_9_EDOF_RGB.tiff processed. Total shapes extracted: 133\n"
     ]
    },
    {
     "name": "stderr",
     "output_type": "stream",
     "text": [
      "Processing images:  81%|████████▏ | 13/16 [00:18<00:04,  1.51s/it]"
     ]
    },
    {
     "name": "stdout",
     "output_type": "stream",
     "text": [
      "Image non-sma_13_EDOF_RGB.tiff processed. Total shapes extracted: 182\n"
     ]
    },
    {
     "name": "stderr",
     "output_type": "stream",
     "text": [
      "Processing images:  88%|████████▊ | 14/16 [00:20<00:02,  1.41s/it]"
     ]
    },
    {
     "name": "stdout",
     "output_type": "stream",
     "text": [
      "Image non-sma_4_EDOF_RGB.tiff processed. Total shapes extracted: 125\n"
     ]
    },
    {
     "name": "stderr",
     "output_type": "stream",
     "text": [
      "Processing images:  94%|█████████▍| 15/16 [00:21<00:01,  1.34s/it]"
     ]
    },
    {
     "name": "stdout",
     "output_type": "stream",
     "text": [
      "Image non-sma_3_EDOF_RGB.tiff processed. Total shapes extracted: 150\n"
     ]
    },
    {
     "name": "stderr",
     "output_type": "stream",
     "text": [
      "Processing images: 100%|██████████| 16/16 [00:22<00:00,  1.43s/it]"
     ]
    },
    {
     "name": "stdout",
     "output_type": "stream",
     "text": [
      "Image non-sma_7_EDOF_RGB.tiff processed. Total shapes extracted: 203\n",
      "All images processed successfully.\n"
     ]
    },
    {
     "name": "stderr",
     "output_type": "stream",
     "text": [
      "\n"
     ]
    }
   ],
   "source": [
    "# Function for RBC segmentation and thumbnail extraction\n",
    "def process_image(image, output_dir):\n",
    "    # Perform RBC segmentation\n",
    "    rbc_only = rbc_segmentation(image)\n",
    "    \n",
    "    # Create output directory if it doesn't exist\n",
    "    if not os.path.exists(output_dir):\n",
    "        os.makedirs(output_dir)\n",
    "    \n",
    "    # Perform thumbnail extraction\n",
    "    shapeid = chop_thumbnails(image, output_dir)\n",
    "    \n",
    "    return shapeid\n",
    "\n",
    "# Define input and output directories\n",
    "input_dir = '/Users/ezermoysis/Documents/UCL/Year end project/Malaria/FYP/Yu-SMA/non-sma-images'\n",
    "output_dir = '/Users/ezermoysis/Documents/UCL/Year end project/Malaria/FYP/out_rbc'\n",
    "\n",
    "# Create output directory if it doesn't exist\n",
    "if not os.path.exists(output_dir):\n",
    "    os.makedirs(output_dir)\n",
    "\n",
    "# Get a list of image files in the input directory\n",
    "image_files = [file for file in os.listdir(input_dir) if file.endswith('.tiff') or file.endswith('.png')]\n",
    "\n",
    "# Process each image\n",
    "for image_file in tqdm(image_files, desc='Processing images'):\n",
    "    # Read the image\n",
    "    image_path = os.path.join(input_dir, image_file)\n",
    "    image = cv2.imread(image_path)\n",
    "    \n",
    "    if image is not None:\n",
    "        # Process the image\n",
    "        shapeid = process_image(image, output_dir)\n",
    "        \n",
    "        print(f\"Image {image_file} processed. Total shapes extracted: {shapeid}\")\n",
    "\n",
    "print(\"All images processed successfully.\")\n"
   ]
  },
  {
   "attachments": {},
   "cell_type": "markdown",
   "metadata": {},
   "source": [
    "Segment and isolate sma RBCs"
   ]
  },
  {
   "cell_type": "code",
   "execution_count": 7,
   "metadata": {},
   "outputs": [
    {
     "name": "stderr",
     "output_type": "stream",
     "text": [
      "Processing images:   6%|▌         | 1/17 [00:01<00:23,  1.49s/it]"
     ]
    },
    {
     "name": "stdout",
     "output_type": "stream",
     "text": [
      "Image sma_11_EDOF_RGB.tiff processed. Total shapes extracted: 134\n"
     ]
    },
    {
     "name": "stderr",
     "output_type": "stream",
     "text": [
      "Processing images:  12%|█▏        | 2/17 [00:02<00:20,  1.39s/it]"
     ]
    },
    {
     "name": "stdout",
     "output_type": "stream",
     "text": [
      "Image sma_15_EDOF_RGB.tiff processed. Total shapes extracted: 116\n"
     ]
    },
    {
     "name": "stderr",
     "output_type": "stream",
     "text": [
      "Processing images:  18%|█▊        | 3/17 [00:03<00:16,  1.19s/it]"
     ]
    },
    {
     "name": "stdout",
     "output_type": "stream",
     "text": [
      "Image sma_8_EDOF_RGB.tiff processed. Total shapes extracted: 57\n"
     ]
    },
    {
     "name": "stderr",
     "output_type": "stream",
     "text": [
      "Processing images:  24%|██▎       | 4/17 [00:04<00:15,  1.18s/it]"
     ]
    },
    {
     "name": "stdout",
     "output_type": "stream",
     "text": [
      "Image sma_12_EDOF_RGB.tiff processed. Total shapes extracted: 99\n"
     ]
    },
    {
     "name": "stderr",
     "output_type": "stream",
     "text": [
      "Processing images:  29%|██▉       | 5/17 [00:06<00:14,  1.21s/it]"
     ]
    },
    {
     "name": "stdout",
     "output_type": "stream",
     "text": [
      "Image sma_16_EDOF_RGB.tiff processed. Total shapes extracted: 117\n"
     ]
    },
    {
     "name": "stderr",
     "output_type": "stream",
     "text": [
      "Processing images:  35%|███▌      | 6/17 [00:07<00:12,  1.12s/it]"
     ]
    },
    {
     "name": "stdout",
     "output_type": "stream",
     "text": [
      "Image sma_2_EDOF_RGB.tiff processed. Total shapes extracted: 60\n"
     ]
    },
    {
     "name": "stderr",
     "output_type": "stream",
     "text": [
      "Processing images:  41%|████      | 7/17 [00:07<00:09,  1.04it/s]"
     ]
    },
    {
     "name": "stdout",
     "output_type": "stream",
     "text": [
      "Image sma_6_EDOF_RGB.tiff processed. Total shapes extracted: 1\n"
     ]
    },
    {
     "name": "stderr",
     "output_type": "stream",
     "text": [
      "Processing images:  47%|████▋     | 8/17 [00:08<00:08,  1.03it/s]"
     ]
    },
    {
     "name": "stdout",
     "output_type": "stream",
     "text": [
      "Image sma_1_EDOF_RGB.tiff processed. Total shapes extracted: 61\n"
     ]
    },
    {
     "name": "stderr",
     "output_type": "stream",
     "text": [
      "Processing images:  53%|█████▎    | 9/17 [00:09<00:07,  1.13it/s]"
     ]
    },
    {
     "name": "stdout",
     "output_type": "stream",
     "text": [
      "Image sma_5_EDOF_RGB.tiff processed. Total shapes extracted: 1\n"
     ]
    },
    {
     "name": "stderr",
     "output_type": "stream",
     "text": [
      "Processing images:  59%|█████▉    | 10/17 [00:10<00:06,  1.07it/s]"
     ]
    },
    {
     "name": "stdout",
     "output_type": "stream",
     "text": [
      "Image sma_4_EDOF_RGB.tiff processed. Total shapes extracted: 90\n"
     ]
    },
    {
     "name": "stderr",
     "output_type": "stream",
     "text": [
      "Processing images:  65%|██████▍   | 11/17 [00:11<00:05,  1.12it/s]"
     ]
    },
    {
     "name": "stdout",
     "output_type": "stream",
     "text": [
      "Image sma_7_EDOF_RGB.tiff processed. Total shapes extracted: 39\n"
     ]
    },
    {
     "name": "stderr",
     "output_type": "stream",
     "text": [
      "Processing images:  71%|███████   | 12/17 [00:12<00:04,  1.00it/s]"
     ]
    },
    {
     "name": "stdout",
     "output_type": "stream",
     "text": [
      "Image sma_3_EDOF_RGB.tiff processed. Total shapes extracted: 118\n"
     ]
    },
    {
     "name": "stderr",
     "output_type": "stream",
     "text": [
      "Processing images:  76%|███████▋  | 13/17 [00:13<00:04,  1.07s/it]"
     ]
    },
    {
     "name": "stdout",
     "output_type": "stream",
     "text": [
      "Image sma_9_EDOF_RGB.tiff processed. Total shapes extracted: 108\n"
     ]
    },
    {
     "name": "stderr",
     "output_type": "stream",
     "text": [
      "Processing images:  82%|████████▏ | 14/17 [00:14<00:03,  1.05s/it]"
     ]
    },
    {
     "name": "stdout",
     "output_type": "stream",
     "text": [
      "Image sma_17_EDOF_RGB.tiff processed. Total shapes extracted: 75\n"
     ]
    },
    {
     "name": "stderr",
     "output_type": "stream",
     "text": [
      "Processing images:  88%|████████▊ | 15/17 [00:16<00:02,  1.14s/it]"
     ]
    },
    {
     "name": "stdout",
     "output_type": "stream",
     "text": [
      "Image sma_13_EDOF_RGB.tiff processed. Total shapes extracted: 141\n"
     ]
    },
    {
     "name": "stderr",
     "output_type": "stream",
     "text": [
      "Processing images:  94%|█████████▍| 16/17 [00:17<00:01,  1.22s/it]"
     ]
    },
    {
     "name": "stdout",
     "output_type": "stream",
     "text": [
      "Image sma_14_EDOF_RGB.tiff processed. Total shapes extracted: 150\n"
     ]
    },
    {
     "name": "stderr",
     "output_type": "stream",
     "text": [
      "Processing images: 100%|██████████| 17/17 [00:18<00:00,  1.08s/it]"
     ]
    },
    {
     "name": "stdout",
     "output_type": "stream",
     "text": [
      "Image sma_10_EDOF_RGB.tiff processed. Total shapes extracted: 48\n",
      "All images processed successfully.\n"
     ]
    },
    {
     "name": "stderr",
     "output_type": "stream",
     "text": [
      "\n"
     ]
    }
   ],
   "source": [
    "# Function for RBC segmentation and thumbnail extraction\n",
    "def process_image(image, output_dir):\n",
    "    # Perform RBC segmentation\n",
    "    rbc_only = rbc_segmentation(image)\n",
    "    \n",
    "    # Create output directory if it doesn't exist\n",
    "    if not os.path.exists(output_dir):\n",
    "        os.makedirs(output_dir)\n",
    "    \n",
    "    # Perform thumbnail extraction\n",
    "    shapeid = chop_thumbnails(image, output_dir)\n",
    "    \n",
    "    return shapeid\n",
    "\n",
    "# Define input and output directories\n",
    "input_dir = '/Users/ezermoysis/Documents/UCL/Year end project/Malaria/FYP/Yu-SMA/sma-images'\n",
    "output_dir = '/Users/ezermoysis/Documents/UCL/Year end project/Malaria/FYP/rbc_sma'\n",
    "\n",
    "# Create output directory if it doesn't exist\n",
    "if not os.path.exists(output_dir):\n",
    "    os.makedirs(output_dir)\n",
    "\n",
    "# Get a list of image files in the input directory\n",
    "image_files = [file for file in os.listdir(input_dir) if file.endswith('.tiff') or file.endswith('.png')]\n",
    "\n",
    "# Process each image\n",
    "for image_file in tqdm(image_files, desc='Processing images'):\n",
    "    # Read the image\n",
    "    image_path = os.path.join(input_dir, image_file)\n",
    "    image = cv2.imread(image_path)\n",
    "    \n",
    "    if image is not None:\n",
    "        # Process the image\n",
    "        shapeid = process_image(image, output_dir)\n",
    "        \n",
    "        print(f\"Image {image_file} processed. Total shapes extracted: {shapeid}\")\n",
    "\n",
    "print(\"All images processed successfully.\")\n"
   ]
  },
  {
   "cell_type": "code",
   "execution_count": null,
   "metadata": {},
   "outputs": [],
   "source": []
  }
 ],
 "metadata": {
  "kernelspec": {
   "display_name": "FYPenv",
   "language": "python",
   "name": "python3"
  },
  "language_info": {
   "codemirror_mode": {
    "name": "ipython",
    "version": 3
   },
   "file_extension": ".py",
   "mimetype": "text/x-python",
   "name": "python",
   "nbconvert_exporter": "python",
   "pygments_lexer": "ipython3",
   "version": "3.11.3"
  },
  "orig_nbformat": 4
 },
 "nbformat": 4,
 "nbformat_minor": 2
}
