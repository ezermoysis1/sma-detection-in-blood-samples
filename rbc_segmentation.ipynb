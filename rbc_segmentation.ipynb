{
 "cells": [
  {
   "cell_type": "code",
   "execution_count": 2,
   "metadata": {},
   "outputs": [],
   "source": [
    "import os\n",
    "import cv2\n",
    "from skimage import io\n",
    "from tqdm import tqdm"
   ]
  },
  {
   "cell_type": "code",
   "execution_count": 3,
   "metadata": {},
   "outputs": [
    {
     "name": "stderr",
     "output_type": "stream",
     "text": [
      "/var/folders/sd/z_kvtl2s6v93h4_t4j4zmpjm0000gn/T/ipykernel_62166/788962213.py:12: DeprecationWarning: Please use `binary_fill_holes` from the `scipy.ndimage` namespace, the `scipy.ndimage.morphology` namespace is deprecated.\n",
      "  from scipy.ndimage.morphology import binary_fill_holes\n"
     ]
    }
   ],
   "source": [
    "import argparse\n",
    "import os\n",
    "import sys\n",
    "import numpy as np\n",
    "import csv\n",
    "import cv2\n",
    "import argparse \n",
    "import imageio\n",
    "from skimage.filters import threshold_otsu, threshold_mean, threshold_local, threshold_isodata\n",
    "from skimage.measure import label, regionprops\n",
    "from skimage.morphology import remove_small_objects\n",
    "from scipy.ndimage.morphology import binary_fill_holes\n",
    "from skimage.morphology import square\n",
    "from skimage import morphology\n",
    "from skimage.segmentation import clear_border\n",
    "from sklearn.preprocessing import StandardScaler\n",
    "from sklearn.decomposition import PCA\n",
    "import time"
   ]
  },
  {
   "cell_type": "code",
   "execution_count": 4,
   "metadata": {},
   "outputs": [],
   "source": [
    "def crop_and_save3(complete_image, centroid, shapeid, output_dir, size=160):\n",
    "    \"\"\" Crops and saves a region from an image \"\"\"\n",
    "    \n",
    "    nx_0 = max(int(centroid[0] - size/2),0)\n",
    "    ny_0 = max(int(centroid[1] - size/2),0)\n",
    "    nx_1 = min(nx_0 + size, complete_image.shape[1])\n",
    "    ny_1 = min(ny_0 + size, complete_image.shape[0])\n",
    "    #roi_type = shape['type'].split(':')[-1]\n",
    "    roi_file = os.path.join(output_dir, str(shapeid)+'.png')\n",
    "    cropped_image = complete_image[ny_0:ny_1, nx_0: nx_1,:]\n",
    "    imageio.imwrite(roi_file, cropped_image)    \n",
    "    \n",
    "def rbc_segmentation(img, outputdir=None):\n",
    "    gray = cv2.cvtColor(img,cv2.COLOR_BGR2GRAY)\n",
    "    gray = cv2.GaussianBlur(gray,(5,5),0)\n",
    "    ret, thresh = cv2.threshold(gray, 127, 255,cv2.THRESH_BINARY_INV+cv2.THRESH_OTSU)\n",
    "    kernel = np.ones((3,3),np.uint8)\n",
    "    opening = cv2.morphologyEx(thresh,cv2.MORPH_OPEN,kernel, iterations = 2)\n",
    "    sure_bg = cv2.dilate(opening,kernel,iterations=2)\n",
    "    dist_transform = cv2.distanceTransform(opening,cv2.DIST_L2,5)\n",
    "    ret, sure_fg = cv2.threshold(dist_transform,0.3*dist_transform.max(),255,0)\n",
    "    sure_fg = np.uint8(sure_fg)\n",
    "    unknown = cv2.subtract(sure_bg,sure_fg)\n",
    "    ret, markers = cv2.connectedComponents(sure_fg)\n",
    "    markers = markers+1\n",
    "    markers[unknown==255] = 0\n",
    "\n",
    "    markers = cv2.watershed(img,markers)\n",
    "    bw=(markers>1).astype(int)\n",
    "    bw=binary_fill_holes(bw).astype(np.uint8)\n",
    "    #img[markers == -1] = [255,0,0]\n",
    "    bw_clean=morphology.remove_small_objects(bw.astype(bool), min_size=5000, connectivity=4).astype(np.uint8)\n",
    "    rbc_gone = 255*remove_small_objects(bw_clean.astype(bool), min_size=17000, connectivity=4).astype(np.uint8)\n",
    "    rbc_only = cv2.subtract(255*bw_clean, rbc_gone)\n",
    "    #cv2.imwrite(outputdir +'.jpg', img)\n",
    "    return rbc_only\n",
    "\n",
    "\n",
    "def chop_thumbnails(image, output_dir, current_shapeid=0):\n",
    "    shapeid = current_shapeid\n",
    "\n",
    "\n",
    "    mp_masks=rbc_segmentation(image)\n",
    "    \n",
    "    output  = cv2.connectedComponentsWithStats(mp_masks, connectivity=8)\n",
    "#    num_labels = output[0]\n",
    "#    labels = output[1]\n",
    "#    stats = output[2]\n",
    "    centroids = output[3]    \n",
    "#                \n",
    "    for c in centroids:\n",
    "        crop_and_save3(image, c, shapeid, output_dir)\n",
    "        shapeid=shapeid+1\n",
    "                \n",
    "               \n",
    "    return shapeid"
   ]
  },
  {
   "attachments": {},
   "cell_type": "markdown",
   "metadata": {},
   "source": [
    "Segment and isolate non sma RBCs"
   ]
  },
  {
   "cell_type": "code",
   "execution_count": 6,
   "metadata": {},
   "outputs": [
    {
     "name": "stderr",
     "output_type": "stream",
     "text": [
      "Processing images:   0%|          | 0/16 [00:00<?, ?it/s]"
     ]
    },
    {
     "name": "stderr",
     "output_type": "stream",
     "text": [
      "Processing images:   6%|▋         | 1/16 [00:01<00:26,  1.78s/it]"
     ]
    },
    {
     "name": "stdout",
     "output_type": "stream",
     "text": [
      "Image non-sma_6_EDOF_RGB.tiff processed. Total shapes extracted: 80\n"
     ]
    },
    {
     "name": "stderr",
     "output_type": "stream",
     "text": [
      "Processing images:  12%|█▎        | 2/16 [00:03<00:24,  1.76s/it]"
     ]
    },
    {
     "name": "stdout",
     "output_type": "stream",
     "text": [
      "Image non-sma_2_EDOF_RGB.tiff processed. Total shapes extracted: 135\n"
     ]
    },
    {
     "name": "stderr",
     "output_type": "stream",
     "text": [
      "Processing images:  19%|█▉        | 3/16 [00:05<00:22,  1.75s/it]"
     ]
    },
    {
     "name": "stdout",
     "output_type": "stream",
     "text": [
      "Image non-sma_5_EDOF_RGB.tiff processed. Total shapes extracted: 158\n"
     ]
    },
    {
     "name": "stderr",
     "output_type": "stream",
     "text": [
      "Processing images:  25%|██▌       | 4/16 [00:07<00:23,  2.00s/it]"
     ]
    },
    {
     "name": "stdout",
     "output_type": "stream",
     "text": [
      "Image non-sma_1_EDOF_RGB.tiff processed. Total shapes extracted: 174\n"
     ]
    },
    {
     "name": "stderr",
     "output_type": "stream",
     "text": [
      "Processing images:  31%|███▏      | 5/16 [00:09<00:22,  2.02s/it]"
     ]
    },
    {
     "name": "stdout",
     "output_type": "stream",
     "text": [
      "Image non-sma_16_EDOF_RGB.tiff processed. Total shapes extracted: 118\n"
     ]
    },
    {
     "name": "stderr",
     "output_type": "stream",
     "text": [
      "Processing images:  38%|███▊      | 6/16 [00:11<00:18,  1.89s/it]"
     ]
    },
    {
     "name": "stdout",
     "output_type": "stream",
     "text": [
      "Image non-sma_12_EDOF_RGB.tiff processed. Total shapes extracted: 126\n"
     ]
    },
    {
     "name": "stderr",
     "output_type": "stream",
     "text": [
      "Processing images:  44%|████▍     | 7/16 [00:13<00:17,  1.94s/it]"
     ]
    },
    {
     "name": "stdout",
     "output_type": "stream",
     "text": [
      "Image non-sma_8_EDOF_RGB.tiff processed. Total shapes extracted: 144\n"
     ]
    },
    {
     "name": "stderr",
     "output_type": "stream",
     "text": [
      "Processing images:  50%|█████     | 8/16 [00:14<00:13,  1.69s/it]"
     ]
    },
    {
     "name": "stdout",
     "output_type": "stream",
     "text": [
      "Image non-sma_15_EDOF_RGB.tiff processed. Total shapes extracted: 38\n"
     ]
    },
    {
     "name": "stderr",
     "output_type": "stream",
     "text": [
      "Processing images:  56%|█████▋    | 9/16 [00:16<00:11,  1.70s/it]"
     ]
    },
    {
     "name": "stdout",
     "output_type": "stream",
     "text": [
      "Image non-sma_11_EDOF_RGB.tiff processed. Total shapes extracted: 153\n"
     ]
    },
    {
     "name": "stderr",
     "output_type": "stream",
     "text": [
      "Processing images:  62%|██████▎   | 10/16 [00:18<00:11,  1.98s/it]"
     ]
    },
    {
     "name": "stdout",
     "output_type": "stream",
     "text": [
      "Image non-sma_10_EDOF_RGB.tiff processed. Total shapes extracted: 199\n"
     ]
    },
    {
     "name": "stderr",
     "output_type": "stream",
     "text": [
      "Processing images:  69%|██████▉   | 11/16 [00:20<00:09,  1.97s/it]"
     ]
    },
    {
     "name": "stdout",
     "output_type": "stream",
     "text": [
      "Image non-sma_14_EDOF_RGB.tiff processed. Total shapes extracted: 175\n"
     ]
    },
    {
     "name": "stderr",
     "output_type": "stream",
     "text": [
      "Processing images:  75%|███████▌  | 12/16 [00:23<00:08,  2.14s/it]"
     ]
    },
    {
     "name": "stdout",
     "output_type": "stream",
     "text": [
      "Image non-sma_9_EDOF_RGB.tiff processed. Total shapes extracted: 133\n"
     ]
    },
    {
     "name": "stderr",
     "output_type": "stream",
     "text": [
      "Processing images:  81%|████████▏ | 13/16 [00:25<00:06,  2.07s/it]"
     ]
    },
    {
     "name": "stdout",
     "output_type": "stream",
     "text": [
      "Image non-sma_13_EDOF_RGB.tiff processed. Total shapes extracted: 182\n"
     ]
    },
    {
     "name": "stderr",
     "output_type": "stream",
     "text": [
      "Processing images:  88%|████████▊ | 14/16 [00:26<00:03,  1.89s/it]"
     ]
    },
    {
     "name": "stdout",
     "output_type": "stream",
     "text": [
      "Image non-sma_4_EDOF_RGB.tiff processed. Total shapes extracted: 125\n"
     ]
    },
    {
     "name": "stderr",
     "output_type": "stream",
     "text": [
      "Processing images:  94%|█████████▍| 15/16 [00:28<00:01,  1.90s/it]"
     ]
    },
    {
     "name": "stdout",
     "output_type": "stream",
     "text": [
      "Image non-sma_3_EDOF_RGB.tiff processed. Total shapes extracted: 150\n"
     ]
    },
    {
     "name": "stderr",
     "output_type": "stream",
     "text": [
      "Processing images: 100%|██████████| 16/16 [00:31<00:00,  1.95s/it]"
     ]
    },
    {
     "name": "stdout",
     "output_type": "stream",
     "text": [
      "Image non-sma_7_EDOF_RGB.tiff processed. Total shapes extracted: 203\n",
      "All images processed successfully.\n"
     ]
    },
    {
     "name": "stderr",
     "output_type": "stream",
     "text": [
      "\n"
     ]
    }
   ],
   "source": [
    "# Function for RBC segmentation and thumbnail extraction\n",
    "def process_image(image, output_dir):\n",
    "    # Perform RBC segmentation\n",
    "    rbc_only = rbc_segmentation(image)\n",
    "    \n",
    "    # Create output directory if it doesn't exist\n",
    "    if not os.path.exists(output_dir):\n",
    "        os.makedirs(output_dir)\n",
    "    \n",
    "    # Perform thumbnail extraction\n",
    "    shapeid = chop_thumbnails(image, output_dir)\n",
    "    \n",
    "    return shapeid\n",
    "\n",
    "# Define input and output directories\n",
    "current_dir = os.getcwd()\n",
    "input_relative_path='Yu-SMA/non-sma-images'\n",
    "output_relative_path = 'rbc_non_sma'\n",
    "input_dir = os.path.join(current_dir, input_relative_path)\n",
    "output_dir = os.path.join(current_dir, output_relative_path)\n",
    "\n",
    "# Create output directory if it doesn't exist\n",
    "if not os.path.exists(output_dir):\n",
    "    os.makedirs(output_dir)\n",
    "\n",
    "# Get a list of image files in the input directory\n",
    "image_files = [file for file in os.listdir(input_dir) if file.endswith('.tiff') or file.endswith('.png')]\n",
    "\n",
    "# Process each image\n",
    "for image_file in tqdm(image_files, desc='Processing images'):\n",
    "    # Read the image\n",
    "    image_path = os.path.join(input_dir, image_file)\n",
    "    image = cv2.imread(image_path)\n",
    "    \n",
    "    if image is not None:\n",
    "        # Process the image\n",
    "        shapeid = process_image(image, output_dir)\n",
    "        \n",
    "        print(f\"Image {image_file} processed. Total shapes extracted: {shapeid}\")\n",
    "\n",
    "print(\"All images processed successfully.\")\n"
   ]
  },
  {
   "attachments": {},
   "cell_type": "markdown",
   "metadata": {},
   "source": [
    "Segment and isolate sma RBCs"
   ]
  },
  {
   "cell_type": "code",
   "execution_count": 7,
   "metadata": {},
   "outputs": [
    {
     "name": "stderr",
     "output_type": "stream",
     "text": [
      "Processing images:   6%|▌         | 1/17 [00:01<00:30,  1.88s/it]"
     ]
    },
    {
     "name": "stdout",
     "output_type": "stream",
     "text": [
      "Image sma_11_EDOF_RGB.tiff processed. Total shapes extracted: 134\n"
     ]
    },
    {
     "name": "stderr",
     "output_type": "stream",
     "text": [
      "Processing images:  12%|█▏        | 2/17 [00:03<00:27,  1.81s/it]"
     ]
    },
    {
     "name": "stdout",
     "output_type": "stream",
     "text": [
      "Image sma_15_EDOF_RGB.tiff processed. Total shapes extracted: 116\n"
     ]
    },
    {
     "name": "stderr",
     "output_type": "stream",
     "text": [
      "Processing images:  18%|█▊        | 3/17 [00:05<00:23,  1.71s/it]"
     ]
    },
    {
     "name": "stdout",
     "output_type": "stream",
     "text": [
      "Image sma_8_EDOF_RGB.tiff processed. Total shapes extracted: 57\n"
     ]
    },
    {
     "name": "stderr",
     "output_type": "stream",
     "text": [
      "Processing images:  24%|██▎       | 4/17 [00:06<00:21,  1.62s/it]"
     ]
    },
    {
     "name": "stdout",
     "output_type": "stream",
     "text": [
      "Image sma_12_EDOF_RGB.tiff processed. Total shapes extracted: 99\n"
     ]
    },
    {
     "name": "stderr",
     "output_type": "stream",
     "text": [
      "Processing images:  29%|██▉       | 5/17 [00:08<00:19,  1.64s/it]"
     ]
    },
    {
     "name": "stdout",
     "output_type": "stream",
     "text": [
      "Image sma_16_EDOF_RGB.tiff processed. Total shapes extracted: 117\n"
     ]
    },
    {
     "name": "stderr",
     "output_type": "stream",
     "text": [
      "Processing images:  35%|███▌      | 6/17 [00:09<00:17,  1.57s/it]"
     ]
    },
    {
     "name": "stdout",
     "output_type": "stream",
     "text": [
      "Image sma_2_EDOF_RGB.tiff processed. Total shapes extracted: 60\n"
     ]
    },
    {
     "name": "stderr",
     "output_type": "stream",
     "text": [
      "Processing images:  41%|████      | 7/17 [00:10<00:13,  1.36s/it]"
     ]
    },
    {
     "name": "stdout",
     "output_type": "stream",
     "text": [
      "Image sma_6_EDOF_RGB.tiff processed. Total shapes extracted: 1\n"
     ]
    },
    {
     "name": "stderr",
     "output_type": "stream",
     "text": [
      "Processing images:  47%|████▋     | 8/17 [00:11<00:11,  1.32s/it]"
     ]
    },
    {
     "name": "stdout",
     "output_type": "stream",
     "text": [
      "Image sma_1_EDOF_RGB.tiff processed. Total shapes extracted: 61\n"
     ]
    },
    {
     "name": "stderr",
     "output_type": "stream",
     "text": [
      "Processing images:  53%|█████▎    | 9/17 [00:13<00:09,  1.23s/it]"
     ]
    },
    {
     "name": "stdout",
     "output_type": "stream",
     "text": [
      "Image sma_5_EDOF_RGB.tiff processed. Total shapes extracted: 1\n"
     ]
    },
    {
     "name": "stderr",
     "output_type": "stream",
     "text": [
      "Processing images:  59%|█████▉    | 10/17 [00:14<00:09,  1.29s/it]"
     ]
    },
    {
     "name": "stdout",
     "output_type": "stream",
     "text": [
      "Image sma_4_EDOF_RGB.tiff processed. Total shapes extracted: 90\n"
     ]
    },
    {
     "name": "stderr",
     "output_type": "stream",
     "text": [
      "Processing images:  65%|██████▍   | 11/17 [00:15<00:07,  1.20s/it]"
     ]
    },
    {
     "name": "stdout",
     "output_type": "stream",
     "text": [
      "Image sma_7_EDOF_RGB.tiff processed. Total shapes extracted: 39\n"
     ]
    },
    {
     "name": "stderr",
     "output_type": "stream",
     "text": [
      "Processing images:  71%|███████   | 12/17 [00:17<00:06,  1.34s/it]"
     ]
    },
    {
     "name": "stdout",
     "output_type": "stream",
     "text": [
      "Image sma_3_EDOF_RGB.tiff processed. Total shapes extracted: 118\n"
     ]
    },
    {
     "name": "stderr",
     "output_type": "stream",
     "text": [
      "Processing images:  76%|███████▋  | 13/17 [00:18<00:05,  1.44s/it]"
     ]
    },
    {
     "name": "stdout",
     "output_type": "stream",
     "text": [
      "Image sma_9_EDOF_RGB.tiff processed. Total shapes extracted: 108\n"
     ]
    },
    {
     "name": "stderr",
     "output_type": "stream",
     "text": [
      "Processing images:  82%|████████▏ | 14/17 [00:20<00:04,  1.44s/it]"
     ]
    },
    {
     "name": "stdout",
     "output_type": "stream",
     "text": [
      "Image sma_17_EDOF_RGB.tiff processed. Total shapes extracted: 75\n"
     ]
    },
    {
     "name": "stderr",
     "output_type": "stream",
     "text": [
      "Processing images:  88%|████████▊ | 15/17 [00:21<00:03,  1.52s/it]"
     ]
    },
    {
     "name": "stdout",
     "output_type": "stream",
     "text": [
      "Image sma_13_EDOF_RGB.tiff processed. Total shapes extracted: 141\n"
     ]
    },
    {
     "name": "stderr",
     "output_type": "stream",
     "text": [
      "Processing images:  94%|█████████▍| 16/17 [00:23<00:01,  1.67s/it]"
     ]
    },
    {
     "name": "stdout",
     "output_type": "stream",
     "text": [
      "Image sma_14_EDOF_RGB.tiff processed. Total shapes extracted: 150\n"
     ]
    },
    {
     "name": "stderr",
     "output_type": "stream",
     "text": [
      "Processing images: 100%|██████████| 17/17 [00:25<00:00,  1.47s/it]"
     ]
    },
    {
     "name": "stdout",
     "output_type": "stream",
     "text": [
      "Image sma_10_EDOF_RGB.tiff processed. Total shapes extracted: 48\n",
      "All images processed successfully.\n"
     ]
    },
    {
     "name": "stderr",
     "output_type": "stream",
     "text": [
      "\n"
     ]
    }
   ],
   "source": [
    "# Function for RBC segmentation and thumbnail extraction\n",
    "def process_image(image, output_dir):\n",
    "    # Perform RBC segmentation\n",
    "    rbc_only = rbc_segmentation(image)\n",
    "    \n",
    "    # Create output directory if it doesn't exist\n",
    "    if not os.path.exists(output_dir):\n",
    "        os.makedirs(output_dir)\n",
    "    \n",
    "    # Perform thumbnail extraction\n",
    "    shapeid = chop_thumbnails(image, output_dir)\n",
    "    \n",
    "    return shapeid\n",
    "\n",
    "# Define input and output directories\n",
    "current_dir = os.getcwd()\n",
    "input_relative_path='Yu-SMA/sma-images'\n",
    "output_relative_path = 'rbc_sma'\n",
    "input_dir = os.path.join(current_dir, input_relative_path)\n",
    "output_dir = os.path.join(current_dir, output_relative_path)\n",
    "\n",
    "# Create output directory if it doesn't exist\n",
    "if not os.path.exists(output_dir):\n",
    "    os.makedirs(output_dir)\n",
    "\n",
    "# Get a list of image files in the input directory\n",
    "image_files = [file for file in os.listdir(input_dir) if file.endswith('.tiff') or file.endswith('.png')]\n",
    "\n",
    "# Process each image\n",
    "for image_file in tqdm(image_files, desc='Processing images'):\n",
    "    # Read the image\n",
    "    image_path = os.path.join(input_dir, image_file)\n",
    "    image = cv2.imread(image_path)\n",
    "    \n",
    "    if image is not None:\n",
    "        # Process the image\n",
    "        shapeid = process_image(image, output_dir)\n",
    "        \n",
    "        print(f\"Image {image_file} processed. Total shapes extracted: {shapeid}\")\n",
    "\n",
    "print(\"All images processed successfully.\")\n"
   ]
  },
  {
   "cell_type": "code",
   "execution_count": 6,
   "metadata": {},
   "outputs": [
    {
     "name": "stderr",
     "output_type": "stream",
     "text": [
      "Processing folders:   0%|          | 0/97 [00:00<?, ?it/s]"
     ]
    },
    {
     "name": "stdout",
     "output_type": "stream",
     "text": [
      "Image pos009_EDOF_RGB.tiff processed. Total shapes extracted: 162\n"
     ]
    },
    {
     "name": "stderr",
     "output_type": "stream",
     "text": []
    },
    {
     "name": "stdout",
     "output_type": "stream",
     "text": [
      "Image pos003_EDOF_RGB.tiff processed. Total shapes extracted: 193\n"
     ]
    },
    {
     "name": "stderr",
     "output_type": "stream",
     "text": []
    },
    {
     "name": "stdout",
     "output_type": "stream",
     "text": [
      "Image pos007_EDOF_RGB.tiff processed. Total shapes extracted: 161\n"
     ]
    },
    {
     "name": "stderr",
     "output_type": "stream",
     "text": []
    },
    {
     "name": "stdout",
     "output_type": "stream",
     "text": [
      "Image pos000_EDOF_RGB.tiff processed. Total shapes extracted: 52\n"
     ]
    },
    {
     "name": "stderr",
     "output_type": "stream",
     "text": []
    },
    {
     "name": "stdout",
     "output_type": "stream",
     "text": [
      "Image pos004_EDOF_RGB.tiff processed. Total shapes extracted: 174\n"
     ]
    },
    {
     "name": "stderr",
     "output_type": "stream",
     "text": []
    },
    {
     "name": "stdout",
     "output_type": "stream",
     "text": [
      "Image pos005_EDOF_RGB.tiff processed. Total shapes extracted: 167\n"
     ]
    },
    {
     "name": "stderr",
     "output_type": "stream",
     "text": []
    },
    {
     "name": "stdout",
     "output_type": "stream",
     "text": [
      "Image pos001_EDOF_RGB.tiff processed. Total shapes extracted: 56\n"
     ]
    },
    {
     "name": "stderr",
     "output_type": "stream",
     "text": []
    },
    {
     "name": "stdout",
     "output_type": "stream",
     "text": [
      "Image pos006_EDOF_RGB.tiff processed. Total shapes extracted: 149\n"
     ]
    },
    {
     "name": "stderr",
     "output_type": "stream",
     "text": []
    },
    {
     "name": "stdout",
     "output_type": "stream",
     "text": [
      "Image pos002_EDOF_RGB.tiff processed. Total shapes extracted: 119\n"
     ]
    },
    {
     "name": "stderr",
     "output_type": "stream",
     "text": [
      "Processing images in folder 091018-04: 100%|██████████| 10/10 [00:34<00:00,  3.49s/it]\n",
      "Processing folders:   1%|          | 1/97 [00:34<55:49, 34.89s/it]"
     ]
    },
    {
     "name": "stdout",
     "output_type": "stream",
     "text": [
      "Image pos008_EDOF_RGB.tiff processed. Total shapes extracted: 152\n"
     ]
    },
    {
     "name": "stderr",
     "output_type": "stream",
     "text": []
    },
    {
     "name": "stdout",
     "output_type": "stream",
     "text": [
      "Image pos009_EDOF_RGB.tiff processed. Total shapes extracted: 103\n"
     ]
    },
    {
     "name": "stderr",
     "output_type": "stream",
     "text": []
    },
    {
     "name": "stdout",
     "output_type": "stream",
     "text": [
      "Image pos003_EDOF_RGB.tiff processed. Total shapes extracted: 103\n"
     ]
    },
    {
     "name": "stderr",
     "output_type": "stream",
     "text": []
    },
    {
     "name": "stdout",
     "output_type": "stream",
     "text": [
      "Image pos007_EDOF_RGB.tiff processed. Total shapes extracted: 113\n"
     ]
    },
    {
     "name": "stderr",
     "output_type": "stream",
     "text": []
    },
    {
     "name": "stdout",
     "output_type": "stream",
     "text": [
      "Image pos000_EDOF_RGB.tiff processed. Total shapes extracted: 115\n"
     ]
    },
    {
     "name": "stderr",
     "output_type": "stream",
     "text": []
    },
    {
     "name": "stdout",
     "output_type": "stream",
     "text": [
      "Image pos004_EDOF_RGB.tiff processed. Total shapes extracted: 128\n"
     ]
    },
    {
     "name": "stderr",
     "output_type": "stream",
     "text": []
    },
    {
     "name": "stdout",
     "output_type": "stream",
     "text": [
      "Image pos005_EDOF_RGB.tiff processed. Total shapes extracted: 127\n"
     ]
    },
    {
     "name": "stderr",
     "output_type": "stream",
     "text": []
    },
    {
     "name": "stdout",
     "output_type": "stream",
     "text": [
      "Image pos001_EDOF_RGB.tiff processed. Total shapes extracted: 117\n"
     ]
    },
    {
     "name": "stderr",
     "output_type": "stream",
     "text": []
    },
    {
     "name": "stdout",
     "output_type": "stream",
     "text": [
      "Image pos006_EDOF_RGB.tiff processed. Total shapes extracted: 108\n"
     ]
    },
    {
     "name": "stderr",
     "output_type": "stream",
     "text": []
    },
    {
     "name": "stdout",
     "output_type": "stream",
     "text": [
      "Image pos002_EDOF_RGB.tiff processed. Total shapes extracted: 144\n"
     ]
    },
    {
     "name": "stderr",
     "output_type": "stream",
     "text": [
      "Processing images in folder 060619-08: 100%|██████████| 10/10 [00:29<00:00,  2.97s/it]\n",
      "Processing folders:   2%|▏         | 2/97 [01:04<50:26, 31.85s/it]"
     ]
    },
    {
     "name": "stdout",
     "output_type": "stream",
     "text": [
      "Image pos008_EDOF_RGB.tiff processed. Total shapes extracted: 87\n"
     ]
    },
    {
     "name": "stderr",
     "output_type": "stream",
     "text": []
    },
    {
     "name": "stdout",
     "output_type": "stream",
     "text": [
      "Image pos001_EDOF_DENISOVAN_RGB.tiff processed. Total shapes extracted: 124\n"
     ]
    },
    {
     "name": "stderr",
     "output_type": "stream",
     "text": []
    },
    {
     "name": "stdout",
     "output_type": "stream",
     "text": [
      "Image pos005_EDOF_DENISOVAN_RGB.tiff processed. Total shapes extracted: 162\n"
     ]
    },
    {
     "name": "stderr",
     "output_type": "stream",
     "text": []
    },
    {
     "name": "stdout",
     "output_type": "stream",
     "text": [
      "Image pos006_EDOF_DENISOVAN_RGB.tiff processed. Total shapes extracted: 134\n"
     ]
    },
    {
     "name": "stderr",
     "output_type": "stream",
     "text": []
    },
    {
     "name": "stdout",
     "output_type": "stream",
     "text": [
      "Image pos009_EDOF_DENISOVAN_RGB.tiff processed. Total shapes extracted: 172\n"
     ]
    },
    {
     "name": "stderr",
     "output_type": "stream",
     "text": []
    },
    {
     "name": "stdout",
     "output_type": "stream",
     "text": [
      "Image pos002_EDOF_DENISOVAN_RGB.tiff processed. Total shapes extracted: 117\n"
     ]
    },
    {
     "name": "stderr",
     "output_type": "stream",
     "text": []
    },
    {
     "name": "stdout",
     "output_type": "stream",
     "text": [
      "Image pos004_EDOF_DENISOVAN_RGB.tiff processed. Total shapes extracted: 183\n"
     ]
    },
    {
     "name": "stderr",
     "output_type": "stream",
     "text": []
    },
    {
     "name": "stdout",
     "output_type": "stream",
     "text": [
      "Image pos000_EDOF_DENISOVAN_RGB.tiff processed. Total shapes extracted: 38\n"
     ]
    },
    {
     "name": "stderr",
     "output_type": "stream",
     "text": []
    },
    {
     "name": "stdout",
     "output_type": "stream",
     "text": [
      "Image pos003_EDOF_DENISOVAN_RGB.tiff processed. Total shapes extracted: 196\n"
     ]
    },
    {
     "name": "stderr",
     "output_type": "stream",
     "text": []
    },
    {
     "name": "stdout",
     "output_type": "stream",
     "text": [
      "Image pos008_EDOF_DENISOVAN_RGB.tiff processed. Total shapes extracted: 159\n"
     ]
    },
    {
     "name": "stderr",
     "output_type": "stream",
     "text": [
      "Processing images in folder 300919-4r1: 100%|██████████| 10/10 [00:30<00:00,  3.01s/it]\n",
      "Processing folders:   3%|▎         | 3/97 [01:34<48:38, 31.05s/it]"
     ]
    },
    {
     "name": "stdout",
     "output_type": "stream",
     "text": [
      "Image pos007_EDOF_DENISOVAN_RGB.tiff processed. Total shapes extracted: 166\n"
     ]
    },
    {
     "name": "stderr",
     "output_type": "stream",
     "text": []
    },
    {
     "name": "stdout",
     "output_type": "stream",
     "text": [
      "Image pos009_EDOF_RGB.tiff processed. Total shapes extracted: 173\n"
     ]
    },
    {
     "name": "stderr",
     "output_type": "stream",
     "text": []
    },
    {
     "name": "stdout",
     "output_type": "stream",
     "text": [
      "Image pos003_EDOF_RGB.tiff processed. Total shapes extracted: 193\n"
     ]
    },
    {
     "name": "stderr",
     "output_type": "stream",
     "text": []
    },
    {
     "name": "stdout",
     "output_type": "stream",
     "text": [
      "Image pos007_EDOF_RGB.tiff processed. Total shapes extracted: 163\n"
     ]
    },
    {
     "name": "stderr",
     "output_type": "stream",
     "text": []
    },
    {
     "name": "stdout",
     "output_type": "stream",
     "text": [
      "Image pos000_EDOF_RGB.tiff processed. Total shapes extracted: 149\n"
     ]
    },
    {
     "name": "stderr",
     "output_type": "stream",
     "text": []
    },
    {
     "name": "stdout",
     "output_type": "stream",
     "text": [
      "Image pos004_EDOF_RGB.tiff processed. Total shapes extracted: 199\n"
     ]
    },
    {
     "name": "stderr",
     "output_type": "stream",
     "text": []
    },
    {
     "name": "stdout",
     "output_type": "stream",
     "text": [
      "Image pos005_EDOF_RGB.tiff processed. Total shapes extracted: 121\n"
     ]
    },
    {
     "name": "stderr",
     "output_type": "stream",
     "text": []
    },
    {
     "name": "stdout",
     "output_type": "stream",
     "text": [
      "Image pos001_EDOF_RGB.tiff processed. Total shapes extracted: 165\n"
     ]
    },
    {
     "name": "stderr",
     "output_type": "stream",
     "text": []
    },
    {
     "name": "stdout",
     "output_type": "stream",
     "text": [
      "Image pos006_EDOF_RGB.tiff processed. Total shapes extracted: 172\n"
     ]
    },
    {
     "name": "stderr",
     "output_type": "stream",
     "text": []
    },
    {
     "name": "stdout",
     "output_type": "stream",
     "text": [
      "Image pos002_EDOF_RGB.tiff processed. Total shapes extracted: 193\n"
     ]
    },
    {
     "name": "stderr",
     "output_type": "stream",
     "text": [
      "Processing images in folder 300519-16: 100%|██████████| 10/10 [00:36<00:00,  3.60s/it]\n",
      "Processing folders:   4%|▍         | 4/97 [02:10<51:10, 33.02s/it]"
     ]
    },
    {
     "name": "stdout",
     "output_type": "stream",
     "text": [
      "Image pos008_EDOF_RGB.tiff processed. Total shapes extracted: 172\n"
     ]
    },
    {
     "name": "stderr",
     "output_type": "stream",
     "text": []
    },
    {
     "name": "stdout",
     "output_type": "stream",
     "text": [
      "Image pos003_EDOF_RGB.tiff processed. Total shapes extracted: 5\n"
     ]
    },
    {
     "name": "stderr",
     "output_type": "stream",
     "text": []
    },
    {
     "name": "stdout",
     "output_type": "stream",
     "text": [
      "Image pos000_EDOF_RGB.tiff processed. Total shapes extracted: 7\n"
     ]
    },
    {
     "name": "stderr",
     "output_type": "stream",
     "text": []
    },
    {
     "name": "stdout",
     "output_type": "stream",
     "text": [
      "Image pos001_EDOF_RGB.tiff processed. Total shapes extracted: 9\n"
     ]
    },
    {
     "name": "stderr",
     "output_type": "stream",
     "text": [
      "Processing images in folder 010218-15: 100%|██████████| 4/4 [00:05<00:00,  1.28s/it]\n",
      "Processing folders:   5%|▌         | 5/97 [02:15<35:12, 22.97s/it]"
     ]
    },
    {
     "name": "stdout",
     "output_type": "stream",
     "text": [
      "Image pos002_EDOF_RGB.tiff processed. Total shapes extracted: 6\n"
     ]
    },
    {
     "name": "stderr",
     "output_type": "stream",
     "text": []
    },
    {
     "name": "stdout",
     "output_type": "stream",
     "text": [
      "Image pos009_EDOF_RGB.tiff processed. Total shapes extracted: 144\n"
     ]
    },
    {
     "name": "stderr",
     "output_type": "stream",
     "text": []
    },
    {
     "name": "stdout",
     "output_type": "stream",
     "text": [
      "Image pos003_EDOF_RGB.tiff processed. Total shapes extracted: 117\n"
     ]
    },
    {
     "name": "stderr",
     "output_type": "stream",
     "text": []
    },
    {
     "name": "stdout",
     "output_type": "stream",
     "text": [
      "Image pos010_EDOF_RGB.tiff processed. Total shapes extracted: 123\n"
     ]
    },
    {
     "name": "stderr",
     "output_type": "stream",
     "text": []
    },
    {
     "name": "stdout",
     "output_type": "stream",
     "text": [
      "Image pos007_EDOF_RGB.tiff processed. Total shapes extracted: 128\n"
     ]
    },
    {
     "name": "stderr",
     "output_type": "stream",
     "text": []
    },
    {
     "name": "stdout",
     "output_type": "stream",
     "text": [
      "Image pos000_EDOF_RGB.tiff processed. Total shapes extracted: 123\n"
     ]
    },
    {
     "name": "stderr",
     "output_type": "stream",
     "text": []
    },
    {
     "name": "stdout",
     "output_type": "stream",
     "text": [
      "Image pos004_EDOF_RGB.tiff processed. Total shapes extracted: 128\n"
     ]
    },
    {
     "name": "stderr",
     "output_type": "stream",
     "text": []
    },
    {
     "name": "stdout",
     "output_type": "stream",
     "text": [
      "Image pos005_EDOF_RGB.tiff processed. Total shapes extracted: 132\n"
     ]
    },
    {
     "name": "stderr",
     "output_type": "stream",
     "text": []
    },
    {
     "name": "stdout",
     "output_type": "stream",
     "text": [
      "Image pos001_EDOF_RGB.tiff processed. Total shapes extracted: 127\n"
     ]
    },
    {
     "name": "stderr",
     "output_type": "stream",
     "text": []
    },
    {
     "name": "stdout",
     "output_type": "stream",
     "text": [
      "Image pos006_EDOF_RGB.tiff processed. Total shapes extracted: 126\n"
     ]
    },
    {
     "name": "stderr",
     "output_type": "stream",
     "text": []
    },
    {
     "name": "stdout",
     "output_type": "stream",
     "text": [
      "Image pos002_EDOF_RGB.tiff processed. Total shapes extracted: 123\n"
     ]
    },
    {
     "name": "stderr",
     "output_type": "stream",
     "text": [
      "Processing images in folder 111218-65: 100%|██████████| 11/11 [00:34<00:00,  3.18s/it]\n",
      "Processing folders:   6%|▌         | 6/97 [02:50<41:01, 27.05s/it]"
     ]
    },
    {
     "name": "stdout",
     "output_type": "stream",
     "text": [
      "Image pos008_EDOF_RGB.tiff processed. Total shapes extracted: 153\n"
     ]
    },
    {
     "name": "stderr",
     "output_type": "stream",
     "text": []
    },
    {
     "name": "stdout",
     "output_type": "stream",
     "text": [
      "Image pos009_EDOF_RGB.tiff processed. Total shapes extracted: 54\n"
     ]
    },
    {
     "name": "stderr",
     "output_type": "stream",
     "text": []
    },
    {
     "name": "stdout",
     "output_type": "stream",
     "text": [
      "Image pos003_EDOF_RGB.tiff processed. Total shapes extracted: 81\n"
     ]
    },
    {
     "name": "stderr",
     "output_type": "stream",
     "text": []
    },
    {
     "name": "stdout",
     "output_type": "stream",
     "text": [
      "Image pos007_EDOF_RGB.tiff processed. Total shapes extracted: 70\n"
     ]
    },
    {
     "name": "stderr",
     "output_type": "stream",
     "text": []
    },
    {
     "name": "stdout",
     "output_type": "stream",
     "text": [
      "Image pos000_EDOF_RGB.tiff processed. Total shapes extracted: 100\n"
     ]
    },
    {
     "name": "stderr",
     "output_type": "stream",
     "text": []
    },
    {
     "name": "stdout",
     "output_type": "stream",
     "text": [
      "Image pos004_EDOF_RGB.tiff processed. Total shapes extracted: 73\n"
     ]
    },
    {
     "name": "stderr",
     "output_type": "stream",
     "text": []
    },
    {
     "name": "stdout",
     "output_type": "stream",
     "text": [
      "Image pos005_EDOF_RGB.tiff processed. Total shapes extracted: 79\n"
     ]
    },
    {
     "name": "stderr",
     "output_type": "stream",
     "text": []
    },
    {
     "name": "stdout",
     "output_type": "stream",
     "text": [
      "Image pos001_EDOF_RGB.tiff processed. Total shapes extracted: 101\n"
     ]
    },
    {
     "name": "stderr",
     "output_type": "stream",
     "text": []
    },
    {
     "name": "stdout",
     "output_type": "stream",
     "text": [
      "Image pos006_EDOF_RGB.tiff processed. Total shapes extracted: 90\n"
     ]
    },
    {
     "name": "stderr",
     "output_type": "stream",
     "text": []
    },
    {
     "name": "stdout",
     "output_type": "stream",
     "text": [
      "Image pos002_EDOF_RGB.tiff processed. Total shapes extracted: 83\n"
     ]
    },
    {
     "name": "stderr",
     "output_type": "stream",
     "text": [
      "Processing images in folder 130918-01: 100%|██████████| 10/10 [00:23<00:00,  2.39s/it]\n",
      "Processing folders:   7%|▋         | 7/97 [03:14<39:00, 26.00s/it]"
     ]
    },
    {
     "name": "stdout",
     "output_type": "stream",
     "text": [
      "Image pos008_EDOF_RGB.tiff processed. Total shapes extracted: 92\n"
     ]
    },
    {
     "name": "stderr",
     "output_type": "stream",
     "text": []
    },
    {
     "name": "stdout",
     "output_type": "stream",
     "text": [
      "Image pos009_EDOF_RGB.tiff processed. Total shapes extracted: 170\n"
     ]
    },
    {
     "name": "stderr",
     "output_type": "stream",
     "text": []
    },
    {
     "name": "stdout",
     "output_type": "stream",
     "text": [
      "Image pos003_EDOF_RGB.tiff processed. Total shapes extracted: 125\n"
     ]
    },
    {
     "name": "stderr",
     "output_type": "stream",
     "text": []
    },
    {
     "name": "stdout",
     "output_type": "stream",
     "text": [
      "Image pos007_EDOF_RGB.tiff processed. Total shapes extracted: 168\n"
     ]
    },
    {
     "name": "stderr",
     "output_type": "stream",
     "text": []
    },
    {
     "name": "stdout",
     "output_type": "stream",
     "text": [
      "Image pos000_EDOF_RGB.tiff processed. Total shapes extracted: 70\n"
     ]
    },
    {
     "name": "stderr",
     "output_type": "stream",
     "text": []
    },
    {
     "name": "stdout",
     "output_type": "stream",
     "text": [
      "Image pos004_EDOF_RGB.tiff processed. Total shapes extracted: 188\n"
     ]
    },
    {
     "name": "stderr",
     "output_type": "stream",
     "text": []
    },
    {
     "name": "stdout",
     "output_type": "stream",
     "text": [
      "Image pos005_EDOF_RGB.tiff processed. Total shapes extracted: 172\n"
     ]
    },
    {
     "name": "stderr",
     "output_type": "stream",
     "text": []
    },
    {
     "name": "stdout",
     "output_type": "stream",
     "text": [
      "Image pos001_EDOF_RGB.tiff processed. Total shapes extracted: 92\n"
     ]
    },
    {
     "name": "stderr",
     "output_type": "stream",
     "text": []
    },
    {
     "name": "stdout",
     "output_type": "stream",
     "text": [
      "Image pos006_EDOF_RGB.tiff processed. Total shapes extracted: 72\n"
     ]
    },
    {
     "name": "stderr",
     "output_type": "stream",
     "text": []
    },
    {
     "name": "stdout",
     "output_type": "stream",
     "text": [
      "Image pos002_EDOF_RGB.tiff processed. Total shapes extracted: 86\n"
     ]
    },
    {
     "name": "stderr",
     "output_type": "stream",
     "text": [
      "Processing images in folder 050419-15: 100%|██████████| 10/10 [00:35<00:00,  3.53s/it]\n",
      "Processing folders:   8%|▊         | 8/97 [03:49<42:57, 28.96s/it]"
     ]
    },
    {
     "name": "stdout",
     "output_type": "stream",
     "text": [
      "Image pos008_EDOF_RGB.tiff processed. Total shapes extracted: 136\n"
     ]
    },
    {
     "name": "stderr",
     "output_type": "stream",
     "text": []
    },
    {
     "name": "stdout",
     "output_type": "stream",
     "text": [
      "Image FieldPos336_EDOF_RGB.tiff processed. Total shapes extracted: 136\n"
     ]
    },
    {
     "name": "stderr",
     "output_type": "stream",
     "text": []
    },
    {
     "name": "stdout",
     "output_type": "stream",
     "text": [
      "Image FieldPos321_EDOF_RGB.tiff processed. Total shapes extracted: 136\n"
     ]
    },
    {
     "name": "stderr",
     "output_type": "stream",
     "text": []
    },
    {
     "name": "stdout",
     "output_type": "stream",
     "text": [
      "Image FieldPos318_EDOF_RGB.tiff processed. Total shapes extracted: 170\n"
     ]
    },
    {
     "name": "stderr",
     "output_type": "stream",
     "text": []
    },
    {
     "name": "stdout",
     "output_type": "stream",
     "text": [
      "Image FieldPos281_EDOF_RGB.tiff processed. Total shapes extracted: 54\n"
     ]
    },
    {
     "name": "stderr",
     "output_type": "stream",
     "text": []
    },
    {
     "name": "stdout",
     "output_type": "stream",
     "text": [
      "Image FieldPos356_EDOF_RGB.tiff processed. Total shapes extracted: 84\n"
     ]
    },
    {
     "name": "stderr",
     "output_type": "stream",
     "text": []
    },
    {
     "name": "stdout",
     "output_type": "stream",
     "text": [
      "Image FieldPos451_EDOF_RGB.tiff processed. Total shapes extracted: 148\n"
     ]
    },
    {
     "name": "stderr",
     "output_type": "stream",
     "text": []
    },
    {
     "name": "stdout",
     "output_type": "stream",
     "text": [
      "Image FieldPos322_EDOF_RGB.tiff processed. Total shapes extracted: 151\n"
     ]
    },
    {
     "name": "stderr",
     "output_type": "stream",
     "text": []
    },
    {
     "name": "stdout",
     "output_type": "stream",
     "text": [
      "Image FieldPos432_EDOF_RGB.tiff processed. Total shapes extracted: 119\n"
     ]
    },
    {
     "name": "stderr",
     "output_type": "stream",
     "text": []
    },
    {
     "name": "stdout",
     "output_type": "stream",
     "text": [
      "Image FieldPos412_EDOF_RGB.tiff processed. Total shapes extracted: 109\n"
     ]
    },
    {
     "name": "stderr",
     "output_type": "stream",
     "text": []
    },
    {
     "name": "stdout",
     "output_type": "stream",
     "text": [
      "Image FieldPos302_EDOF_RGB.tiff processed. Total shapes extracted: 109\n"
     ]
    },
    {
     "name": "stderr",
     "output_type": "stream",
     "text": []
    },
    {
     "name": "stdout",
     "output_type": "stream",
     "text": [
      "Image FieldPos278_EDOF_RGB.tiff processed. Total shapes extracted: 116\n"
     ]
    },
    {
     "name": "stderr",
     "output_type": "stream",
     "text": []
    },
    {
     "name": "stdout",
     "output_type": "stream",
     "text": [
      "Image FieldPos395_EDOF_RGB.tiff processed. Total shapes extracted: 112\n"
     ]
    },
    {
     "name": "stderr",
     "output_type": "stream",
     "text": []
    },
    {
     "name": "stdout",
     "output_type": "stream",
     "text": [
      "Image FieldPos448_EDOF_RGB.tiff processed. Total shapes extracted: 118\n"
     ]
    },
    {
     "name": "stderr",
     "output_type": "stream",
     "text": []
    },
    {
     "name": "stdout",
     "output_type": "stream",
     "text": [
      "Image FieldPos375_EDOF_RGB.tiff processed. Total shapes extracted: 75\n"
     ]
    },
    {
     "name": "stderr",
     "output_type": "stream",
     "text": []
    },
    {
     "name": "stdout",
     "output_type": "stream",
     "text": [
      "Image FieldPos362_EDOF_RGB.tiff processed. Total shapes extracted: 137\n"
     ]
    },
    {
     "name": "stderr",
     "output_type": "stream",
     "text": []
    },
    {
     "name": "stdout",
     "output_type": "stream",
     "text": [
      "Image FieldPos385_EDOF_RGB.tiff processed. Total shapes extracted: 142\n"
     ]
    },
    {
     "name": "stderr",
     "output_type": "stream",
     "text": []
    },
    {
     "name": "stdout",
     "output_type": "stream",
     "text": [
      "Image FieldPos363_EDOF_RGB.tiff processed. Total shapes extracted: 136\n"
     ]
    },
    {
     "name": "stderr",
     "output_type": "stream",
     "text": []
    },
    {
     "name": "stdout",
     "output_type": "stream",
     "text": [
      "Image FieldPos374_EDOF_RGB.tiff processed. Total shapes extracted: 146\n"
     ]
    },
    {
     "name": "stderr",
     "output_type": "stream",
     "text": []
    },
    {
     "name": "stdout",
     "output_type": "stream",
     "text": [
      "Image FieldPos414_EDOF_RGB.tiff processed. Total shapes extracted: 113\n"
     ]
    },
    {
     "name": "stderr",
     "output_type": "stream",
     "text": []
    },
    {
     "name": "stdout",
     "output_type": "stream",
     "text": [
      "Image FieldPos384_EDOF_RGB.tiff processed. Total shapes extracted: 122\n"
     ]
    },
    {
     "name": "stderr",
     "output_type": "stream",
     "text": []
    },
    {
     "name": "stdout",
     "output_type": "stream",
     "text": [
      "Image FieldPos413_EDOF_RGB.tiff processed. Total shapes extracted: 143\n"
     ]
    },
    {
     "name": "stderr",
     "output_type": "stream",
     "text": []
    },
    {
     "name": "stdout",
     "output_type": "stream",
     "text": [
      "Image FieldPos404_EDOF_RGB.tiff processed. Total shapes extracted: 160\n"
     ]
    },
    {
     "name": "stderr",
     "output_type": "stream",
     "text": []
    },
    {
     "name": "stdout",
     "output_type": "stream",
     "text": [
      "Image FieldPos449_EDOF_RGB.tiff processed. Total shapes extracted: 104\n"
     ]
    },
    {
     "name": "stderr",
     "output_type": "stream",
     "text": []
    },
    {
     "name": "stdout",
     "output_type": "stream",
     "text": [
      "Image FieldPos450_EDOF_RGB.tiff processed. Total shapes extracted: 101\n"
     ]
    },
    {
     "name": "stderr",
     "output_type": "stream",
     "text": []
    },
    {
     "name": "stdout",
     "output_type": "stream",
     "text": [
      "Image FieldPos447_EDOF_RGB.tiff processed. Total shapes extracted: 136\n"
     ]
    },
    {
     "name": "stderr",
     "output_type": "stream",
     "text": []
    },
    {
     "name": "stdout",
     "output_type": "stream",
     "text": [
      "Image FieldPos469_EDOF_RGB.tiff processed. Total shapes extracted: 88\n"
     ]
    },
    {
     "name": "stderr",
     "output_type": "stream",
     "text": []
    },
    {
     "name": "stdout",
     "output_type": "stream",
     "text": [
      "Image FieldPos357_EDOF_RGB.tiff processed. Total shapes extracted: 148\n"
     ]
    },
    {
     "name": "stderr",
     "output_type": "stream",
     "text": []
    },
    {
     "name": "stdout",
     "output_type": "stream",
     "text": [
      "Image FieldPos344_EDOF_RGB.tiff processed. Total shapes extracted: 133\n"
     ]
    },
    {
     "name": "stderr",
     "output_type": "stream",
     "text": []
    },
    {
     "name": "stdout",
     "output_type": "stream",
     "text": [
      "Image FieldPos433_EDOF_RGB.tiff processed. Total shapes extracted: 140\n"
     ]
    },
    {
     "name": "stderr",
     "output_type": "stream",
     "text": []
    },
    {
     "name": "stdout",
     "output_type": "stream",
     "text": [
      "Image FieldPos434_EDOF_RGB.tiff processed. Total shapes extracted: 140\n"
     ]
    },
    {
     "name": "stderr",
     "output_type": "stream",
     "text": []
    },
    {
     "name": "stdout",
     "output_type": "stream",
     "text": [
      "Image FieldPos430_EDOF_RGB.tiff processed. Total shapes extracted: 86\n"
     ]
    },
    {
     "name": "stderr",
     "output_type": "stream",
     "text": []
    },
    {
     "name": "stdout",
     "output_type": "stream",
     "text": [
      "Image FieldPos427_EDOF_RGB.tiff processed. Total shapes extracted: 147\n"
     ]
    },
    {
     "name": "stderr",
     "output_type": "stream",
     "text": [
      "Processing images in folder 270219-12: 100%|██████████| 33/33 [01:57<00:00,  3.57s/it]\n",
      "Processing folders:   9%|▉         | 9/97 [05:47<1:23:14, 56.76s/it]"
     ]
    },
    {
     "name": "stdout",
     "output_type": "stream",
     "text": [
      "Image FieldPos297_EDOF_RGB.tiff processed. Total shapes extracted: 137\n"
     ]
    },
    {
     "name": "stderr",
     "output_type": "stream",
     "text": []
    },
    {
     "name": "stdout",
     "output_type": "stream",
     "text": [
      "Image pos009_EDOF_RGB.tiff processed. Total shapes extracted: 128\n"
     ]
    },
    {
     "name": "stderr",
     "output_type": "stream",
     "text": []
    },
    {
     "name": "stdout",
     "output_type": "stream",
     "text": [
      "Image pos003_EDOF_RGB.tiff processed. Total shapes extracted: 91\n"
     ]
    },
    {
     "name": "stderr",
     "output_type": "stream",
     "text": []
    },
    {
     "name": "stdout",
     "output_type": "stream",
     "text": [
      "Image pos007_EDOF_RGB.tiff processed. Total shapes extracted: 125\n"
     ]
    },
    {
     "name": "stderr",
     "output_type": "stream",
     "text": []
    },
    {
     "name": "stdout",
     "output_type": "stream",
     "text": [
      "Image pos000_EDOF_RGB.tiff processed. Total shapes extracted: 86\n"
     ]
    },
    {
     "name": "stderr",
     "output_type": "stream",
     "text": []
    },
    {
     "name": "stdout",
     "output_type": "stream",
     "text": [
      "Image pos004_EDOF_RGB.tiff processed. Total shapes extracted: 98\n"
     ]
    },
    {
     "name": "stderr",
     "output_type": "stream",
     "text": []
    },
    {
     "name": "stdout",
     "output_type": "stream",
     "text": [
      "Image pos005_EDOF_RGB.tiff processed. Total shapes extracted: 106\n"
     ]
    },
    {
     "name": "stderr",
     "output_type": "stream",
     "text": []
    },
    {
     "name": "stdout",
     "output_type": "stream",
     "text": [
      "Image pos001_EDOF_RGB.tiff processed. Total shapes extracted: 78\n"
     ]
    },
    {
     "name": "stderr",
     "output_type": "stream",
     "text": []
    },
    {
     "name": "stdout",
     "output_type": "stream",
     "text": [
      "Image pos006_EDOF_RGB.tiff processed. Total shapes extracted: 127\n"
     ]
    },
    {
     "name": "stderr",
     "output_type": "stream",
     "text": []
    },
    {
     "name": "stdout",
     "output_type": "stream",
     "text": [
      "Image pos002_EDOF_RGB.tiff processed. Total shapes extracted: 64\n"
     ]
    },
    {
     "name": "stderr",
     "output_type": "stream",
     "text": [
      "Processing images in folder 300118-1r1: 100%|██████████| 10/10 [00:26<00:00,  2.65s/it]\n",
      "Processing folders:  10%|█         | 10/97 [06:14<1:08:46, 47.43s/it]"
     ]
    },
    {
     "name": "stdout",
     "output_type": "stream",
     "text": [
      "Image pos008_EDOF_RGB.tiff processed. Total shapes extracted: 106\n"
     ]
    },
    {
     "name": "stderr",
     "output_type": "stream",
     "text": []
    },
    {
     "name": "stdout",
     "output_type": "stream",
     "text": [
      "Image pos003_EDOF_RGB.tiff processed. Total shapes extracted: 62\n"
     ]
    },
    {
     "name": "stderr",
     "output_type": "stream",
     "text": []
    },
    {
     "name": "stdout",
     "output_type": "stream",
     "text": [
      "Image pos000_EDOF_RGB.tiff processed. Total shapes extracted: 67\n"
     ]
    },
    {
     "name": "stderr",
     "output_type": "stream",
     "text": []
    },
    {
     "name": "stdout",
     "output_type": "stream",
     "text": [
      "Image pos004_EDOF_RGB.tiff processed. Total shapes extracted: 96\n"
     ]
    },
    {
     "name": "stderr",
     "output_type": "stream",
     "text": []
    },
    {
     "name": "stdout",
     "output_type": "stream",
     "text": [
      "Image pos001_EDOF_RGB.tiff processed. Total shapes extracted: 62\n"
     ]
    },
    {
     "name": "stderr",
     "output_type": "stream",
     "text": [
      "Processing images in folder 210519-1r1: 100%|██████████| 5/5 [00:12<00:00,  2.51s/it]\n",
      "Processing folders:  11%|█▏        | 11/97 [06:26<52:40, 36.75s/it]  "
     ]
    },
    {
     "name": "stdout",
     "output_type": "stream",
     "text": [
      "Image pos002_EDOF_RGB.tiff processed. Total shapes extracted: 67\n"
     ]
    },
    {
     "name": "stderr",
     "output_type": "stream",
     "text": []
    },
    {
     "name": "stdout",
     "output_type": "stream",
     "text": [
      "Image pos001_EDOF_DENISOVAN_RGB.tiff processed. Total shapes extracted: 197\n"
     ]
    },
    {
     "name": "stderr",
     "output_type": "stream",
     "text": []
    },
    {
     "name": "stdout",
     "output_type": "stream",
     "text": [
      "Image pos005_EDOF_DENISOVAN_RGB.tiff processed. Total shapes extracted: 195\n"
     ]
    },
    {
     "name": "stderr",
     "output_type": "stream",
     "text": []
    },
    {
     "name": "stdout",
     "output_type": "stream",
     "text": [
      "Image pos006_EDOF_DENISOVAN_RGB.tiff processed. Total shapes extracted: 198\n"
     ]
    },
    {
     "name": "stderr",
     "output_type": "stream",
     "text": []
    },
    {
     "name": "stdout",
     "output_type": "stream",
     "text": [
      "Image pos009_EDOF_DENISOVAN_RGB.tiff processed. Total shapes extracted: 194\n"
     ]
    },
    {
     "name": "stderr",
     "output_type": "stream",
     "text": []
    },
    {
     "name": "stdout",
     "output_type": "stream",
     "text": [
      "Image pos002_EDOF_DENISOVAN_RGB.tiff processed. Total shapes extracted: 196\n"
     ]
    },
    {
     "name": "stderr",
     "output_type": "stream",
     "text": []
    },
    {
     "name": "stdout",
     "output_type": "stream",
     "text": [
      "Image pos004_EDOF_DENISOVAN_RGB.tiff processed. Total shapes extracted: 198\n"
     ]
    },
    {
     "name": "stderr",
     "output_type": "stream",
     "text": []
    },
    {
     "name": "stdout",
     "output_type": "stream",
     "text": [
      "Image pos000_EDOF_DENISOVAN_RGB.tiff processed. Total shapes extracted: 188\n"
     ]
    },
    {
     "name": "stderr",
     "output_type": "stream",
     "text": []
    },
    {
     "name": "stdout",
     "output_type": "stream",
     "text": [
      "Image pos003_EDOF_DENISOVAN_RGB.tiff processed. Total shapes extracted: 203\n"
     ]
    },
    {
     "name": "stderr",
     "output_type": "stream",
     "text": []
    },
    {
     "name": "stdout",
     "output_type": "stream",
     "text": [
      "Image pos008_EDOF_DENISOVAN_RGB.tiff processed. Total shapes extracted: 137\n"
     ]
    },
    {
     "name": "stderr",
     "output_type": "stream",
     "text": [
      "Processing images in folder 220819-18: 100%|██████████| 10/10 [00:42<00:00,  4.21s/it]\n",
      "Processing folders:  12%|█▏        | 12/97 [07:09<54:22, 38.39s/it]"
     ]
    },
    {
     "name": "stdout",
     "output_type": "stream",
     "text": [
      "Image pos007_EDOF_DENISOVAN_RGB.tiff processed. Total shapes extracted: 180\n"
     ]
    },
    {
     "name": "stderr",
     "output_type": "stream",
     "text": []
    },
    {
     "name": "stdout",
     "output_type": "stream",
     "text": [
      "Image pos009_EDOF_RGB.tiff processed. Total shapes extracted: 112\n"
     ]
    },
    {
     "name": "stderr",
     "output_type": "stream",
     "text": []
    },
    {
     "name": "stdout",
     "output_type": "stream",
     "text": [
      "Image pos003_EDOF_RGB.tiff processed. Total shapes extracted: 78\n"
     ]
    },
    {
     "name": "stderr",
     "output_type": "stream",
     "text": []
    },
    {
     "name": "stdout",
     "output_type": "stream",
     "text": [
      "Image pos007_EDOF_RGB.tiff processed. Total shapes extracted: 112\n"
     ]
    },
    {
     "name": "stderr",
     "output_type": "stream",
     "text": []
    },
    {
     "name": "stdout",
     "output_type": "stream",
     "text": [
      "Image pos000_EDOF_RGB.tiff processed. Total shapes extracted: 100\n"
     ]
    },
    {
     "name": "stderr",
     "output_type": "stream",
     "text": []
    },
    {
     "name": "stdout",
     "output_type": "stream",
     "text": [
      "Image pos004_EDOF_RGB.tiff processed. Total shapes extracted: 81\n"
     ]
    },
    {
     "name": "stderr",
     "output_type": "stream",
     "text": []
    },
    {
     "name": "stdout",
     "output_type": "stream",
     "text": [
      "Image pos005_EDOF_RGB.tiff processed. Total shapes extracted: 74\n"
     ]
    },
    {
     "name": "stderr",
     "output_type": "stream",
     "text": []
    },
    {
     "name": "stdout",
     "output_type": "stream",
     "text": [
      "Image pos001_EDOF_RGB.tiff processed. Total shapes extracted: 90\n"
     ]
    },
    {
     "name": "stderr",
     "output_type": "stream",
     "text": []
    },
    {
     "name": "stdout",
     "output_type": "stream",
     "text": [
      "Image pos006_EDOF_RGB.tiff processed. Total shapes extracted: 109\n"
     ]
    },
    {
     "name": "stderr",
     "output_type": "stream",
     "text": []
    },
    {
     "name": "stdout",
     "output_type": "stream",
     "text": [
      "Image pos002_EDOF_RGB.tiff processed. Total shapes extracted: 108\n"
     ]
    },
    {
     "name": "stderr",
     "output_type": "stream",
     "text": [
      "Processing images in folder 021018-12: 100%|██████████| 10/10 [00:27<00:00,  2.72s/it]\n",
      "Processing folders:  13%|█▎        | 13/97 [07:36<49:00, 35.00s/it]"
     ]
    },
    {
     "name": "stdout",
     "output_type": "stream",
     "text": [
      "Image pos008_EDOF_RGB.tiff processed. Total shapes extracted: 110\n"
     ]
    },
    {
     "name": "stderr",
     "output_type": "stream",
     "text": []
    },
    {
     "name": "stdout",
     "output_type": "stream",
     "text": [
      "Image pos009_EDOF_RGB.tiff processed. Total shapes extracted: 141\n"
     ]
    },
    {
     "name": "stderr",
     "output_type": "stream",
     "text": []
    },
    {
     "name": "stdout",
     "output_type": "stream",
     "text": [
      "Image pos003_EDOF_RGB.tiff processed. Total shapes extracted: 176\n"
     ]
    },
    {
     "name": "stderr",
     "output_type": "stream",
     "text": []
    },
    {
     "name": "stdout",
     "output_type": "stream",
     "text": [
      "Image pos007_EDOF_RGB.tiff processed. Total shapes extracted: 162\n"
     ]
    },
    {
     "name": "stderr",
     "output_type": "stream",
     "text": []
    },
    {
     "name": "stdout",
     "output_type": "stream",
     "text": [
      "Image pos000_EDOF_RGB.tiff processed. Total shapes extracted: 73\n"
     ]
    },
    {
     "name": "stderr",
     "output_type": "stream",
     "text": []
    },
    {
     "name": "stdout",
     "output_type": "stream",
     "text": [
      "Image pos004_EDOF_RGB.tiff processed. Total shapes extracted: 151\n"
     ]
    },
    {
     "name": "stderr",
     "output_type": "stream",
     "text": []
    },
    {
     "name": "stdout",
     "output_type": "stream",
     "text": [
      "Image pos005_EDOF_RGB.tiff processed. Total shapes extracted: 160\n"
     ]
    },
    {
     "name": "stderr",
     "output_type": "stream",
     "text": []
    },
    {
     "name": "stdout",
     "output_type": "stream",
     "text": [
      "Image pos001_EDOF_RGB.tiff processed. Total shapes extracted: 40\n"
     ]
    },
    {
     "name": "stderr",
     "output_type": "stream",
     "text": []
    },
    {
     "name": "stdout",
     "output_type": "stream",
     "text": [
      "Image pos006_EDOF_RGB.tiff processed. Total shapes extracted: 96\n"
     ]
    },
    {
     "name": "stderr",
     "output_type": "stream",
     "text": []
    },
    {
     "name": "stdout",
     "output_type": "stream",
     "text": [
      "Image pos002_EDOF_RGB.tiff processed. Total shapes extracted: 154\n"
     ]
    },
    {
     "name": "stderr",
     "output_type": "stream",
     "text": [
      "Processing images in folder 080619-07: 100%|██████████| 10/10 [00:33<00:00,  3.30s/it]\n",
      "Processing folders:  14%|█▍        | 14/97 [08:09<47:36, 34.41s/it]"
     ]
    },
    {
     "name": "stdout",
     "output_type": "stream",
     "text": [
      "Image pos008_EDOF_RGB.tiff processed. Total shapes extracted: 170\n"
     ]
    },
    {
     "name": "stderr",
     "output_type": "stream",
     "text": []
    },
    {
     "name": "stdout",
     "output_type": "stream",
     "text": [
      "Image FieldPos073_EDOF_RGB.tiff processed. Total shapes extracted: 135\n"
     ]
    },
    {
     "name": "stderr",
     "output_type": "stream",
     "text": []
    },
    {
     "name": "stdout",
     "output_type": "stream",
     "text": [
      "Image FieldPos109_EDOF_RGB.tiff processed. Total shapes extracted: 140\n"
     ]
    },
    {
     "name": "stderr",
     "output_type": "stream",
     "text": []
    },
    {
     "name": "stdout",
     "output_type": "stream",
     "text": [
      "Image FieldPos070_EDOF_RGB.tiff processed. Total shapes extracted: 117\n"
     ]
    },
    {
     "name": "stderr",
     "output_type": "stream",
     "text": []
    },
    {
     "name": "stdout",
     "output_type": "stream",
     "text": [
      "Image FieldPos211_EDOF_RGB.tiff processed. Total shapes extracted: 117\n"
     ]
    },
    {
     "name": "stderr",
     "output_type": "stream",
     "text": []
    },
    {
     "name": "stdout",
     "output_type": "stream",
     "text": [
      "Image FieldPos037_EDOF_RGB.tiff processed. Total shapes extracted: 59\n"
     ]
    },
    {
     "name": "stderr",
     "output_type": "stream",
     "text": []
    },
    {
     "name": "stdout",
     "output_type": "stream",
     "text": [
      "Image FieldPos222_EDOF_RGB.tiff processed. Total shapes extracted: 98\n"
     ]
    },
    {
     "name": "stderr",
     "output_type": "stream",
     "text": []
    },
    {
     "name": "stdout",
     "output_type": "stream",
     "text": [
      "Image FieldPos069_EDOF_RGB.tiff processed. Total shapes extracted: 70\n"
     ]
    },
    {
     "name": "stderr",
     "output_type": "stream",
     "text": []
    },
    {
     "name": "stdout",
     "output_type": "stream",
     "text": [
      "Image FieldPos184_EDOF_RGB.tiff processed. Total shapes extracted: 115\n"
     ]
    },
    {
     "name": "stderr",
     "output_type": "stream",
     "text": []
    },
    {
     "name": "stdout",
     "output_type": "stream",
     "text": [
      "Image FieldPos221_EDOF_RGB.tiff processed. Total shapes extracted: 110\n"
     ]
    },
    {
     "name": "stderr",
     "output_type": "stream",
     "text": []
    },
    {
     "name": "stdout",
     "output_type": "stream",
     "text": [
      "Image FieldPos183_EDOF_RGB.tiff processed. Total shapes extracted: 107\n"
     ]
    },
    {
     "name": "stderr",
     "output_type": "stream",
     "text": []
    },
    {
     "name": "stdout",
     "output_type": "stream",
     "text": [
      "Image FieldPos246_EDOF_RGB.tiff processed. Total shapes extracted: 68\n"
     ]
    },
    {
     "name": "stderr",
     "output_type": "stream",
     "text": []
    },
    {
     "name": "stdout",
     "output_type": "stream",
     "text": [
      "Image FieldPos177_EDOF_RGB.tiff processed. Total shapes extracted: 105\n"
     ]
    },
    {
     "name": "stderr",
     "output_type": "stream",
     "text": []
    },
    {
     "name": "stdout",
     "output_type": "stream",
     "text": [
      "Image FieldPos106_EDOF_RGB.tiff processed. Total shapes extracted: 109\n"
     ]
    },
    {
     "name": "stderr",
     "output_type": "stream",
     "text": []
    },
    {
     "name": "stdout",
     "output_type": "stream",
     "text": [
      "Image FieldPos220_EDOF_RGB.tiff processed. Total shapes extracted: 88\n"
     ]
    },
    {
     "name": "stderr",
     "output_type": "stream",
     "text": []
    },
    {
     "name": "stdout",
     "output_type": "stream",
     "text": [
      "Image FieldPos176_EDOF_RGB.tiff processed. Total shapes extracted: 101\n"
     ]
    },
    {
     "name": "stderr",
     "output_type": "stream",
     "text": []
    },
    {
     "name": "stdout",
     "output_type": "stream",
     "text": [
      "Image FieldPos209_EDOF_RGB.tiff processed. Total shapes extracted: 78\n"
     ]
    },
    {
     "name": "stderr",
     "output_type": "stream",
     "text": []
    },
    {
     "name": "stdout",
     "output_type": "stream",
     "text": [
      "Image FieldPos223_EDOF_RGB.tiff processed. Total shapes extracted: 96\n"
     ]
    },
    {
     "name": "stderr",
     "output_type": "stream",
     "text": []
    },
    {
     "name": "stdout",
     "output_type": "stream",
     "text": [
      "Image FieldPos210_EDOF_RGB.tiff processed. Total shapes extracted: 115\n"
     ]
    },
    {
     "name": "stderr",
     "output_type": "stream",
     "text": []
    },
    {
     "name": "stdout",
     "output_type": "stream",
     "text": [
      "Image FieldPos142_EDOF_RGB.tiff processed. Total shapes extracted: 104\n"
     ]
    },
    {
     "name": "stderr",
     "output_type": "stream",
     "text": []
    },
    {
     "name": "stdout",
     "output_type": "stream",
     "text": [
      "Image FieldPos259_EDOF_RGB.tiff processed. Total shapes extracted: 74\n"
     ]
    },
    {
     "name": "stderr",
     "output_type": "stream",
     "text": []
    },
    {
     "name": "stdout",
     "output_type": "stream",
     "text": [
      "Image FieldPos260_EDOF_RGB.tiff processed. Total shapes extracted: 80\n"
     ]
    },
    {
     "name": "stderr",
     "output_type": "stream",
     "text": [
      "Processing images in folder 060319-02: 100%|██████████| 22/22 [00:59<00:00,  2.72s/it]\n",
      "Processing folders:  15%|█▌        | 15/97 [09:09<57:31, 42.10s/it]"
     ]
    },
    {
     "name": "stdout",
     "output_type": "stream",
     "text": [
      "Image FieldPos146_EDOF_RGB.tiff processed. Total shapes extracted: 124\n"
     ]
    },
    {
     "name": "stderr",
     "output_type": "stream",
     "text": []
    },
    {
     "name": "stdout",
     "output_type": "stream",
     "text": [
      "Image pos009_EDOF_RGB.tiff processed. Total shapes extracted: 1\n"
     ]
    },
    {
     "name": "stderr",
     "output_type": "stream",
     "text": []
    },
    {
     "name": "stdout",
     "output_type": "stream",
     "text": [
      "Image pos003_EDOF_RGB.tiff processed. Total shapes extracted: 1\n"
     ]
    },
    {
     "name": "stderr",
     "output_type": "stream",
     "text": []
    },
    {
     "name": "stdout",
     "output_type": "stream",
     "text": [
      "Image pos007_EDOF_RGB.tiff processed. Total shapes extracted: 1\n"
     ]
    },
    {
     "name": "stderr",
     "output_type": "stream",
     "text": []
    },
    {
     "name": "stdout",
     "output_type": "stream",
     "text": [
      "Image pos000_EDOF_RGB.tiff processed. Total shapes extracted: 1\n"
     ]
    },
    {
     "name": "stderr",
     "output_type": "stream",
     "text": []
    },
    {
     "name": "stdout",
     "output_type": "stream",
     "text": [
      "Image pos004_EDOF_RGB.tiff processed. Total shapes extracted: 1\n"
     ]
    },
    {
     "name": "stderr",
     "output_type": "stream",
     "text": []
    },
    {
     "name": "stdout",
     "output_type": "stream",
     "text": [
      "Image pos005_EDOF_RGB.tiff processed. Total shapes extracted: 1\n"
     ]
    },
    {
     "name": "stderr",
     "output_type": "stream",
     "text": []
    },
    {
     "name": "stdout",
     "output_type": "stream",
     "text": [
      "Image pos001_EDOF_RGB.tiff processed. Total shapes extracted: 1\n"
     ]
    },
    {
     "name": "stderr",
     "output_type": "stream",
     "text": []
    },
    {
     "name": "stdout",
     "output_type": "stream",
     "text": [
      "Image pos006_EDOF_RGB.tiff processed. Total shapes extracted: 1\n"
     ]
    },
    {
     "name": "stderr",
     "output_type": "stream",
     "text": []
    },
    {
     "name": "stdout",
     "output_type": "stream",
     "text": [
      "Image pos002_EDOF_RGB.tiff processed. Total shapes extracted: 1\n"
     ]
    },
    {
     "name": "stderr",
     "output_type": "stream",
     "text": [
      "Processing images in folder 050418-12: 100%|██████████| 10/10 [00:16<00:00,  1.66s/it]\n",
      "Processing folders:  16%|█▋        | 16/97 [09:25<46:27, 34.42s/it]"
     ]
    },
    {
     "name": "stdout",
     "output_type": "stream",
     "text": [
      "Image pos008_EDOF_RGB.tiff processed. Total shapes extracted: 1\n"
     ]
    },
    {
     "name": "stderr",
     "output_type": "stream",
     "text": []
    },
    {
     "name": "stdout",
     "output_type": "stream",
     "text": [
      "Image pos009_EDOF_RGB.tiff processed. Total shapes extracted: 134\n"
     ]
    },
    {
     "name": "stderr",
     "output_type": "stream",
     "text": []
    },
    {
     "name": "stdout",
     "output_type": "stream",
     "text": [
      "Image pos003_EDOF_RGB.tiff processed. Total shapes extracted: 132\n"
     ]
    },
    {
     "name": "stderr",
     "output_type": "stream",
     "text": []
    },
    {
     "name": "stdout",
     "output_type": "stream",
     "text": [
      "Image pos007_EDOF_RGB.tiff processed. Total shapes extracted: 101\n"
     ]
    },
    {
     "name": "stderr",
     "output_type": "stream",
     "text": []
    },
    {
     "name": "stdout",
     "output_type": "stream",
     "text": [
      "Image pos000_EDOF_RGB.tiff processed. Total shapes extracted: 142\n"
     ]
    },
    {
     "name": "stderr",
     "output_type": "stream",
     "text": []
    },
    {
     "name": "stdout",
     "output_type": "stream",
     "text": [
      "Image pos004_EDOF_RGB.tiff processed. Total shapes extracted: 137\n"
     ]
    },
    {
     "name": "stderr",
     "output_type": "stream",
     "text": []
    },
    {
     "name": "stdout",
     "output_type": "stream",
     "text": [
      "Image pos005_EDOF_RGB.tiff processed. Total shapes extracted: 1\n"
     ]
    },
    {
     "name": "stderr",
     "output_type": "stream",
     "text": []
    },
    {
     "name": "stdout",
     "output_type": "stream",
     "text": [
      "Image pos001_EDOF_RGB.tiff processed. Total shapes extracted: 132\n"
     ]
    },
    {
     "name": "stderr",
     "output_type": "stream",
     "text": []
    },
    {
     "name": "stdout",
     "output_type": "stream",
     "text": [
      "Image pos006_EDOF_RGB.tiff processed. Total shapes extracted: 100\n"
     ]
    },
    {
     "name": "stderr",
     "output_type": "stream",
     "text": []
    },
    {
     "name": "stdout",
     "output_type": "stream",
     "text": [
      "Image pos002_EDOF_RGB.tiff processed. Total shapes extracted: 1\n"
     ]
    },
    {
     "name": "stderr",
     "output_type": "stream",
     "text": [
      "Processing images in folder 280519-02: 100%|██████████| 10/10 [00:29<00:00,  2.91s/it]\n",
      "Processing folders:  18%|█▊        | 17/97 [09:54<43:45, 32.82s/it]"
     ]
    },
    {
     "name": "stdout",
     "output_type": "stream",
     "text": [
      "Image pos008_EDOF_RGB.tiff processed. Total shapes extracted: 132\n"
     ]
    },
    {
     "name": "stderr",
     "output_type": "stream",
     "text": []
    },
    {
     "name": "stdout",
     "output_type": "stream",
     "text": [
      "Image FieldPos201_EDOF_RGB.tiff processed. Total shapes extracted: 215\n"
     ]
    },
    {
     "name": "stderr",
     "output_type": "stream",
     "text": []
    },
    {
     "name": "stdout",
     "output_type": "stream",
     "text": [
      "Image FieldPos265_EDOF_RGB.tiff processed. Total shapes extracted: 117\n"
     ]
    },
    {
     "name": "stderr",
     "output_type": "stream",
     "text": []
    },
    {
     "name": "stdout",
     "output_type": "stream",
     "text": [
      "Image FieldPos276_EDOF_RGB.tiff processed. Total shapes extracted: 182\n"
     ]
    },
    {
     "name": "stderr",
     "output_type": "stream",
     "text": []
    },
    {
     "name": "stdout",
     "output_type": "stream",
     "text": [
      "Image FieldPos255_EDOF_RGB.tiff processed. Total shapes extracted: 154\n"
     ]
    },
    {
     "name": "stderr",
     "output_type": "stream",
     "text": []
    },
    {
     "name": "stdout",
     "output_type": "stream",
     "text": [
      "Image FieldPos307_EDOF_RGB.tiff processed. Total shapes extracted: 199\n"
     ]
    },
    {
     "name": "stderr",
     "output_type": "stream",
     "text": []
    },
    {
     "name": "stdout",
     "output_type": "stream",
     "text": [
      "Image FieldPos314_EDOF_RGB.tiff processed. Total shapes extracted: 205\n"
     ]
    },
    {
     "name": "stderr",
     "output_type": "stream",
     "text": []
    },
    {
     "name": "stdout",
     "output_type": "stream",
     "text": [
      "Image FieldPos198_EDOF_RGB.tiff processed. Total shapes extracted: 134\n"
     ]
    },
    {
     "name": "stderr",
     "output_type": "stream",
     "text": []
    },
    {
     "name": "stdout",
     "output_type": "stream",
     "text": [
      "Image FieldPos178_EDOF_RGB.tiff processed. Total shapes extracted: 218\n"
     ]
    },
    {
     "name": "stderr",
     "output_type": "stream",
     "text": []
    },
    {
     "name": "stdout",
     "output_type": "stream",
     "text": [
      "Image FieldPos293_EDOF_RGB.tiff processed. Total shapes extracted: 176\n"
     ]
    },
    {
     "name": "stderr",
     "output_type": "stream",
     "text": [
      "Processing images in folder 280219-17: 100%|██████████| 10/10 [00:44<00:00,  4.42s/it]\n",
      "Processing folders:  19%|█▊        | 18/97 [10:39<47:44, 36.25s/it]"
     ]
    },
    {
     "name": "stdout",
     "output_type": "stream",
     "text": [
      "Image FieldPos284_EDOF_RGB.tiff processed. Total shapes extracted: 199\n"
     ]
    },
    {
     "name": "stderr",
     "output_type": "stream",
     "text": []
    },
    {
     "name": "stdout",
     "output_type": "stream",
     "text": [
      "Image pos009_EDOF_RGB.tiff processed. Total shapes extracted: 120\n"
     ]
    },
    {
     "name": "stderr",
     "output_type": "stream",
     "text": []
    },
    {
     "name": "stdout",
     "output_type": "stream",
     "text": [
      "Image pos003_EDOF_RGB.tiff processed. Total shapes extracted: 122\n"
     ]
    },
    {
     "name": "stderr",
     "output_type": "stream",
     "text": []
    },
    {
     "name": "stdout",
     "output_type": "stream",
     "text": [
      "Image pos007_EDOF_RGB.tiff processed. Total shapes extracted: 110\n"
     ]
    },
    {
     "name": "stderr",
     "output_type": "stream",
     "text": []
    },
    {
     "name": "stdout",
     "output_type": "stream",
     "text": [
      "Image pos000_EDOF_RGB.tiff processed. Total shapes extracted: 113\n"
     ]
    },
    {
     "name": "stderr",
     "output_type": "stream",
     "text": []
    },
    {
     "name": "stdout",
     "output_type": "stream",
     "text": [
      "Image pos004_EDOF_RGB.tiff processed. Total shapes extracted: 110\n"
     ]
    },
    {
     "name": "stderr",
     "output_type": "stream",
     "text": []
    },
    {
     "name": "stdout",
     "output_type": "stream",
     "text": [
      "Image pos005_EDOF_RGB.tiff processed. Total shapes extracted: 125\n"
     ]
    },
    {
     "name": "stderr",
     "output_type": "stream",
     "text": []
    },
    {
     "name": "stdout",
     "output_type": "stream",
     "text": [
      "Image pos001_EDOF_RGB.tiff processed. Total shapes extracted: 110\n"
     ]
    },
    {
     "name": "stderr",
     "output_type": "stream",
     "text": []
    },
    {
     "name": "stdout",
     "output_type": "stream",
     "text": [
      "Image pos006_EDOF_RGB.tiff processed. Total shapes extracted: 126\n"
     ]
    },
    {
     "name": "stderr",
     "output_type": "stream",
     "text": []
    },
    {
     "name": "stdout",
     "output_type": "stream",
     "text": [
      "Image pos002_EDOF_RGB.tiff processed. Total shapes extracted: 124\n"
     ]
    },
    {
     "name": "stderr",
     "output_type": "stream",
     "text": [
      "Processing images in folder 080219-03: 100%|██████████| 10/10 [00:30<00:00,  3.04s/it]\n",
      "Processing folders:  20%|█▉        | 19/97 [11:09<44:50, 34.49s/it]"
     ]
    },
    {
     "name": "stdout",
     "output_type": "stream",
     "text": [
      "Image pos008_EDOF_RGB.tiff processed. Total shapes extracted: 106\n"
     ]
    },
    {
     "name": "stderr",
     "output_type": "stream",
     "text": []
    },
    {
     "name": "stdout",
     "output_type": "stream",
     "text": [
      "Image pos001_EDOF_DENISOVAN_RGB.tiff processed. Total shapes extracted: 150\n"
     ]
    },
    {
     "name": "stderr",
     "output_type": "stream",
     "text": []
    },
    {
     "name": "stdout",
     "output_type": "stream",
     "text": [
      "Image pos005_EDOF_DENISOVAN_RGB.tiff processed. Total shapes extracted: 145\n"
     ]
    },
    {
     "name": "stderr",
     "output_type": "stream",
     "text": []
    },
    {
     "name": "stdout",
     "output_type": "stream",
     "text": [
      "Image pos006_EDOF_DENISOVAN_RGB.tiff processed. Total shapes extracted: 161\n"
     ]
    },
    {
     "name": "stderr",
     "output_type": "stream",
     "text": []
    },
    {
     "name": "stdout",
     "output_type": "stream",
     "text": [
      "Image pos009_EDOF_DENISOVAN_RGB.tiff processed. Total shapes extracted: 159\n"
     ]
    },
    {
     "name": "stderr",
     "output_type": "stream",
     "text": []
    },
    {
     "name": "stdout",
     "output_type": "stream",
     "text": [
      "Image pos002_EDOF_DENISOVAN_RGB.tiff processed. Total shapes extracted: 165\n"
     ]
    },
    {
     "name": "stderr",
     "output_type": "stream",
     "text": []
    },
    {
     "name": "stdout",
     "output_type": "stream",
     "text": [
      "Image pos004_EDOF_DENISOVAN_RGB.tiff processed. Total shapes extracted: 162\n"
     ]
    },
    {
     "name": "stderr",
     "output_type": "stream",
     "text": []
    },
    {
     "name": "stdout",
     "output_type": "stream",
     "text": [
      "Image pos000_EDOF_DENISOVAN_RGB.tiff processed. Total shapes extracted: 144\n"
     ]
    },
    {
     "name": "stderr",
     "output_type": "stream",
     "text": []
    },
    {
     "name": "stdout",
     "output_type": "stream",
     "text": [
      "Image pos003_EDOF_DENISOVAN_RGB.tiff processed. Total shapes extracted: 160\n"
     ]
    },
    {
     "name": "stderr",
     "output_type": "stream",
     "text": []
    },
    {
     "name": "stdout",
     "output_type": "stream",
     "text": [
      "Image pos008_EDOF_DENISOVAN_RGB.tiff processed. Total shapes extracted: 157\n"
     ]
    },
    {
     "name": "stderr",
     "output_type": "stream",
     "text": [
      "Processing images in folder 220819-19: 100%|██████████| 10/10 [00:31<00:00,  3.16s/it]\n",
      "Processing folders:  21%|██        | 20/97 [11:41<43:08, 33.62s/it]"
     ]
    },
    {
     "name": "stdout",
     "output_type": "stream",
     "text": [
      "Image pos007_EDOF_DENISOVAN_RGB.tiff processed. Total shapes extracted: 145\n"
     ]
    },
    {
     "name": "stderr",
     "output_type": "stream",
     "text": []
    },
    {
     "name": "stdout",
     "output_type": "stream",
     "text": [
      "Image pos009_EDOF_RGB.tiff processed. Total shapes extracted: 1\n"
     ]
    },
    {
     "name": "stderr",
     "output_type": "stream",
     "text": []
    },
    {
     "name": "stdout",
     "output_type": "stream",
     "text": [
      "Image pos003_EDOF_RGB.tiff processed. Total shapes extracted: 1\n"
     ]
    },
    {
     "name": "stderr",
     "output_type": "stream",
     "text": []
    },
    {
     "name": "stdout",
     "output_type": "stream",
     "text": [
      "Image pos007_EDOF_RGB.tiff processed. Total shapes extracted: 1\n"
     ]
    },
    {
     "name": "stderr",
     "output_type": "stream",
     "text": []
    },
    {
     "name": "stdout",
     "output_type": "stream",
     "text": [
      "Image pos000_EDOF_RGB.tiff processed. Total shapes extracted: 1\n"
     ]
    },
    {
     "name": "stderr",
     "output_type": "stream",
     "text": []
    },
    {
     "name": "stdout",
     "output_type": "stream",
     "text": [
      "Image pos004_EDOF_RGB.tiff processed. Total shapes extracted: 1\n"
     ]
    },
    {
     "name": "stderr",
     "output_type": "stream",
     "text": []
    },
    {
     "name": "stdout",
     "output_type": "stream",
     "text": [
      "Image pos005_EDOF_RGB.tiff processed. Total shapes extracted: 1\n"
     ]
    },
    {
     "name": "stderr",
     "output_type": "stream",
     "text": []
    },
    {
     "name": "stdout",
     "output_type": "stream",
     "text": [
      "Image pos001_EDOF_RGB.tiff processed. Total shapes extracted: 1\n"
     ]
    },
    {
     "name": "stderr",
     "output_type": "stream",
     "text": []
    },
    {
     "name": "stdout",
     "output_type": "stream",
     "text": [
      "Image pos006_EDOF_RGB.tiff processed. Total shapes extracted: 1\n"
     ]
    },
    {
     "name": "stderr",
     "output_type": "stream",
     "text": []
    },
    {
     "name": "stdout",
     "output_type": "stream",
     "text": [
      "Image pos002_EDOF_RGB.tiff processed. Total shapes extracted: 1\n"
     ]
    },
    {
     "name": "stderr",
     "output_type": "stream",
     "text": [
      "Processing images in folder 160718-08: 100%|██████████| 10/10 [00:14<00:00,  1.50s/it]\n",
      "Processing folders:  22%|██▏       | 21/97 [11:56<35:30, 28.03s/it]"
     ]
    },
    {
     "name": "stdout",
     "output_type": "stream",
     "text": [
      "Image pos008_EDOF_RGB.tiff processed. Total shapes extracted: 1\n"
     ]
    },
    {
     "name": "stderr",
     "output_type": "stream",
     "text": []
    },
    {
     "name": "stdout",
     "output_type": "stream",
     "text": [
      "Image pos001_EDOF_DENISOVAN_RGB.tiff processed. Total shapes extracted: 101\n"
     ]
    },
    {
     "name": "stderr",
     "output_type": "stream",
     "text": []
    },
    {
     "name": "stdout",
     "output_type": "stream",
     "text": [
      "Image pos005_EDOF_DENISOVAN_RGB.tiff processed. Total shapes extracted: 125\n"
     ]
    },
    {
     "name": "stderr",
     "output_type": "stream",
     "text": []
    },
    {
     "name": "stdout",
     "output_type": "stream",
     "text": [
      "Image pos006_EDOF_DENISOVAN_RGB.tiff processed. Total shapes extracted: 125\n"
     ]
    },
    {
     "name": "stderr",
     "output_type": "stream",
     "text": []
    },
    {
     "name": "stdout",
     "output_type": "stream",
     "text": [
      "Image pos009_EDOF_DENISOVAN_RGB.tiff processed. Total shapes extracted: 123\n"
     ]
    },
    {
     "name": "stderr",
     "output_type": "stream",
     "text": []
    },
    {
     "name": "stdout",
     "output_type": "stream",
     "text": [
      "Image pos002_EDOF_DENISOVAN_RGB.tiff processed. Total shapes extracted: 100\n"
     ]
    },
    {
     "name": "stderr",
     "output_type": "stream",
     "text": []
    },
    {
     "name": "stdout",
     "output_type": "stream",
     "text": [
      "Image pos004_EDOF_DENISOVAN_RGB.tiff processed. Total shapes extracted: 97\n"
     ]
    },
    {
     "name": "stderr",
     "output_type": "stream",
     "text": []
    },
    {
     "name": "stdout",
     "output_type": "stream",
     "text": [
      "Image pos000_EDOF_DENISOVAN_RGB.tiff processed. Total shapes extracted: 83\n"
     ]
    },
    {
     "name": "stderr",
     "output_type": "stream",
     "text": []
    },
    {
     "name": "stdout",
     "output_type": "stream",
     "text": [
      "Image pos003_EDOF_DENISOVAN_RGB.tiff processed. Total shapes extracted: 96\n"
     ]
    },
    {
     "name": "stderr",
     "output_type": "stream",
     "text": []
    },
    {
     "name": "stdout",
     "output_type": "stream",
     "text": [
      "Image pos008_EDOF_DENISOVAN_RGB.tiff processed. Total shapes extracted: 109\n"
     ]
    },
    {
     "name": "stderr",
     "output_type": "stream",
     "text": [
      "Processing images in folder 080119-47: 100%|██████████| 10/10 [00:25<00:00,  2.50s/it]\n",
      "Processing folders:  23%|██▎       | 22/97 [12:21<33:54, 27.13s/it]"
     ]
    },
    {
     "name": "stdout",
     "output_type": "stream",
     "text": [
      "Image pos007_EDOF_DENISOVAN_RGB.tiff processed. Total shapes extracted: 112\n"
     ]
    },
    {
     "name": "stderr",
     "output_type": "stream",
     "text": []
    },
    {
     "name": "stdout",
     "output_type": "stream",
     "text": [
      "Image pos003_EDOF_RGB.tiff processed. Total shapes extracted: 1\n"
     ]
    },
    {
     "name": "stderr",
     "output_type": "stream",
     "text": []
    },
    {
     "name": "stdout",
     "output_type": "stream",
     "text": [
      "Image pos000_EDOF_RGB.tiff processed. Total shapes extracted: 1\n"
     ]
    },
    {
     "name": "stderr",
     "output_type": "stream",
     "text": []
    },
    {
     "name": "stdout",
     "output_type": "stream",
     "text": [
      "Image pos004_EDOF_RGB.tiff processed. Total shapes extracted: 1\n"
     ]
    },
    {
     "name": "stderr",
     "output_type": "stream",
     "text": []
    },
    {
     "name": "stdout",
     "output_type": "stream",
     "text": [
      "Image pos001_EDOF_RGB.tiff processed. Total shapes extracted: 1\n"
     ]
    },
    {
     "name": "stderr",
     "output_type": "stream",
     "text": [
      "Processing images in folder 040418-02: 100%|██████████| 5/5 [00:08<00:00,  1.76s/it]\n",
      "Processing folders:  24%|██▎       | 23/97 [12:29<26:40, 21.63s/it]"
     ]
    },
    {
     "name": "stdout",
     "output_type": "stream",
     "text": [
      "Image pos002_EDOF_RGB.tiff processed. Total shapes extracted: 2\n"
     ]
    },
    {
     "name": "stderr",
     "output_type": "stream",
     "text": []
    },
    {
     "name": "stdout",
     "output_type": "stream",
     "text": [
      "Image pos009_EDOF_RGB.tiff processed. Total shapes extracted: 43\n"
     ]
    },
    {
     "name": "stderr",
     "output_type": "stream",
     "text": []
    },
    {
     "name": "stdout",
     "output_type": "stream",
     "text": [
      "Image pos003_EDOF_RGB.tiff processed. Total shapes extracted: 50\n"
     ]
    },
    {
     "name": "stderr",
     "output_type": "stream",
     "text": []
    },
    {
     "name": "stdout",
     "output_type": "stream",
     "text": [
      "Image pos007_EDOF_RGB.tiff processed. Total shapes extracted: 36\n"
     ]
    },
    {
     "name": "stderr",
     "output_type": "stream",
     "text": []
    },
    {
     "name": "stdout",
     "output_type": "stream",
     "text": [
      "Image pos000_EDOF_RGB.tiff processed. Total shapes extracted: 37\n"
     ]
    },
    {
     "name": "stderr",
     "output_type": "stream",
     "text": []
    },
    {
     "name": "stdout",
     "output_type": "stream",
     "text": [
      "Image pos004_EDOF_RGB.tiff processed. Total shapes extracted: 45\n"
     ]
    },
    {
     "name": "stderr",
     "output_type": "stream",
     "text": []
    },
    {
     "name": "stdout",
     "output_type": "stream",
     "text": [
      "Image pos005_EDOF_RGB.tiff processed. Total shapes extracted: 51\n"
     ]
    },
    {
     "name": "stderr",
     "output_type": "stream",
     "text": []
    },
    {
     "name": "stdout",
     "output_type": "stream",
     "text": [
      "Image pos001_EDOF_RGB.tiff processed. Total shapes extracted: 25\n"
     ]
    },
    {
     "name": "stderr",
     "output_type": "stream",
     "text": []
    },
    {
     "name": "stdout",
     "output_type": "stream",
     "text": [
      "Image pos006_EDOF_RGB.tiff processed. Total shapes extracted: 64\n"
     ]
    },
    {
     "name": "stderr",
     "output_type": "stream",
     "text": []
    },
    {
     "name": "stdout",
     "output_type": "stream",
     "text": [
      "Image pos002_EDOF_RGB.tiff processed. Total shapes extracted: 39\n"
     ]
    },
    {
     "name": "stderr",
     "output_type": "stream",
     "text": [
      "Processing images in folder 280519-2r1: 100%|██████████| 10/10 [00:20<00:00,  2.07s/it]\n",
      "Processing folders:  25%|██▍       | 24/97 [12:50<25:57, 21.34s/it]"
     ]
    },
    {
     "name": "stdout",
     "output_type": "stream",
     "text": [
      "Image pos008_EDOF_RGB.tiff processed. Total shapes extracted: 40\n"
     ]
    },
    {
     "name": "stderr",
     "output_type": "stream",
     "text": []
    },
    {
     "name": "stdout",
     "output_type": "stream",
     "text": [
      "Image pos009_EDOF_RGB.tiff processed. Total shapes extracted: 63\n"
     ]
    },
    {
     "name": "stderr",
     "output_type": "stream",
     "text": []
    },
    {
     "name": "stdout",
     "output_type": "stream",
     "text": [
      "Image pos003_EDOF_RGB.tiff processed. Total shapes extracted: 71\n"
     ]
    },
    {
     "name": "stderr",
     "output_type": "stream",
     "text": []
    },
    {
     "name": "stdout",
     "output_type": "stream",
     "text": [
      "Image pos007_EDOF_RGB.tiff processed. Total shapes extracted: 75\n"
     ]
    },
    {
     "name": "stderr",
     "output_type": "stream",
     "text": []
    },
    {
     "name": "stdout",
     "output_type": "stream",
     "text": [
      "Image pos000_EDOF_RGB.tiff processed. Total shapes extracted: 66\n"
     ]
    },
    {
     "name": "stderr",
     "output_type": "stream",
     "text": []
    },
    {
     "name": "stdout",
     "output_type": "stream",
     "text": [
      "Image pos004_EDOF_RGB.tiff processed. Total shapes extracted: 67\n"
     ]
    },
    {
     "name": "stderr",
     "output_type": "stream",
     "text": []
    },
    {
     "name": "stdout",
     "output_type": "stream",
     "text": [
      "Image pos005_EDOF_RGB.tiff processed. Total shapes extracted: 81\n"
     ]
    },
    {
     "name": "stderr",
     "output_type": "stream",
     "text": []
    },
    {
     "name": "stdout",
     "output_type": "stream",
     "text": [
      "Image pos001_EDOF_RGB.tiff processed. Total shapes extracted: 62\n"
     ]
    },
    {
     "name": "stderr",
     "output_type": "stream",
     "text": []
    },
    {
     "name": "stdout",
     "output_type": "stream",
     "text": [
      "Image pos006_EDOF_RGB.tiff processed. Total shapes extracted: 68\n"
     ]
    },
    {
     "name": "stderr",
     "output_type": "stream",
     "text": []
    },
    {
     "name": "stdout",
     "output_type": "stream",
     "text": [
      "Image pos002_EDOF_RGB.tiff processed. Total shapes extracted: 62\n"
     ]
    },
    {
     "name": "stderr",
     "output_type": "stream",
     "text": [
      "Processing images in folder 160818-04: 100%|██████████| 10/10 [00:22<00:00,  2.26s/it]\n",
      "Processing folders:  26%|██▌       | 25/97 [13:13<26:03, 21.72s/it]"
     ]
    },
    {
     "name": "stdout",
     "output_type": "stream",
     "text": [
      "Image pos008_EDOF_RGB.tiff processed. Total shapes extracted: 77\n"
     ]
    },
    {
     "name": "stderr",
     "output_type": "stream",
     "text": []
    },
    {
     "name": "stdout",
     "output_type": "stream",
     "text": [
      "Image pos009_EDOF_RGB.tiff processed. Total shapes extracted: 136\n"
     ]
    },
    {
     "name": "stderr",
     "output_type": "stream",
     "text": []
    },
    {
     "name": "stdout",
     "output_type": "stream",
     "text": [
      "Image pos003_EDOF_RGB.tiff processed. Total shapes extracted: 165\n"
     ]
    },
    {
     "name": "stderr",
     "output_type": "stream",
     "text": []
    },
    {
     "name": "stdout",
     "output_type": "stream",
     "text": [
      "Image pos007_EDOF_RGB.tiff processed. Total shapes extracted: 151\n"
     ]
    },
    {
     "name": "stderr",
     "output_type": "stream",
     "text": []
    },
    {
     "name": "stdout",
     "output_type": "stream",
     "text": [
      "Image pos000_EDOF_RGB.tiff processed. Total shapes extracted: 69\n"
     ]
    },
    {
     "name": "stderr",
     "output_type": "stream",
     "text": []
    },
    {
     "name": "stdout",
     "output_type": "stream",
     "text": [
      "Image pos004_EDOF_RGB.tiff processed. Total shapes extracted: 175\n"
     ]
    },
    {
     "name": "stderr",
     "output_type": "stream",
     "text": []
    },
    {
     "name": "stdout",
     "output_type": "stream",
     "text": [
      "Image pos005_EDOF_RGB.tiff processed. Total shapes extracted: 64\n"
     ]
    },
    {
     "name": "stderr",
     "output_type": "stream",
     "text": []
    },
    {
     "name": "stdout",
     "output_type": "stream",
     "text": [
      "Image pos001_EDOF_RGB.tiff processed. Total shapes extracted: 152\n"
     ]
    },
    {
     "name": "stderr",
     "output_type": "stream",
     "text": []
    },
    {
     "name": "stdout",
     "output_type": "stream",
     "text": [
      "Image pos006_EDOF_RGB.tiff processed. Total shapes extracted: 205\n"
     ]
    },
    {
     "name": "stderr",
     "output_type": "stream",
     "text": []
    },
    {
     "name": "stdout",
     "output_type": "stream",
     "text": [
      "Image pos002_EDOF_RGB.tiff processed. Total shapes extracted: 147\n"
     ]
    },
    {
     "name": "stderr",
     "output_type": "stream",
     "text": [
      "Processing images in folder 090818-06: 100%|██████████| 10/10 [00:34<00:00,  3.41s/it]\n",
      "Processing folders:  27%|██▋       | 26/97 [13:47<30:05, 25.43s/it]"
     ]
    },
    {
     "name": "stdout",
     "output_type": "stream",
     "text": [
      "Image pos008_EDOF_RGB.tiff processed. Total shapes extracted: 188\n"
     ]
    },
    {
     "name": "stderr",
     "output_type": "stream",
     "text": []
    },
    {
     "name": "stdout",
     "output_type": "stream",
     "text": [
      "Image pos003_EDOF_RGB.tiff processed. Total shapes extracted: 30\n"
     ]
    },
    {
     "name": "stderr",
     "output_type": "stream",
     "text": []
    },
    {
     "name": "stdout",
     "output_type": "stream",
     "text": [
      "Image pos000_EDOF_RGB.tiff processed. Total shapes extracted: 30\n"
     ]
    },
    {
     "name": "stderr",
     "output_type": "stream",
     "text": []
    },
    {
     "name": "stdout",
     "output_type": "stream",
     "text": [
      "Image pos004_EDOF_RGB.tiff processed. Total shapes extracted: 20\n"
     ]
    },
    {
     "name": "stderr",
     "output_type": "stream",
     "text": []
    },
    {
     "name": "stdout",
     "output_type": "stream",
     "text": [
      "Image pos001_EDOF_RGB.tiff processed. Total shapes extracted: 26\n"
     ]
    },
    {
     "name": "stderr",
     "output_type": "stream",
     "text": [
      "Processing images in folder 120219-56: 100%|██████████| 5/5 [00:09<00:00,  1.83s/it]\n",
      "Processing folders:  28%|██▊       | 27/97 [13:56<23:57, 20.54s/it]"
     ]
    },
    {
     "name": "stdout",
     "output_type": "stream",
     "text": [
      "Image pos002_EDOF_RGB.tiff processed. Total shapes extracted: 28\n"
     ]
    },
    {
     "name": "stderr",
     "output_type": "stream",
     "text": []
    },
    {
     "name": "stdout",
     "output_type": "stream",
     "text": [
      "Image pos009_EDOF_RGB.tiff processed. Total shapes extracted: 103\n"
     ]
    },
    {
     "name": "stderr",
     "output_type": "stream",
     "text": []
    },
    {
     "name": "stdout",
     "output_type": "stream",
     "text": [
      "Image pos003_EDOF_RGB.tiff processed. Total shapes extracted: 154\n"
     ]
    },
    {
     "name": "stderr",
     "output_type": "stream",
     "text": []
    },
    {
     "name": "stdout",
     "output_type": "stream",
     "text": [
      "Image pos007_EDOF_RGB.tiff processed. Total shapes extracted: 127\n"
     ]
    },
    {
     "name": "stderr",
     "output_type": "stream",
     "text": []
    },
    {
     "name": "stdout",
     "output_type": "stream",
     "text": [
      "Image pos000_EDOF_RGB.tiff processed. Total shapes extracted: 87\n"
     ]
    },
    {
     "name": "stderr",
     "output_type": "stream",
     "text": []
    },
    {
     "name": "stdout",
     "output_type": "stream",
     "text": [
      "Image pos004_EDOF_RGB.tiff processed. Total shapes extracted: 137\n"
     ]
    },
    {
     "name": "stderr",
     "output_type": "stream",
     "text": []
    },
    {
     "name": "stdout",
     "output_type": "stream",
     "text": [
      "Image pos005_EDOF_RGB.tiff processed. Total shapes extracted: 106\n"
     ]
    },
    {
     "name": "stderr",
     "output_type": "stream",
     "text": []
    },
    {
     "name": "stdout",
     "output_type": "stream",
     "text": [
      "Image pos001_EDOF_RGB.tiff processed. Total shapes extracted: 106\n"
     ]
    },
    {
     "name": "stderr",
     "output_type": "stream",
     "text": []
    },
    {
     "name": "stdout",
     "output_type": "stream",
     "text": [
      "Image pos006_EDOF_RGB.tiff processed. Total shapes extracted: 95\n"
     ]
    },
    {
     "name": "stderr",
     "output_type": "stream",
     "text": []
    },
    {
     "name": "stdout",
     "output_type": "stream",
     "text": [
      "Image pos002_EDOF_RGB.tiff processed. Total shapes extracted: 170\n"
     ]
    },
    {
     "name": "stderr",
     "output_type": "stream",
     "text": [
      "Processing images in folder 240318-9r1: 100%|██████████| 10/10 [00:29<00:00,  2.99s/it]\n",
      "Processing folders:  29%|██▉       | 28/97 [14:26<26:51, 23.35s/it]"
     ]
    },
    {
     "name": "stdout",
     "output_type": "stream",
     "text": [
      "Image pos008_EDOF_RGB.tiff processed. Total shapes extracted: 132\n"
     ]
    },
    {
     "name": "stderr",
     "output_type": "stream",
     "text": []
    },
    {
     "name": "stdout",
     "output_type": "stream",
     "text": [
      "Image pos001_EDOF_DENISOVAN_RGB.tiff processed. Total shapes extracted: 133\n"
     ]
    },
    {
     "name": "stderr",
     "output_type": "stream",
     "text": []
    },
    {
     "name": "stdout",
     "output_type": "stream",
     "text": [
      "Image pos005_EDOF_DENISOVAN_RGB.tiff processed. Total shapes extracted: 107\n"
     ]
    },
    {
     "name": "stderr",
     "output_type": "stream",
     "text": []
    },
    {
     "name": "stdout",
     "output_type": "stream",
     "text": [
      "Image pos006_EDOF_DENISOVAN_RGB.tiff processed. Total shapes extracted: 146\n"
     ]
    },
    {
     "name": "stderr",
     "output_type": "stream",
     "text": []
    },
    {
     "name": "stdout",
     "output_type": "stream",
     "text": [
      "Image pos009_EDOF_DENISOVAN_RGB.tiff processed. Total shapes extracted: 150\n"
     ]
    },
    {
     "name": "stderr",
     "output_type": "stream",
     "text": []
    },
    {
     "name": "stdout",
     "output_type": "stream",
     "text": [
      "Image pos002_EDOF_DENISOVAN_RGB.tiff processed. Total shapes extracted: 112\n"
     ]
    },
    {
     "name": "stderr",
     "output_type": "stream",
     "text": []
    },
    {
     "name": "stdout",
     "output_type": "stream",
     "text": [
      "Image pos004_EDOF_DENISOVAN_RGB.tiff processed. Total shapes extracted: 127\n"
     ]
    },
    {
     "name": "stderr",
     "output_type": "stream",
     "text": []
    },
    {
     "name": "stdout",
     "output_type": "stream",
     "text": [
      "Image pos000_EDOF_DENISOVAN_RGB.tiff processed. Total shapes extracted: 127\n"
     ]
    },
    {
     "name": "stderr",
     "output_type": "stream",
     "text": []
    },
    {
     "name": "stdout",
     "output_type": "stream",
     "text": [
      "Image pos003_EDOF_DENISOVAN_RGB.tiff processed. Total shapes extracted: 131\n"
     ]
    },
    {
     "name": "stderr",
     "output_type": "stream",
     "text": [
      "Processing images in folder 080119-07: 100%|██████████| 9/9 [00:24<00:00,  2.77s/it]\n",
      "Processing folders:  30%|██▉       | 29/97 [14:51<27:00, 23.83s/it]"
     ]
    },
    {
     "name": "stdout",
     "output_type": "stream",
     "text": [
      "Image pos008_EDOF_DENISOVAN_RGB.tiff processed. Total shapes extracted: 149\n"
     ]
    },
    {
     "name": "stderr",
     "output_type": "stream",
     "text": []
    },
    {
     "name": "stdout",
     "output_type": "stream",
     "text": [
      "Image pos003_EDOF_RGB.tiff processed. Total shapes extracted: 81\n"
     ]
    },
    {
     "name": "stderr",
     "output_type": "stream",
     "text": []
    },
    {
     "name": "stdout",
     "output_type": "stream",
     "text": [
      "Image pos000_EDOF_RGB.tiff processed. Total shapes extracted: 85\n"
     ]
    },
    {
     "name": "stderr",
     "output_type": "stream",
     "text": []
    },
    {
     "name": "stdout",
     "output_type": "stream",
     "text": [
      "Image pos004_EDOF_RGB.tiff processed. Total shapes extracted: 149\n"
     ]
    },
    {
     "name": "stderr",
     "output_type": "stream",
     "text": []
    },
    {
     "name": "stdout",
     "output_type": "stream",
     "text": [
      "Image pos001_EDOF_RGB.tiff processed. Total shapes extracted: 79\n"
     ]
    },
    {
     "name": "stderr",
     "output_type": "stream",
     "text": [
      "Processing images in folder 150818-9r1: 100%|██████████| 5/5 [00:14<00:00,  2.99s/it]\n",
      "Processing folders:  31%|███       | 30/97 [15:06<23:37, 21.16s/it]"
     ]
    },
    {
     "name": "stdout",
     "output_type": "stream",
     "text": [
      "Image pos002_EDOF_RGB.tiff processed. Total shapes extracted: 124\n"
     ]
    },
    {
     "name": "stderr",
     "output_type": "stream",
     "text": []
    },
    {
     "name": "stdout",
     "output_type": "stream",
     "text": [
      "Image pos001_EDOF_DENISOVAN_RGB.tiff processed. Total shapes extracted: 61\n"
     ]
    },
    {
     "name": "stderr",
     "output_type": "stream",
     "text": []
    },
    {
     "name": "stdout",
     "output_type": "stream",
     "text": [
      "Image pos005_EDOF_DENISOVAN_RGB.tiff processed. Total shapes extracted: 67\n"
     ]
    },
    {
     "name": "stderr",
     "output_type": "stream",
     "text": []
    },
    {
     "name": "stdout",
     "output_type": "stream",
     "text": [
      "Image pos006_EDOF_DENISOVAN_RGB.tiff processed. Total shapes extracted: 74\n"
     ]
    },
    {
     "name": "stderr",
     "output_type": "stream",
     "text": []
    },
    {
     "name": "stdout",
     "output_type": "stream",
     "text": [
      "Image pos009_EDOF_DENISOVAN_RGB.tiff processed. Total shapes extracted: 86\n"
     ]
    },
    {
     "name": "stderr",
     "output_type": "stream",
     "text": []
    },
    {
     "name": "stdout",
     "output_type": "stream",
     "text": [
      "Image pos002_EDOF_DENISOVAN_RGB.tiff processed. Total shapes extracted: 43\n"
     ]
    },
    {
     "name": "stderr",
     "output_type": "stream",
     "text": []
    },
    {
     "name": "stdout",
     "output_type": "stream",
     "text": [
      "Image pos004_EDOF_DENISOVAN_RGB.tiff processed. Total shapes extracted: 67\n"
     ]
    },
    {
     "name": "stderr",
     "output_type": "stream",
     "text": []
    },
    {
     "name": "stdout",
     "output_type": "stream",
     "text": [
      "Image pos000_EDOF_DENISOVAN_RGB.tiff processed. Total shapes extracted: 93\n"
     ]
    },
    {
     "name": "stderr",
     "output_type": "stream",
     "text": []
    },
    {
     "name": "stdout",
     "output_type": "stream",
     "text": [
      "Image pos003_EDOF_DENISOVAN_RGB.tiff processed. Total shapes extracted: 57\n"
     ]
    },
    {
     "name": "stderr",
     "output_type": "stream",
     "text": [
      "Processing images in folder 220819-04: 100%|██████████| 9/9 [00:20<00:00,  2.31s/it]\n",
      "Processing folders:  32%|███▏      | 31/97 [15:27<23:09, 21.05s/it]"
     ]
    },
    {
     "name": "stdout",
     "output_type": "stream",
     "text": [
      "Image pos008_EDOF_DENISOVAN_RGB.tiff processed. Total shapes extracted: 73\n"
     ]
    },
    {
     "name": "stderr",
     "output_type": "stream",
     "text": []
    },
    {
     "name": "stdout",
     "output_type": "stream",
     "text": [
      "Image pos009_EDOF_RGB.tiff processed. Total shapes extracted: 1\n"
     ]
    },
    {
     "name": "stderr",
     "output_type": "stream",
     "text": []
    },
    {
     "name": "stdout",
     "output_type": "stream",
     "text": [
      "Image pos003_EDOF_RGB.tiff processed. Total shapes extracted: 2\n"
     ]
    },
    {
     "name": "stderr",
     "output_type": "stream",
     "text": []
    },
    {
     "name": "stdout",
     "output_type": "stream",
     "text": [
      "Image pos007_EDOF_RGB.tiff processed. Total shapes extracted: 1\n"
     ]
    },
    {
     "name": "stderr",
     "output_type": "stream",
     "text": []
    },
    {
     "name": "stdout",
     "output_type": "stream",
     "text": [
      "Image pos000_EDOF_RGB.tiff processed. Total shapes extracted: 1\n"
     ]
    },
    {
     "name": "stderr",
     "output_type": "stream",
     "text": []
    },
    {
     "name": "stdout",
     "output_type": "stream",
     "text": [
      "Image pos004_EDOF_RGB.tiff processed. Total shapes extracted: 1\n"
     ]
    },
    {
     "name": "stderr",
     "output_type": "stream",
     "text": []
    },
    {
     "name": "stdout",
     "output_type": "stream",
     "text": [
      "Image pos005_EDOF_RGB.tiff processed. Total shapes extracted: 1\n"
     ]
    },
    {
     "name": "stderr",
     "output_type": "stream",
     "text": []
    },
    {
     "name": "stdout",
     "output_type": "stream",
     "text": [
      "Image pos001_EDOF_RGB.tiff processed. Total shapes extracted: 2\n"
     ]
    },
    {
     "name": "stderr",
     "output_type": "stream",
     "text": []
    },
    {
     "name": "stdout",
     "output_type": "stream",
     "text": [
      "Image pos006_EDOF_RGB.tiff processed. Total shapes extracted: 1\n"
     ]
    },
    {
     "name": "stderr",
     "output_type": "stream",
     "text": []
    },
    {
     "name": "stdout",
     "output_type": "stream",
     "text": [
      "Image pos002_EDOF_RGB.tiff processed. Total shapes extracted: 1\n"
     ]
    },
    {
     "name": "stderr",
     "output_type": "stream",
     "text": [
      "Processing images in folder 170718-44: 100%|██████████| 10/10 [00:17<00:00,  1.80s/it]\n",
      "Processing folders:  33%|███▎      | 32/97 [15:45<21:48, 20.13s/it]"
     ]
    },
    {
     "name": "stdout",
     "output_type": "stream",
     "text": [
      "Image pos008_EDOF_RGB.tiff processed. Total shapes extracted: 1\n"
     ]
    },
    {
     "name": "stderr",
     "output_type": "stream",
     "text": []
    },
    {
     "name": "stdout",
     "output_type": "stream",
     "text": [
      "Image pos003_EDOF_RGB.tiff processed. Total shapes extracted: 121\n"
     ]
    },
    {
     "name": "stderr",
     "output_type": "stream",
     "text": []
    },
    {
     "name": "stdout",
     "output_type": "stream",
     "text": [
      "Image pos000_EDOF_RGB.tiff processed. Total shapes extracted: 47\n"
     ]
    },
    {
     "name": "stderr",
     "output_type": "stream",
     "text": []
    },
    {
     "name": "stdout",
     "output_type": "stream",
     "text": [
      "Image pos001_EDOF_RGB.tiff processed. Total shapes extracted: 154\n"
     ]
    },
    {
     "name": "stderr",
     "output_type": "stream",
     "text": [
      "Processing images in folder 211218-09: 100%|██████████| 4/4 [00:11<00:00,  2.84s/it]\n",
      "Processing folders:  34%|███▍      | 33/97 [15:56<18:40, 17.51s/it]"
     ]
    },
    {
     "name": "stdout",
     "output_type": "stream",
     "text": [
      "Image pos002_EDOF_RGB.tiff processed. Total shapes extracted: 123\n"
     ]
    },
    {
     "name": "stderr",
     "output_type": "stream",
     "text": []
    },
    {
     "name": "stdout",
     "output_type": "stream",
     "text": [
      "Image pos009_EDOF_RGB.tiff processed. Total shapes extracted: 1\n"
     ]
    },
    {
     "name": "stderr",
     "output_type": "stream",
     "text": []
    },
    {
     "name": "stdout",
     "output_type": "stream",
     "text": [
      "Image pos003_EDOF_RGB.tiff processed. Total shapes extracted: 1\n"
     ]
    },
    {
     "name": "stderr",
     "output_type": "stream",
     "text": []
    },
    {
     "name": "stdout",
     "output_type": "stream",
     "text": [
      "Image pos007_EDOF_RGB.tiff processed. Total shapes extracted: 1\n"
     ]
    },
    {
     "name": "stderr",
     "output_type": "stream",
     "text": []
    },
    {
     "name": "stdout",
     "output_type": "stream",
     "text": [
      "Image pos000_EDOF_RGB.tiff processed. Total shapes extracted: 1\n"
     ]
    },
    {
     "name": "stderr",
     "output_type": "stream",
     "text": []
    },
    {
     "name": "stdout",
     "output_type": "stream",
     "text": [
      "Image pos004_EDOF_RGB.tiff processed. Total shapes extracted: 2\n"
     ]
    },
    {
     "name": "stderr",
     "output_type": "stream",
     "text": []
    },
    {
     "name": "stdout",
     "output_type": "stream",
     "text": [
      "Image pos005_EDOF_RGB.tiff processed. Total shapes extracted: 1\n"
     ]
    },
    {
     "name": "stderr",
     "output_type": "stream",
     "text": []
    },
    {
     "name": "stdout",
     "output_type": "stream",
     "text": [
      "Image pos001_EDOF_RGB.tiff processed. Total shapes extracted: 2\n"
     ]
    },
    {
     "name": "stderr",
     "output_type": "stream",
     "text": []
    },
    {
     "name": "stdout",
     "output_type": "stream",
     "text": [
      "Image pos006_EDOF_RGB.tiff processed. Total shapes extracted: 1\n"
     ]
    },
    {
     "name": "stderr",
     "output_type": "stream",
     "text": []
    },
    {
     "name": "stdout",
     "output_type": "stream",
     "text": [
      "Image pos002_EDOF_RGB.tiff processed. Total shapes extracted: 1\n"
     ]
    },
    {
     "name": "stderr",
     "output_type": "stream",
     "text": [
      "Processing images in folder 300118-01: 100%|██████████| 10/10 [00:16<00:00,  1.68s/it]\n",
      "Processing folders:  35%|███▌      | 34/97 [16:13<18:08, 17.28s/it]"
     ]
    },
    {
     "name": "stdout",
     "output_type": "stream",
     "text": [
      "Image pos008_EDOF_RGB.tiff processed. Total shapes extracted: 2\n"
     ]
    },
    {
     "name": "stderr",
     "output_type": "stream",
     "text": []
    },
    {
     "name": "stdout",
     "output_type": "stream",
     "text": [
      "Image pos003_EDOF_RGB.tiff processed. Total shapes extracted: 134\n"
     ]
    },
    {
     "name": "stderr",
     "output_type": "stream",
     "text": []
    },
    {
     "name": "stdout",
     "output_type": "stream",
     "text": [
      "Image pos000_EDOF_RGB.tiff processed. Total shapes extracted: 151\n"
     ]
    },
    {
     "name": "stderr",
     "output_type": "stream",
     "text": []
    },
    {
     "name": "stdout",
     "output_type": "stream",
     "text": [
      "Image pos001_EDOF_RGB.tiff processed. Total shapes extracted: 140\n"
     ]
    },
    {
     "name": "stderr",
     "output_type": "stream",
     "text": [
      "Processing images in folder 170418-37: 100%|██████████| 4/4 [00:12<00:00,  3.03s/it]\n",
      "Processing folders:  36%|███▌      | 35/97 [16:25<16:15, 15.73s/it]"
     ]
    },
    {
     "name": "stdout",
     "output_type": "stream",
     "text": [
      "Image pos002_EDOF_RGB.tiff processed. Total shapes extracted: 101\n"
     ]
    },
    {
     "name": "stderr",
     "output_type": "stream",
     "text": []
    },
    {
     "name": "stdout",
     "output_type": "stream",
     "text": [
      "Image pos009_EDOF_RGB.tiff processed. Total shapes extracted: 140\n"
     ]
    },
    {
     "name": "stderr",
     "output_type": "stream",
     "text": []
    },
    {
     "name": "stdout",
     "output_type": "stream",
     "text": [
      "Image pos003_EDOF_RGB.tiff processed. Total shapes extracted: 159\n"
     ]
    },
    {
     "name": "stderr",
     "output_type": "stream",
     "text": []
    },
    {
     "name": "stdout",
     "output_type": "stream",
     "text": [
      "Image pos010_EDOF_RGB.tiff processed. Total shapes extracted: 151\n"
     ]
    },
    {
     "name": "stderr",
     "output_type": "stream",
     "text": []
    },
    {
     "name": "stdout",
     "output_type": "stream",
     "text": [
      "Image pos007_EDOF_RGB.tiff processed. Total shapes extracted: 158\n"
     ]
    },
    {
     "name": "stderr",
     "output_type": "stream",
     "text": []
    },
    {
     "name": "stdout",
     "output_type": "stream",
     "text": [
      "Image pos000_EDOF_RGB.tiff processed. Total shapes extracted: 143\n"
     ]
    },
    {
     "name": "stderr",
     "output_type": "stream",
     "text": []
    },
    {
     "name": "stdout",
     "output_type": "stream",
     "text": [
      "Image pos004_EDOF_RGB.tiff processed. Total shapes extracted: 157\n"
     ]
    },
    {
     "name": "stderr",
     "output_type": "stream",
     "text": []
    },
    {
     "name": "stdout",
     "output_type": "stream",
     "text": [
      "Image pos005_EDOF_RGB.tiff processed. Total shapes extracted: 159\n"
     ]
    },
    {
     "name": "stderr",
     "output_type": "stream",
     "text": []
    },
    {
     "name": "stdout",
     "output_type": "stream",
     "text": [
      "Image pos001_EDOF_RGB.tiff processed. Total shapes extracted: 165\n"
     ]
    },
    {
     "name": "stderr",
     "output_type": "stream",
     "text": []
    },
    {
     "name": "stdout",
     "output_type": "stream",
     "text": [
      "Image pos006_EDOF_RGB.tiff processed. Total shapes extracted: 154\n"
     ]
    },
    {
     "name": "stderr",
     "output_type": "stream",
     "text": []
    },
    {
     "name": "stdout",
     "output_type": "stream",
     "text": [
      "Image pos002_EDOF_RGB.tiff processed. Total shapes extracted: 132\n"
     ]
    },
    {
     "name": "stderr",
     "output_type": "stream",
     "text": [
      "Processing images in folder 111018-1r1: 100%|██████████| 11/11 [00:39<00:00,  3.57s/it]\n",
      "Processing folders:  37%|███▋      | 36/97 [17:04<23:09, 22.78s/it]"
     ]
    },
    {
     "name": "stdout",
     "output_type": "stream",
     "text": [
      "Image pos008_EDOF_RGB.tiff processed. Total shapes extracted: 158\n"
     ]
    },
    {
     "name": "stderr",
     "output_type": "stream",
     "text": []
    },
    {
     "name": "stdout",
     "output_type": "stream",
     "text": [
      "Image pos009_EDOF_RGB.tiff processed. Total shapes extracted: 141\n"
     ]
    },
    {
     "name": "stderr",
     "output_type": "stream",
     "text": []
    },
    {
     "name": "stdout",
     "output_type": "stream",
     "text": [
      "Image pos003_EDOF_RGB.tiff processed. Total shapes extracted: 73\n"
     ]
    },
    {
     "name": "stderr",
     "output_type": "stream",
     "text": []
    },
    {
     "name": "stdout",
     "output_type": "stream",
     "text": [
      "Image pos007_EDOF_RGB.tiff processed. Total shapes extracted: 91\n"
     ]
    },
    {
     "name": "stderr",
     "output_type": "stream",
     "text": []
    },
    {
     "name": "stdout",
     "output_type": "stream",
     "text": [
      "Image pos000_EDOF_RGB.tiff processed. Total shapes extracted: 80\n"
     ]
    },
    {
     "name": "stderr",
     "output_type": "stream",
     "text": []
    },
    {
     "name": "stdout",
     "output_type": "stream",
     "text": [
      "Image pos004_EDOF_RGB.tiff processed. Total shapes extracted: 89\n"
     ]
    },
    {
     "name": "stderr",
     "output_type": "stream",
     "text": []
    },
    {
     "name": "stdout",
     "output_type": "stream",
     "text": [
      "Image pos005_EDOF_RGB.tiff processed. Total shapes extracted: 102\n"
     ]
    },
    {
     "name": "stderr",
     "output_type": "stream",
     "text": []
    },
    {
     "name": "stdout",
     "output_type": "stream",
     "text": [
      "Image pos001_EDOF_RGB.tiff processed. Total shapes extracted: 94\n"
     ]
    },
    {
     "name": "stderr",
     "output_type": "stream",
     "text": []
    },
    {
     "name": "stdout",
     "output_type": "stream",
     "text": [
      "Image pos006_EDOF_RGB.tiff processed. Total shapes extracted: 48\n"
     ]
    },
    {
     "name": "stderr",
     "output_type": "stream",
     "text": []
    },
    {
     "name": "stdout",
     "output_type": "stream",
     "text": [
      "Image pos002_EDOF_RGB.tiff processed. Total shapes extracted: 61\n"
     ]
    },
    {
     "name": "stderr",
     "output_type": "stream",
     "text": [
      "Processing images in folder 190818-07: 100%|██████████| 10/10 [00:25<00:00,  2.53s/it]\n",
      "Processing folders:  38%|███▊      | 37/97 [17:29<23:32, 23.55s/it]"
     ]
    },
    {
     "name": "stdout",
     "output_type": "stream",
     "text": [
      "Image pos008_EDOF_RGB.tiff processed. Total shapes extracted: 76\n"
     ]
    },
    {
     "name": "stderr",
     "output_type": "stream",
     "text": []
    },
    {
     "name": "stdout",
     "output_type": "stream",
     "text": [
      "Image pos003_EDOF_RGB.tiff processed. Total shapes extracted: 136\n"
     ]
    },
    {
     "name": "stderr",
     "output_type": "stream",
     "text": []
    },
    {
     "name": "stdout",
     "output_type": "stream",
     "text": [
      "Image pos000_EDOF_RGB.tiff processed. Total shapes extracted: 82\n"
     ]
    },
    {
     "name": "stderr",
     "output_type": "stream",
     "text": []
    },
    {
     "name": "stdout",
     "output_type": "stream",
     "text": [
      "Image pos004_EDOF_RGB.tiff processed. Total shapes extracted: 123\n"
     ]
    },
    {
     "name": "stderr",
     "output_type": "stream",
     "text": []
    },
    {
     "name": "stdout",
     "output_type": "stream",
     "text": [
      "Image pos001_EDOF_RGB.tiff processed. Total shapes extracted: 113\n"
     ]
    },
    {
     "name": "stderr",
     "output_type": "stream",
     "text": [
      "Processing images in folder 040918-56: 100%|██████████| 5/5 [00:14<00:00,  2.99s/it]\n",
      "Processing folders:  39%|███▉      | 38/97 [17:44<20:37, 20.97s/it]"
     ]
    },
    {
     "name": "stdout",
     "output_type": "stream",
     "text": [
      "Image pos002_EDOF_RGB.tiff processed. Total shapes extracted: 112\n"
     ]
    },
    {
     "name": "stderr",
     "output_type": "stream",
     "text": []
    },
    {
     "name": "stdout",
     "output_type": "stream",
     "text": [
      "Image pos009_EDOF_RGB.tiff processed. Total shapes extracted: 190\n"
     ]
    },
    {
     "name": "stderr",
     "output_type": "stream",
     "text": []
    },
    {
     "name": "stdout",
     "output_type": "stream",
     "text": [
      "Image pos003_EDOF_RGB.tiff processed. Total shapes extracted: 164\n"
     ]
    },
    {
     "name": "stderr",
     "output_type": "stream",
     "text": []
    },
    {
     "name": "stdout",
     "output_type": "stream",
     "text": [
      "Image pos007_EDOF_RGB.tiff processed. Total shapes extracted: 161\n"
     ]
    },
    {
     "name": "stderr",
     "output_type": "stream",
     "text": []
    },
    {
     "name": "stdout",
     "output_type": "stream",
     "text": [
      "Image pos000_EDOF_RGB.tiff processed. Total shapes extracted: 157\n"
     ]
    },
    {
     "name": "stderr",
     "output_type": "stream",
     "text": []
    },
    {
     "name": "stdout",
     "output_type": "stream",
     "text": [
      "Image pos004_EDOF_RGB.tiff processed. Total shapes extracted: 163\n"
     ]
    },
    {
     "name": "stderr",
     "output_type": "stream",
     "text": []
    },
    {
     "name": "stdout",
     "output_type": "stream",
     "text": [
      "Image pos005_EDOF_RGB.tiff processed. Total shapes extracted: 146\n"
     ]
    },
    {
     "name": "stderr",
     "output_type": "stream",
     "text": []
    },
    {
     "name": "stdout",
     "output_type": "stream",
     "text": [
      "Image pos001_EDOF_RGB.tiff processed. Total shapes extracted: 176\n"
     ]
    },
    {
     "name": "stderr",
     "output_type": "stream",
     "text": []
    },
    {
     "name": "stdout",
     "output_type": "stream",
     "text": [
      "Image pos006_EDOF_RGB.tiff processed. Total shapes extracted: 160\n"
     ]
    },
    {
     "name": "stderr",
     "output_type": "stream",
     "text": []
    },
    {
     "name": "stdout",
     "output_type": "stream",
     "text": [
      "Image pos002_EDOF_RGB.tiff processed. Total shapes extracted: 165\n"
     ]
    },
    {
     "name": "stderr",
     "output_type": "stream",
     "text": [
      "Processing images in folder 300519-03: 100%|██████████| 10/10 [00:39<00:00,  3.97s/it]\n",
      "Processing folders:  40%|████      | 39/97 [18:24<25:42, 26.60s/it]"
     ]
    },
    {
     "name": "stdout",
     "output_type": "stream",
     "text": [
      "Image pos008_EDOF_RGB.tiff processed. Total shapes extracted: 178\n"
     ]
    },
    {
     "name": "stderr",
     "output_type": "stream",
     "text": []
    },
    {
     "name": "stdout",
     "output_type": "stream",
     "text": [
      "Image pos003_EDOF_RGB.tiff processed. Total shapes extracted: 103\n"
     ]
    },
    {
     "name": "stderr",
     "output_type": "stream",
     "text": []
    },
    {
     "name": "stdout",
     "output_type": "stream",
     "text": [
      "Image pos000_EDOF_RGB.tiff processed. Total shapes extracted: 83\n"
     ]
    },
    {
     "name": "stderr",
     "output_type": "stream",
     "text": []
    },
    {
     "name": "stdout",
     "output_type": "stream",
     "text": [
      "Image pos004_EDOF_RGB.tiff processed. Total shapes extracted: 69\n"
     ]
    },
    {
     "name": "stderr",
     "output_type": "stream",
     "text": []
    },
    {
     "name": "stdout",
     "output_type": "stream",
     "text": [
      "Image pos001_EDOF_RGB.tiff processed. Total shapes extracted: 122\n"
     ]
    },
    {
     "name": "stderr",
     "output_type": "stream",
     "text": [
      "Processing images in folder 040818-7r1: 100%|██████████| 5/5 [00:15<00:00,  3.08s/it]\n",
      "Processing folders:  41%|████      | 40/97 [18:39<22:04, 23.24s/it]"
     ]
    },
    {
     "name": "stdout",
     "output_type": "stream",
     "text": [
      "Image pos002_EDOF_RGB.tiff processed. Total shapes extracted: 60\n"
     ]
    },
    {
     "name": "stderr",
     "output_type": "stream",
     "text": []
    },
    {
     "name": "stdout",
     "output_type": "stream",
     "text": [
      "Image pos003_EDOF_RGB.tiff processed. Total shapes extracted: 58\n"
     ]
    },
    {
     "name": "stderr",
     "output_type": "stream",
     "text": []
    },
    {
     "name": "stdout",
     "output_type": "stream",
     "text": [
      "Image pos000_EDOF_RGB.tiff processed. Total shapes extracted: 56\n"
     ]
    },
    {
     "name": "stderr",
     "output_type": "stream",
     "text": []
    },
    {
     "name": "stdout",
     "output_type": "stream",
     "text": [
      "Image pos004_EDOF_RGB.tiff processed. Total shapes extracted: 44\n"
     ]
    },
    {
     "name": "stderr",
     "output_type": "stream",
     "text": []
    },
    {
     "name": "stdout",
     "output_type": "stream",
     "text": [
      "Image pos001_EDOF_RGB.tiff processed. Total shapes extracted: 47\n"
     ]
    },
    {
     "name": "stderr",
     "output_type": "stream",
     "text": [
      "Processing images in folder 180619-25: 100%|██████████| 5/5 [00:13<00:00,  2.60s/it]\n",
      "Processing folders:  42%|████▏     | 41/97 [18:52<18:49, 20.17s/it]"
     ]
    },
    {
     "name": "stdout",
     "output_type": "stream",
     "text": [
      "Image pos002_EDOF_RGB.tiff processed. Total shapes extracted: 52\n"
     ]
    },
    {
     "name": "stderr",
     "output_type": "stream",
     "text": []
    },
    {
     "name": "stdout",
     "output_type": "stream",
     "text": [
      "Image pos003_EDOF_RGB.tiff processed. Total shapes extracted: 92\n"
     ]
    },
    {
     "name": "stderr",
     "output_type": "stream",
     "text": []
    },
    {
     "name": "stdout",
     "output_type": "stream",
     "text": [
      "Image pos000_EDOF_RGB.tiff processed. Total shapes extracted: 103\n"
     ]
    },
    {
     "name": "stderr",
     "output_type": "stream",
     "text": []
    },
    {
     "name": "stdout",
     "output_type": "stream",
     "text": [
      "Image pos004_EDOF_RGB.tiff processed. Total shapes extracted: 94\n"
     ]
    },
    {
     "name": "stderr",
     "output_type": "stream",
     "text": []
    },
    {
     "name": "stdout",
     "output_type": "stream",
     "text": [
      "Image pos001_EDOF_RGB.tiff processed. Total shapes extracted: 94\n"
     ]
    },
    {
     "name": "stderr",
     "output_type": "stream",
     "text": [
      "Processing images in folder 270718-04: 100%|██████████| 5/5 [00:16<00:00,  3.38s/it]\n",
      "Processing folders:  43%|████▎     | 42/97 [19:09<17:35, 19.20s/it]"
     ]
    },
    {
     "name": "stdout",
     "output_type": "stream",
     "text": [
      "Image pos002_EDOF_RGB.tiff processed. Total shapes extracted: 115\n"
     ]
    },
    {
     "name": "stderr",
     "output_type": "stream",
     "text": []
    },
    {
     "name": "stdout",
     "output_type": "stream",
     "text": [
      "Image pos003_EDOF_RGB.tiff processed. Total shapes extracted: 94\n"
     ]
    },
    {
     "name": "stderr",
     "output_type": "stream",
     "text": []
    },
    {
     "name": "stdout",
     "output_type": "stream",
     "text": [
      "Image pos000_EDOF_RGB.tiff processed. Total shapes extracted: 98\n"
     ]
    },
    {
     "name": "stderr",
     "output_type": "stream",
     "text": []
    },
    {
     "name": "stdout",
     "output_type": "stream",
     "text": [
      "Image pos004_EDOF_RGB.tiff processed. Total shapes extracted: 78\n"
     ]
    },
    {
     "name": "stderr",
     "output_type": "stream",
     "text": []
    },
    {
     "name": "stdout",
     "output_type": "stream",
     "text": [
      "Image pos001_EDOF_RGB.tiff processed. Total shapes extracted: 79\n"
     ]
    },
    {
     "name": "stderr",
     "output_type": "stream",
     "text": [
      "Processing images in folder 191218-1r1: 100%|██████████| 5/5 [00:15<00:00,  3.15s/it]\n",
      "Processing folders:  44%|████▍     | 43/97 [19:25<16:21, 18.17s/it]"
     ]
    },
    {
     "name": "stdout",
     "output_type": "stream",
     "text": [
      "Image pos002_EDOF_RGB.tiff processed. Total shapes extracted: 69\n"
     ]
    },
    {
     "name": "stderr",
     "output_type": "stream",
     "text": []
    },
    {
     "name": "stdout",
     "output_type": "stream",
     "text": [
      "Image pos009_EDOF_RGB.tiff processed. Total shapes extracted: 1\n"
     ]
    },
    {
     "name": "stderr",
     "output_type": "stream",
     "text": []
    },
    {
     "name": "stdout",
     "output_type": "stream",
     "text": [
      "Image pos003_EDOF_RGB.tiff processed. Total shapes extracted: 1\n"
     ]
    },
    {
     "name": "stderr",
     "output_type": "stream",
     "text": []
    },
    {
     "name": "stdout",
     "output_type": "stream",
     "text": [
      "Image pos007_EDOF_RGB.tiff processed. Total shapes extracted: 1\n"
     ]
    },
    {
     "name": "stderr",
     "output_type": "stream",
     "text": []
    },
    {
     "name": "stdout",
     "output_type": "stream",
     "text": [
      "Image pos000_EDOF_RGB.tiff processed. Total shapes extracted: 1\n"
     ]
    },
    {
     "name": "stderr",
     "output_type": "stream",
     "text": []
    },
    {
     "name": "stdout",
     "output_type": "stream",
     "text": [
      "Image pos004_EDOF_RGB.tiff processed. Total shapes extracted: 1\n"
     ]
    },
    {
     "name": "stderr",
     "output_type": "stream",
     "text": []
    },
    {
     "name": "stdout",
     "output_type": "stream",
     "text": [
      "Image pos005_EDOF_RGB.tiff processed. Total shapes extracted: 1\n"
     ]
    },
    {
     "name": "stderr",
     "output_type": "stream",
     "text": []
    },
    {
     "name": "stdout",
     "output_type": "stream",
     "text": [
      "Image pos001_EDOF_RGB.tiff processed. Total shapes extracted: 1\n"
     ]
    },
    {
     "name": "stderr",
     "output_type": "stream",
     "text": []
    },
    {
     "name": "stdout",
     "output_type": "stream",
     "text": [
      "Image pos006_EDOF_RGB.tiff processed. Total shapes extracted: 1\n"
     ]
    },
    {
     "name": "stderr",
     "output_type": "stream",
     "text": []
    },
    {
     "name": "stdout",
     "output_type": "stream",
     "text": [
      "Image pos002_EDOF_RGB.tiff processed. Total shapes extracted: 1\n"
     ]
    },
    {
     "name": "stderr",
     "output_type": "stream",
     "text": [
      "Processing images in folder 160718-8r1: 100%|██████████| 10/10 [00:18<00:00,  1.85s/it]\n",
      "Processing folders:  45%|████▌     | 44/97 [19:44<16:07, 18.26s/it]"
     ]
    },
    {
     "name": "stdout",
     "output_type": "stream",
     "text": [
      "Image pos008_EDOF_RGB.tiff processed. Total shapes extracted: 1\n"
     ]
    },
    {
     "name": "stderr",
     "output_type": "stream",
     "text": []
    },
    {
     "name": "stdout",
     "output_type": "stream",
     "text": [
      "Image pos003_EDOF_RGB.tiff processed. Total shapes extracted: 67\n"
     ]
    },
    {
     "name": "stderr",
     "output_type": "stream",
     "text": []
    },
    {
     "name": "stdout",
     "output_type": "stream",
     "text": [
      "Image pos000_EDOF_RGB.tiff processed. Total shapes extracted: 66\n"
     ]
    },
    {
     "name": "stderr",
     "output_type": "stream",
     "text": []
    },
    {
     "name": "stdout",
     "output_type": "stream",
     "text": [
      "Image pos004_EDOF_RGB.tiff processed. Total shapes extracted: 57\n"
     ]
    },
    {
     "name": "stderr",
     "output_type": "stream",
     "text": []
    },
    {
     "name": "stdout",
     "output_type": "stream",
     "text": [
      "Image pos001_EDOF_RGB.tiff processed. Total shapes extracted: 108\n"
     ]
    },
    {
     "name": "stderr",
     "output_type": "stream",
     "text": [
      "Processing images in folder 270318-06: 100%|██████████| 5/5 [00:13<00:00,  2.79s/it]\n",
      "Processing folders:  46%|████▋     | 45/97 [19:58<14:42, 16.97s/it]"
     ]
    },
    {
     "name": "stdout",
     "output_type": "stream",
     "text": [
      "Image pos002_EDOF_RGB.tiff processed. Total shapes extracted: 97\n"
     ]
    },
    {
     "name": "stderr",
     "output_type": "stream",
     "text": []
    },
    {
     "name": "stdout",
     "output_type": "stream",
     "text": [
      "Image pos009_EDOF_RGB.tiff processed. Total shapes extracted: 99\n"
     ]
    },
    {
     "name": "stderr",
     "output_type": "stream",
     "text": []
    },
    {
     "name": "stdout",
     "output_type": "stream",
     "text": [
      "Image pos003_EDOF_RGB.tiff processed. Total shapes extracted: 92\n"
     ]
    },
    {
     "name": "stderr",
     "output_type": "stream",
     "text": []
    },
    {
     "name": "stdout",
     "output_type": "stream",
     "text": [
      "Image pos007_EDOF_RGB.tiff processed. Total shapes extracted: 109\n"
     ]
    },
    {
     "name": "stderr",
     "output_type": "stream",
     "text": []
    },
    {
     "name": "stdout",
     "output_type": "stream",
     "text": [
      "Image pos000_EDOF_RGB.tiff processed. Total shapes extracted: 108\n"
     ]
    },
    {
     "name": "stderr",
     "output_type": "stream",
     "text": []
    },
    {
     "name": "stdout",
     "output_type": "stream",
     "text": [
      "Image pos004_EDOF_RGB.tiff processed. Total shapes extracted: 84\n"
     ]
    },
    {
     "name": "stderr",
     "output_type": "stream",
     "text": []
    },
    {
     "name": "stdout",
     "output_type": "stream",
     "text": [
      "Image pos005_EDOF_RGB.tiff processed. Total shapes extracted: 103\n"
     ]
    },
    {
     "name": "stderr",
     "output_type": "stream",
     "text": []
    },
    {
     "name": "stdout",
     "output_type": "stream",
     "text": [
      "Image pos001_EDOF_RGB.tiff processed. Total shapes extracted: 103\n"
     ]
    },
    {
     "name": "stderr",
     "output_type": "stream",
     "text": []
    },
    {
     "name": "stdout",
     "output_type": "stream",
     "text": [
      "Image pos006_EDOF_RGB.tiff processed. Total shapes extracted: 122\n"
     ]
    },
    {
     "name": "stderr",
     "output_type": "stream",
     "text": []
    },
    {
     "name": "stdout",
     "output_type": "stream",
     "text": [
      "Image pos002_EDOF_RGB.tiff processed. Total shapes extracted: 71\n"
     ]
    },
    {
     "name": "stderr",
     "output_type": "stream",
     "text": [
      "Processing images in folder 190219-48: 100%|██████████| 10/10 [00:31<00:00,  3.15s/it]\n",
      "Processing folders:  47%|████▋     | 46/97 [20:29<18:08, 21.34s/it]"
     ]
    },
    {
     "name": "stdout",
     "output_type": "stream",
     "text": [
      "Image pos008_EDOF_RGB.tiff processed. Total shapes extracted: 123\n"
     ]
    },
    {
     "name": "stderr",
     "output_type": "stream",
     "text": []
    },
    {
     "name": "stdout",
     "output_type": "stream",
     "text": [
      "Image pos003_EDOF_RGB.tiff processed. Total shapes extracted: 114\n"
     ]
    },
    {
     "name": "stderr",
     "output_type": "stream",
     "text": []
    },
    {
     "name": "stdout",
     "output_type": "stream",
     "text": [
      "Image pos000_EDOF_RGB.tiff processed. Total shapes extracted: 66\n"
     ]
    },
    {
     "name": "stderr",
     "output_type": "stream",
     "text": []
    },
    {
     "name": "stdout",
     "output_type": "stream",
     "text": [
      "Image pos004_EDOF_RGB.tiff processed. Total shapes extracted: 124\n"
     ]
    },
    {
     "name": "stderr",
     "output_type": "stream",
     "text": []
    },
    {
     "name": "stdout",
     "output_type": "stream",
     "text": [
      "Image pos001_EDOF_RGB.tiff processed. Total shapes extracted: 103\n"
     ]
    },
    {
     "name": "stderr",
     "output_type": "stream",
     "text": [
      "Processing images in folder 131018-05: 100%|██████████| 5/5 [00:13<00:00,  2.77s/it]\n",
      "Processing folders:  48%|████▊     | 47/97 [20:43<15:54, 19.09s/it]"
     ]
    },
    {
     "name": "stdout",
     "output_type": "stream",
     "text": [
      "Image pos002_EDOF_RGB.tiff processed. Total shapes extracted: 47\n"
     ]
    },
    {
     "name": "stderr",
     "output_type": "stream",
     "text": []
    },
    {
     "name": "stdout",
     "output_type": "stream",
     "text": [
      "Image pos001_1_EDOF_RGB.tiff processed. Total shapes extracted: 185\n"
     ]
    },
    {
     "name": "stderr",
     "output_type": "stream",
     "text": []
    },
    {
     "name": "stdout",
     "output_type": "stream",
     "text": [
      "Image pos006_2_EDOF_RGB.tiff processed. Total shapes extracted: 156\n"
     ]
    },
    {
     "name": "stderr",
     "output_type": "stream",
     "text": []
    },
    {
     "name": "stdout",
     "output_type": "stream",
     "text": [
      "Image pos003_0_EDOF_RGB.tiff processed. Total shapes extracted: 68\n"
     ]
    },
    {
     "name": "stderr",
     "output_type": "stream",
     "text": []
    },
    {
     "name": "stdout",
     "output_type": "stream",
     "text": [
      "Image pos001_2_EDOF_RGB.tiff processed. Total shapes extracted: 121\n"
     ]
    },
    {
     "name": "stderr",
     "output_type": "stream",
     "text": []
    },
    {
     "name": "stdout",
     "output_type": "stream",
     "text": [
      "Image pos006_1_EDOF_RGB.tiff processed. Total shapes extracted: 114\n"
     ]
    },
    {
     "name": "stderr",
     "output_type": "stream",
     "text": []
    },
    {
     "name": "stdout",
     "output_type": "stream",
     "text": [
      "Image pos002_0_EDOF_RGB.tiff processed. Total shapes extracted: 1\n"
     ]
    },
    {
     "name": "stderr",
     "output_type": "stream",
     "text": []
    },
    {
     "name": "stdout",
     "output_type": "stream",
     "text": [
      "Image pos005_3_EDOF_RGB.tiff processed. Total shapes extracted: 144\n"
     ]
    },
    {
     "name": "stderr",
     "output_type": "stream",
     "text": []
    },
    {
     "name": "stdout",
     "output_type": "stream",
     "text": [
      "Image pos000_2_EDOF_RGB.tiff processed. Total shapes extracted: 128\n"
     ]
    },
    {
     "name": "stderr",
     "output_type": "stream",
     "text": []
    },
    {
     "name": "stdout",
     "output_type": "stream",
     "text": [
      "Image pos007_1_EDOF_RGB.tiff processed. Total shapes extracted: 125\n"
     ]
    },
    {
     "name": "stderr",
     "output_type": "stream",
     "text": []
    },
    {
     "name": "stdout",
     "output_type": "stream",
     "text": [
      "Image pos000_1_EDOF_RGB.tiff processed. Total shapes extracted: 200\n"
     ]
    },
    {
     "name": "stderr",
     "output_type": "stream",
     "text": []
    },
    {
     "name": "stdout",
     "output_type": "stream",
     "text": [
      "Image pos007_2_EDOF_RGB.tiff processed. Total shapes extracted: 91\n"
     ]
    },
    {
     "name": "stderr",
     "output_type": "stream",
     "text": []
    },
    {
     "name": "stdout",
     "output_type": "stream",
     "text": [
      "Image pos005_0_EDOF_RGB.tiff processed. Total shapes extracted: 1\n"
     ]
    },
    {
     "name": "stderr",
     "output_type": "stream",
     "text": []
    },
    {
     "name": "stdout",
     "output_type": "stream",
     "text": [
      "Image pos007_3_EDOF_RGB.tiff processed. Total shapes extracted: 146\n"
     ]
    },
    {
     "name": "stderr",
     "output_type": "stream",
     "text": []
    },
    {
     "name": "stdout",
     "output_type": "stream",
     "text": [
      "Image pos005_1_EDOF_RGB.tiff processed. Total shapes extracted: 161\n"
     ]
    },
    {
     "name": "stderr",
     "output_type": "stream",
     "text": []
    },
    {
     "name": "stdout",
     "output_type": "stream",
     "text": [
      "Image pos005_2_EDOF_RGB.tiff processed. Total shapes extracted: 152\n"
     ]
    },
    {
     "name": "stderr",
     "output_type": "stream",
     "text": []
    },
    {
     "name": "stdout",
     "output_type": "stream",
     "text": [
      "Image pos002_1_EDOF_RGB.tiff processed. Total shapes extracted: 1\n"
     ]
    },
    {
     "name": "stderr",
     "output_type": "stream",
     "text": []
    },
    {
     "name": "stdout",
     "output_type": "stream",
     "text": [
      "Image pos007_0_EDOF_RGB.tiff processed. Total shapes extracted: 98\n"
     ]
    },
    {
     "name": "stderr",
     "output_type": "stream",
     "text": []
    },
    {
     "name": "stdout",
     "output_type": "stream",
     "text": [
      "Image pos000_3_EDOF_RGB.tiff processed. Total shapes extracted: 127\n"
     ]
    },
    {
     "name": "stderr",
     "output_type": "stream",
     "text": []
    },
    {
     "name": "stdout",
     "output_type": "stream",
     "text": [
      "Image pos003_1_EDOF_RGB.tiff processed. Total shapes extracted: 1\n"
     ]
    },
    {
     "name": "stderr",
     "output_type": "stream",
     "text": []
    },
    {
     "name": "stdout",
     "output_type": "stream",
     "text": [
      "Image pos006_0_EDOF_RGB.tiff processed. Total shapes extracted: 1\n"
     ]
    },
    {
     "name": "stderr",
     "output_type": "stream",
     "text": []
    },
    {
     "name": "stdout",
     "output_type": "stream",
     "text": [
      "Image pos001_3_EDOF_RGB.tiff processed. Total shapes extracted: 141\n"
     ]
    },
    {
     "name": "stderr",
     "output_type": "stream",
     "text": []
    },
    {
     "name": "stdout",
     "output_type": "stream",
     "text": [
      "Image pos006_3_EDOF_RGB.tiff processed. Total shapes extracted: 107\n"
     ]
    },
    {
     "name": "stderr",
     "output_type": "stream",
     "text": [
      "Processing images in folder 190619-19: 100%|██████████| 23/23 [01:08<00:00,  2.96s/it]\n",
      "Processing folders:  49%|████▉     | 48/97 [21:51<27:35, 33.79s/it]"
     ]
    },
    {
     "name": "stdout",
     "output_type": "stream",
     "text": [
      "Image pos001_0_EDOF_RGB.tiff processed. Total shapes extracted: 107\n"
     ]
    },
    {
     "name": "stderr",
     "output_type": "stream",
     "text": []
    },
    {
     "name": "stdout",
     "output_type": "stream",
     "text": [
      "Image pos003_EDOF_RGB.tiff processed. Total shapes extracted: 61\n"
     ]
    },
    {
     "name": "stderr",
     "output_type": "stream",
     "text": []
    },
    {
     "name": "stdout",
     "output_type": "stream",
     "text": [
      "Image pos000_EDOF_RGB.tiff processed. Total shapes extracted: 97\n"
     ]
    },
    {
     "name": "stderr",
     "output_type": "stream",
     "text": []
    },
    {
     "name": "stdout",
     "output_type": "stream",
     "text": [
      "Image pos004_EDOF_RGB.tiff processed. Total shapes extracted: 129\n"
     ]
    },
    {
     "name": "stderr",
     "output_type": "stream",
     "text": []
    },
    {
     "name": "stdout",
     "output_type": "stream",
     "text": [
      "Image pos001_EDOF_RGB.tiff processed. Total shapes extracted: 72\n"
     ]
    },
    {
     "name": "stderr",
     "output_type": "stream",
     "text": [
      "Processing images in folder 090818-6r1: 100%|██████████| 5/5 [00:12<00:00,  2.46s/it]\n",
      "Processing folders:  51%|█████     | 49/97 [22:03<21:52, 27.34s/it]"
     ]
    },
    {
     "name": "stdout",
     "output_type": "stream",
     "text": [
      "Image pos002_EDOF_RGB.tiff processed. Total shapes extracted: 144\n"
     ]
    },
    {
     "name": "stderr",
     "output_type": "stream",
     "text": []
    },
    {
     "name": "stdout",
     "output_type": "stream",
     "text": [
      "Image pos009_EDOF_RGB.tiff processed. Total shapes extracted: 154\n"
     ]
    },
    {
     "name": "stderr",
     "output_type": "stream",
     "text": []
    },
    {
     "name": "stdout",
     "output_type": "stream",
     "text": [
      "Image pos003_EDOF_RGB.tiff processed. Total shapes extracted: 163\n"
     ]
    },
    {
     "name": "stderr",
     "output_type": "stream",
     "text": []
    },
    {
     "name": "stdout",
     "output_type": "stream",
     "text": [
      "Image pos007_EDOF_RGB.tiff processed. Total shapes extracted: 157\n"
     ]
    },
    {
     "name": "stderr",
     "output_type": "stream",
     "text": []
    },
    {
     "name": "stdout",
     "output_type": "stream",
     "text": [
      "Image pos000_EDOF_RGB.tiff processed. Total shapes extracted: 155\n"
     ]
    },
    {
     "name": "stderr",
     "output_type": "stream",
     "text": []
    },
    {
     "name": "stdout",
     "output_type": "stream",
     "text": [
      "Image pos004_EDOF_RGB.tiff processed. Total shapes extracted: 126\n"
     ]
    },
    {
     "name": "stderr",
     "output_type": "stream",
     "text": []
    },
    {
     "name": "stdout",
     "output_type": "stream",
     "text": [
      "Image pos005_EDOF_RGB.tiff processed. Total shapes extracted: 135\n"
     ]
    },
    {
     "name": "stderr",
     "output_type": "stream",
     "text": []
    },
    {
     "name": "stdout",
     "output_type": "stream",
     "text": [
      "Image pos001_EDOF_RGB.tiff processed. Total shapes extracted: 141\n"
     ]
    },
    {
     "name": "stderr",
     "output_type": "stream",
     "text": []
    },
    {
     "name": "stdout",
     "output_type": "stream",
     "text": [
      "Image pos006_EDOF_RGB.tiff processed. Total shapes extracted: 136\n"
     ]
    },
    {
     "name": "stderr",
     "output_type": "stream",
     "text": []
    },
    {
     "name": "stdout",
     "output_type": "stream",
     "text": [
      "Image pos002_EDOF_RGB.tiff processed. Total shapes extracted: 149\n"
     ]
    },
    {
     "name": "stderr",
     "output_type": "stream",
     "text": [
      "Processing images in folder 030519-12: 100%|██████████| 10/10 [00:31<00:00,  3.20s/it]\n",
      "Processing folders:  52%|█████▏    | 50/97 [22:35<22:30, 28.74s/it]"
     ]
    },
    {
     "name": "stdout",
     "output_type": "stream",
     "text": [
      "Image pos008_EDOF_RGB.tiff processed. Total shapes extracted: 156\n"
     ]
    },
    {
     "name": "stderr",
     "output_type": "stream",
     "text": []
    },
    {
     "name": "stdout",
     "output_type": "stream",
     "text": [
      "Image pos003_EDOF_RGB.tiff processed. Total shapes extracted: 117\n"
     ]
    },
    {
     "name": "stderr",
     "output_type": "stream",
     "text": []
    },
    {
     "name": "stdout",
     "output_type": "stream",
     "text": [
      "Image pos000_EDOF_RGB.tiff processed. Total shapes extracted: 119\n"
     ]
    },
    {
     "name": "stderr",
     "output_type": "stream",
     "text": []
    },
    {
     "name": "stdout",
     "output_type": "stream",
     "text": [
      "Image pos004_EDOF_RGB.tiff processed. Total shapes extracted: 122\n"
     ]
    },
    {
     "name": "stderr",
     "output_type": "stream",
     "text": []
    },
    {
     "name": "stdout",
     "output_type": "stream",
     "text": [
      "Image pos001_EDOF_RGB.tiff processed. Total shapes extracted: 101\n"
     ]
    },
    {
     "name": "stderr",
     "output_type": "stream",
     "text": [
      "Processing images in folder 200517-17: 100%|██████████| 5/5 [00:14<00:00,  2.86s/it]\n",
      "Processing folders:  53%|█████▎    | 51/97 [22:50<18:43, 24.42s/it]"
     ]
    },
    {
     "name": "stdout",
     "output_type": "stream",
     "text": [
      "Image pos002_EDOF_RGB.tiff processed. Total shapes extracted: 129\n"
     ]
    },
    {
     "name": "stderr",
     "output_type": "stream",
     "text": []
    },
    {
     "name": "stdout",
     "output_type": "stream",
     "text": [
      "Image pos009_EDOF_RGB.tiff processed. Total shapes extracted: 122\n"
     ]
    },
    {
     "name": "stderr",
     "output_type": "stream",
     "text": []
    },
    {
     "name": "stdout",
     "output_type": "stream",
     "text": [
      "Image pos003_EDOF_RGB.tiff processed. Total shapes extracted: 100\n"
     ]
    },
    {
     "name": "stderr",
     "output_type": "stream",
     "text": []
    },
    {
     "name": "stdout",
     "output_type": "stream",
     "text": [
      "Image pos007_EDOF_RGB.tiff processed. Total shapes extracted: 129\n"
     ]
    },
    {
     "name": "stderr",
     "output_type": "stream",
     "text": []
    },
    {
     "name": "stdout",
     "output_type": "stream",
     "text": [
      "Image pos000_EDOF_RGB.tiff processed. Total shapes extracted: 28\n"
     ]
    },
    {
     "name": "stderr",
     "output_type": "stream",
     "text": []
    },
    {
     "name": "stdout",
     "output_type": "stream",
     "text": [
      "Image pos004_EDOF_RGB.tiff processed. Total shapes extracted: 133\n"
     ]
    },
    {
     "name": "stderr",
     "output_type": "stream",
     "text": []
    },
    {
     "name": "stdout",
     "output_type": "stream",
     "text": [
      "Image pos005_EDOF_RGB.tiff processed. Total shapes extracted: 107\n"
     ]
    },
    {
     "name": "stderr",
     "output_type": "stream",
     "text": []
    },
    {
     "name": "stdout",
     "output_type": "stream",
     "text": [
      "Image pos001_EDOF_RGB.tiff processed. Total shapes extracted: 33\n"
     ]
    },
    {
     "name": "stderr",
     "output_type": "stream",
     "text": []
    },
    {
     "name": "stdout",
     "output_type": "stream",
     "text": [
      "Image pos006_EDOF_RGB.tiff processed. Total shapes extracted: 120\n"
     ]
    },
    {
     "name": "stderr",
     "output_type": "stream",
     "text": []
    },
    {
     "name": "stdout",
     "output_type": "stream",
     "text": [
      "Image pos002_EDOF_RGB.tiff processed. Total shapes extracted: 70\n"
     ]
    },
    {
     "name": "stderr",
     "output_type": "stream",
     "text": [
      "Processing images in folder 170419-10: 100%|██████████| 10/10 [00:25<00:00,  2.57s/it]\n",
      "Processing folders:  54%|█████▎    | 52/97 [23:15<18:35, 24.79s/it]"
     ]
    },
    {
     "name": "stdout",
     "output_type": "stream",
     "text": [
      "Image pos008_EDOF_RGB.tiff processed. Total shapes extracted: 114\n"
     ]
    },
    {
     "name": "stderr",
     "output_type": "stream",
     "text": []
    },
    {
     "name": "stdout",
     "output_type": "stream",
     "text": [
      "Image pos003_EDOF_RGB.tiff processed. Total shapes extracted: 85\n"
     ]
    },
    {
     "name": "stderr",
     "output_type": "stream",
     "text": []
    },
    {
     "name": "stdout",
     "output_type": "stream",
     "text": [
      "Image pos000_EDOF_RGB.tiff processed. Total shapes extracted: 61\n"
     ]
    },
    {
     "name": "stderr",
     "output_type": "stream",
     "text": []
    },
    {
     "name": "stdout",
     "output_type": "stream",
     "text": [
      "Image pos004_EDOF_RGB.tiff processed. Total shapes extracted: 82\n"
     ]
    },
    {
     "name": "stderr",
     "output_type": "stream",
     "text": []
    },
    {
     "name": "stdout",
     "output_type": "stream",
     "text": [
      "Image pos005_EDOF_RGB.tiff processed. Total shapes extracted: 84\n"
     ]
    },
    {
     "name": "stderr",
     "output_type": "stream",
     "text": []
    },
    {
     "name": "stdout",
     "output_type": "stream",
     "text": [
      "Image pos001_EDOF_RGB.tiff processed. Total shapes extracted: 80\n"
     ]
    },
    {
     "name": "stderr",
     "output_type": "stream",
     "text": []
    },
    {
     "name": "stdout",
     "output_type": "stream",
     "text": [
      "Image pos006_EDOF_RGB.tiff processed. Total shapes extracted: 42\n"
     ]
    },
    {
     "name": "stderr",
     "output_type": "stream",
     "text": [
      "Processing images in folder 290119-12b: 100%|██████████| 7/7 [00:16<00:00,  2.34s/it]\n",
      "Processing folders:  55%|█████▍    | 53/97 [23:32<16:19, 22.27s/it]"
     ]
    },
    {
     "name": "stdout",
     "output_type": "stream",
     "text": [
      "Image pos002_EDOF_RGB.tiff processed. Total shapes extracted: 80\n"
     ]
    },
    {
     "name": "stderr",
     "output_type": "stream",
     "text": []
    },
    {
     "name": "stdout",
     "output_type": "stream",
     "text": [
      "Image pos009_EDOF_RGB.tiff processed. Total shapes extracted: 1\n"
     ]
    },
    {
     "name": "stderr",
     "output_type": "stream",
     "text": []
    },
    {
     "name": "stdout",
     "output_type": "stream",
     "text": [
      "Image pos003_EDOF_RGB.tiff processed. Total shapes extracted: 1\n"
     ]
    },
    {
     "name": "stderr",
     "output_type": "stream",
     "text": []
    },
    {
     "name": "stdout",
     "output_type": "stream",
     "text": [
      "Image pos007_EDOF_RGB.tiff processed. Total shapes extracted: 2\n"
     ]
    },
    {
     "name": "stderr",
     "output_type": "stream",
     "text": []
    },
    {
     "name": "stdout",
     "output_type": "stream",
     "text": [
      "Image pos000_EDOF_RGB.tiff processed. Total shapes extracted: 1\n"
     ]
    },
    {
     "name": "stderr",
     "output_type": "stream",
     "text": []
    },
    {
     "name": "stdout",
     "output_type": "stream",
     "text": [
      "Image pos004_EDOF_RGB.tiff processed. Total shapes extracted: 2\n"
     ]
    },
    {
     "name": "stderr",
     "output_type": "stream",
     "text": []
    },
    {
     "name": "stdout",
     "output_type": "stream",
     "text": [
      "Image pos005_EDOF_RGB.tiff processed. Total shapes extracted: 1\n"
     ]
    },
    {
     "name": "stderr",
     "output_type": "stream",
     "text": []
    },
    {
     "name": "stdout",
     "output_type": "stream",
     "text": [
      "Image pos001_EDOF_RGB.tiff processed. Total shapes extracted: 1\n"
     ]
    },
    {
     "name": "stderr",
     "output_type": "stream",
     "text": []
    },
    {
     "name": "stdout",
     "output_type": "stream",
     "text": [
      "Image pos006_EDOF_RGB.tiff processed. Total shapes extracted: 1\n"
     ]
    },
    {
     "name": "stderr",
     "output_type": "stream",
     "text": []
    },
    {
     "name": "stdout",
     "output_type": "stream",
     "text": [
      "Image pos002_EDOF_RGB.tiff processed. Total shapes extracted: 1\n"
     ]
    },
    {
     "name": "stderr",
     "output_type": "stream",
     "text": [
      "Processing images in folder 200318-3r1: 100%|██████████| 10/10 [00:17<00:00,  1.71s/it]\n",
      "Processing folders:  56%|█████▌    | 54/97 [23:49<14:51, 20.73s/it]"
     ]
    },
    {
     "name": "stdout",
     "output_type": "stream",
     "text": [
      "Image pos008_EDOF_RGB.tiff processed. Total shapes extracted: 1\n"
     ]
    },
    {
     "name": "stderr",
     "output_type": "stream",
     "text": []
    },
    {
     "name": "stdout",
     "output_type": "stream",
     "text": [
      "Image pos009_EDOF_RGB.tiff processed. Total shapes extracted: 151\n"
     ]
    },
    {
     "name": "stderr",
     "output_type": "stream",
     "text": []
    },
    {
     "name": "stdout",
     "output_type": "stream",
     "text": [
      "Image pos003_EDOF_RGB.tiff processed. Total shapes extracted: 165\n"
     ]
    },
    {
     "name": "stderr",
     "output_type": "stream",
     "text": []
    },
    {
     "name": "stdout",
     "output_type": "stream",
     "text": [
      "Image pos010_EDOF_RGB.tiff processed. Total shapes extracted: 162\n"
     ]
    },
    {
     "name": "stderr",
     "output_type": "stream",
     "text": []
    },
    {
     "name": "stdout",
     "output_type": "stream",
     "text": [
      "Image pos007_EDOF_RGB.tiff processed. Total shapes extracted: 172\n"
     ]
    },
    {
     "name": "stderr",
     "output_type": "stream",
     "text": []
    },
    {
     "name": "stdout",
     "output_type": "stream",
     "text": [
      "Image pos000_EDOF_RGB.tiff processed. Total shapes extracted: 86\n"
     ]
    },
    {
     "name": "stderr",
     "output_type": "stream",
     "text": []
    },
    {
     "name": "stdout",
     "output_type": "stream",
     "text": [
      "Image pos004_EDOF_RGB.tiff processed. Total shapes extracted: 162\n"
     ]
    },
    {
     "name": "stderr",
     "output_type": "stream",
     "text": []
    },
    {
     "name": "stdout",
     "output_type": "stream",
     "text": [
      "Image pos005_EDOF_RGB.tiff processed. Total shapes extracted: 170\n"
     ]
    },
    {
     "name": "stderr",
     "output_type": "stream",
     "text": []
    },
    {
     "name": "stdout",
     "output_type": "stream",
     "text": [
      "Image pos001_EDOF_RGB.tiff processed. Total shapes extracted: 151\n"
     ]
    },
    {
     "name": "stderr",
     "output_type": "stream",
     "text": []
    },
    {
     "name": "stdout",
     "output_type": "stream",
     "text": [
      "Image pos006_EDOF_RGB.tiff processed. Total shapes extracted: 157\n"
     ]
    },
    {
     "name": "stderr",
     "output_type": "stream",
     "text": []
    },
    {
     "name": "stdout",
     "output_type": "stream",
     "text": [
      "Image pos002_EDOF_RGB.tiff processed. Total shapes extracted: 183\n"
     ]
    },
    {
     "name": "stderr",
     "output_type": "stream",
     "text": [
      "Processing images in folder 060519-15: 100%|██████████| 11/11 [00:37<00:00,  3.38s/it]\n",
      "Processing folders:  57%|█████▋    | 55/97 [24:26<17:57, 25.66s/it]"
     ]
    },
    {
     "name": "stdout",
     "output_type": "stream",
     "text": [
      "Image pos008_EDOF_RGB.tiff processed. Total shapes extracted: 177\n"
     ]
    },
    {
     "name": "stderr",
     "output_type": "stream",
     "text": []
    },
    {
     "name": "stdout",
     "output_type": "stream",
     "text": [
      "Image pos009_EDOF_RGB.tiff processed. Total shapes extracted: 1\n"
     ]
    },
    {
     "name": "stderr",
     "output_type": "stream",
     "text": []
    },
    {
     "name": "stdout",
     "output_type": "stream",
     "text": [
      "Image pos003_EDOF_RGB.tiff processed. Total shapes extracted: 1\n"
     ]
    },
    {
     "name": "stderr",
     "output_type": "stream",
     "text": []
    },
    {
     "name": "stdout",
     "output_type": "stream",
     "text": [
      "Image pos007_EDOF_RGB.tiff processed. Total shapes extracted: 1\n"
     ]
    },
    {
     "name": "stderr",
     "output_type": "stream",
     "text": []
    },
    {
     "name": "stdout",
     "output_type": "stream",
     "text": [
      "Image pos000_EDOF_RGB.tiff processed. Total shapes extracted: 1\n"
     ]
    },
    {
     "name": "stderr",
     "output_type": "stream",
     "text": []
    },
    {
     "name": "stdout",
     "output_type": "stream",
     "text": [
      "Image pos004_EDOF_RGB.tiff processed. Total shapes extracted: 2\n"
     ]
    },
    {
     "name": "stderr",
     "output_type": "stream",
     "text": []
    },
    {
     "name": "stdout",
     "output_type": "stream",
     "text": [
      "Image pos005_EDOF_RGB.tiff processed. Total shapes extracted: 1\n"
     ]
    },
    {
     "name": "stderr",
     "output_type": "stream",
     "text": []
    },
    {
     "name": "stdout",
     "output_type": "stream",
     "text": [
      "Image pos001_EDOF_RGB.tiff processed. Total shapes extracted: 1\n"
     ]
    },
    {
     "name": "stderr",
     "output_type": "stream",
     "text": []
    },
    {
     "name": "stdout",
     "output_type": "stream",
     "text": [
      "Image pos006_EDOF_RGB.tiff processed. Total shapes extracted: 1\n"
     ]
    },
    {
     "name": "stderr",
     "output_type": "stream",
     "text": []
    },
    {
     "name": "stdout",
     "output_type": "stream",
     "text": [
      "Image pos002_EDOF_RGB.tiff processed. Total shapes extracted: 1\n"
     ]
    },
    {
     "name": "stderr",
     "output_type": "stream",
     "text": [
      "Processing images in folder 300118-1r2: 100%|██████████| 10/10 [00:14<00:00,  1.46s/it]\n",
      "Processing folders:  58%|█████▊    | 56/97 [24:41<15:15, 22.33s/it]"
     ]
    },
    {
     "name": "stdout",
     "output_type": "stream",
     "text": [
      "Image pos008_EDOF_RGB.tiff processed. Total shapes extracted: 1\n"
     ]
    },
    {
     "name": "stderr",
     "output_type": "stream",
     "text": []
    },
    {
     "name": "stdout",
     "output_type": "stream",
     "text": [
      "Image pos009_EDOF_RGB.tiff processed. Total shapes extracted: 98\n"
     ]
    },
    {
     "name": "stderr",
     "output_type": "stream",
     "text": []
    },
    {
     "name": "stdout",
     "output_type": "stream",
     "text": [
      "Image pos003_EDOF_RGB.tiff processed. Total shapes extracted: 56\n"
     ]
    },
    {
     "name": "stderr",
     "output_type": "stream",
     "text": []
    },
    {
     "name": "stdout",
     "output_type": "stream",
     "text": [
      "Image pos007_EDOF_RGB.tiff processed. Total shapes extracted: 108\n"
     ]
    },
    {
     "name": "stderr",
     "output_type": "stream",
     "text": []
    },
    {
     "name": "stdout",
     "output_type": "stream",
     "text": [
      "Image pos000_EDOF_RGB.tiff processed. Total shapes extracted: 24\n"
     ]
    },
    {
     "name": "stderr",
     "output_type": "stream",
     "text": []
    },
    {
     "name": "stdout",
     "output_type": "stream",
     "text": [
      "Image pos004_EDOF_RGB.tiff processed. Total shapes extracted: 83\n"
     ]
    },
    {
     "name": "stderr",
     "output_type": "stream",
     "text": []
    },
    {
     "name": "stdout",
     "output_type": "stream",
     "text": [
      "Image pos005_EDOF_RGB.tiff processed. Total shapes extracted: 124\n"
     ]
    },
    {
     "name": "stderr",
     "output_type": "stream",
     "text": []
    },
    {
     "name": "stdout",
     "output_type": "stream",
     "text": [
      "Image pos001_EDOF_RGB.tiff processed. Total shapes extracted: 91\n"
     ]
    },
    {
     "name": "stderr",
     "output_type": "stream",
     "text": []
    },
    {
     "name": "stdout",
     "output_type": "stream",
     "text": [
      "Image pos006_EDOF_RGB.tiff processed. Total shapes extracted: 122\n"
     ]
    },
    {
     "name": "stderr",
     "output_type": "stream",
     "text": []
    },
    {
     "name": "stdout",
     "output_type": "stream",
     "text": [
      "Image pos002_EDOF_RGB.tiff processed. Total shapes extracted: 96\n"
     ]
    },
    {
     "name": "stderr",
     "output_type": "stream",
     "text": [
      "Processing images in folder 080818-9r1: 100%|██████████| 10/10 [00:23<00:00,  2.34s/it]\n",
      "Processing folders:  59%|█████▉    | 57/97 [25:04<15:06, 22.67s/it]"
     ]
    },
    {
     "name": "stdout",
     "output_type": "stream",
     "text": [
      "Image pos008_EDOF_RGB.tiff processed. Total shapes extracted: 38\n"
     ]
    },
    {
     "name": "stderr",
     "output_type": "stream",
     "text": []
    },
    {
     "name": "stdout",
     "output_type": "stream",
     "text": [
      "Image pos000_EDOF_RGB.tiff processed. Total shapes extracted: 58\n"
     ]
    },
    {
     "name": "stderr",
     "output_type": "stream",
     "text": []
    },
    {
     "name": "stdout",
     "output_type": "stream",
     "text": [
      "Image pos001_EDOF_RGB.tiff processed. Total shapes extracted: 93\n"
     ]
    },
    {
     "name": "stderr",
     "output_type": "stream",
     "text": [
      "Processing images in folder 220219-06: 100%|██████████| 3/3 [00:07<00:00,  2.56s/it]\n",
      "Processing folders:  60%|█████▉    | 58/97 [25:12<11:48, 18.17s/it]"
     ]
    },
    {
     "name": "stdout",
     "output_type": "stream",
     "text": [
      "Image pos002_EDOF_RGB.tiff processed. Total shapes extracted: 114\n"
     ]
    },
    {
     "name": "stderr",
     "output_type": "stream",
     "text": []
    },
    {
     "name": "stdout",
     "output_type": "stream",
     "text": [
      "Image pos003_EDOF_RGB.tiff processed. Total shapes extracted: 100\n"
     ]
    },
    {
     "name": "stderr",
     "output_type": "stream",
     "text": []
    },
    {
     "name": "stdout",
     "output_type": "stream",
     "text": [
      "Image pos000_EDOF_RGB.tiff processed. Total shapes extracted: 61\n"
     ]
    },
    {
     "name": "stderr",
     "output_type": "stream",
     "text": []
    },
    {
     "name": "stdout",
     "output_type": "stream",
     "text": [
      "Image pos004_EDOF_RGB.tiff processed. Total shapes extracted: 83\n"
     ]
    },
    {
     "name": "stderr",
     "output_type": "stream",
     "text": []
    },
    {
     "name": "stdout",
     "output_type": "stream",
     "text": [
      "Image pos001_EDOF_RGB.tiff processed. Total shapes extracted: 108\n"
     ]
    },
    {
     "name": "stderr",
     "output_type": "stream",
     "text": [
      "Processing images in folder 260318-14: 100%|██████████| 5/5 [00:13<00:00,  2.70s/it]\n",
      "Processing folders:  61%|██████    | 59/97 [25:25<10:37, 16.76s/it]"
     ]
    },
    {
     "name": "stdout",
     "output_type": "stream",
     "text": [
      "Image pos002_EDOF_RGB.tiff processed. Total shapes extracted: 65\n"
     ]
    },
    {
     "name": "stderr",
     "output_type": "stream",
     "text": []
    },
    {
     "name": "stdout",
     "output_type": "stream",
     "text": [
      "Image pos003_EDOF_RGB.tiff processed. Total shapes extracted: 1\n"
     ]
    },
    {
     "name": "stderr",
     "output_type": "stream",
     "text": []
    },
    {
     "name": "stdout",
     "output_type": "stream",
     "text": [
      "Image pos000_EDOF_RGB.tiff processed. Total shapes extracted: 1\n"
     ]
    },
    {
     "name": "stderr",
     "output_type": "stream",
     "text": []
    },
    {
     "name": "stdout",
     "output_type": "stream",
     "text": [
      "Image pos004_EDOF_RGB.tiff processed. Total shapes extracted: 1\n"
     ]
    },
    {
     "name": "stderr",
     "output_type": "stream",
     "text": []
    },
    {
     "name": "stdout",
     "output_type": "stream",
     "text": [
      "Image pos005_EDOF_RGB.tiff processed. Total shapes extracted: 1\n"
     ]
    },
    {
     "name": "stderr",
     "output_type": "stream",
     "text": []
    },
    {
     "name": "stdout",
     "output_type": "stream",
     "text": [
      "Image pos001_EDOF_RGB.tiff processed. Total shapes extracted: 1\n"
     ]
    },
    {
     "name": "stderr",
     "output_type": "stream",
     "text": [
      "Processing images in folder 260318-13: 100%|██████████| 6/6 [00:09<00:00,  1.55s/it]\n",
      "Processing folders:  62%|██████▏   | 60/97 [25:35<08:57, 14.52s/it]"
     ]
    },
    {
     "name": "stdout",
     "output_type": "stream",
     "text": [
      "Image pos002_EDOF_RGB.tiff processed. Total shapes extracted: 1\n"
     ]
    },
    {
     "name": "stderr",
     "output_type": "stream",
     "text": []
    },
    {
     "name": "stdout",
     "output_type": "stream",
     "text": [
      "Image pos003_EDOF_RGB.tiff processed. Total shapes extracted: 1\n"
     ]
    },
    {
     "name": "stderr",
     "output_type": "stream",
     "text": []
    },
    {
     "name": "stdout",
     "output_type": "stream",
     "text": [
      "Image pos000_EDOF_RGB.tiff processed. Total shapes extracted: 1\n"
     ]
    },
    {
     "name": "stderr",
     "output_type": "stream",
     "text": []
    },
    {
     "name": "stdout",
     "output_type": "stream",
     "text": [
      "Image pos004_EDOF_RGB.tiff processed. Total shapes extracted: 1\n"
     ]
    },
    {
     "name": "stderr",
     "output_type": "stream",
     "text": []
    },
    {
     "name": "stdout",
     "output_type": "stream",
     "text": [
      "Image pos001_EDOF_RGB.tiff processed. Total shapes extracted: 2\n"
     ]
    },
    {
     "name": "stderr",
     "output_type": "stream",
     "text": [
      "Processing images in folder 300318-01: 100%|██████████| 5/5 [00:08<00:00,  1.78s/it]\n",
      "Processing folders:  63%|██████▎   | 61/97 [25:43<07:42, 12.83s/it]"
     ]
    },
    {
     "name": "stdout",
     "output_type": "stream",
     "text": [
      "Image pos002_EDOF_RGB.tiff processed. Total shapes extracted: 2\n"
     ]
    },
    {
     "name": "stderr",
     "output_type": "stream",
     "text": []
    },
    {
     "name": "stdout",
     "output_type": "stream",
     "text": [
      "Image pos009_EDOF_RGB.tiff processed. Total shapes extracted: 213\n"
     ]
    },
    {
     "name": "stderr",
     "output_type": "stream",
     "text": []
    },
    {
     "name": "stdout",
     "output_type": "stream",
     "text": [
      "Image pos003_EDOF_RGB.tiff processed. Total shapes extracted: 196\n"
     ]
    },
    {
     "name": "stderr",
     "output_type": "stream",
     "text": []
    },
    {
     "name": "stdout",
     "output_type": "stream",
     "text": [
      "Image pos007_EDOF_RGB.tiff processed. Total shapes extracted: 228\n"
     ]
    },
    {
     "name": "stderr",
     "output_type": "stream",
     "text": []
    },
    {
     "name": "stdout",
     "output_type": "stream",
     "text": [
      "Image pos000_EDOF_RGB.tiff processed. Total shapes extracted: 140\n"
     ]
    },
    {
     "name": "stderr",
     "output_type": "stream",
     "text": []
    },
    {
     "name": "stdout",
     "output_type": "stream",
     "text": [
      "Image pos004_EDOF_RGB.tiff processed. Total shapes extracted: 179\n"
     ]
    },
    {
     "name": "stderr",
     "output_type": "stream",
     "text": []
    },
    {
     "name": "stdout",
     "output_type": "stream",
     "text": [
      "Image pos005_EDOF_RGB.tiff processed. Total shapes extracted: 210\n"
     ]
    },
    {
     "name": "stderr",
     "output_type": "stream",
     "text": []
    },
    {
     "name": "stdout",
     "output_type": "stream",
     "text": [
      "Image pos001_EDOF_RGB.tiff processed. Total shapes extracted: 201\n"
     ]
    },
    {
     "name": "stderr",
     "output_type": "stream",
     "text": []
    },
    {
     "name": "stdout",
     "output_type": "stream",
     "text": [
      "Image pos006_EDOF_RGB.tiff processed. Total shapes extracted: 219\n"
     ]
    },
    {
     "name": "stderr",
     "output_type": "stream",
     "text": []
    },
    {
     "name": "stdout",
     "output_type": "stream",
     "text": [
      "Image pos002_EDOF_RGB.tiff processed. Total shapes extracted: 204\n"
     ]
    },
    {
     "name": "stderr",
     "output_type": "stream",
     "text": [
      "Processing images in folder 230419-3r1: 100%|██████████| 10/10 [00:39<00:00,  3.94s/it]\n",
      "Processing folders:  64%|██████▍   | 62/97 [26:23<12:08, 20.81s/it]"
     ]
    },
    {
     "name": "stdout",
     "output_type": "stream",
     "text": [
      "Image pos008_EDOF_RGB.tiff processed. Total shapes extracted: 234\n"
     ]
    },
    {
     "name": "stderr",
     "output_type": "stream",
     "text": []
    },
    {
     "name": "stdout",
     "output_type": "stream",
     "text": [
      "Image pos009_EDOF_RGB.tiff processed. Total shapes extracted: 1\n"
     ]
    },
    {
     "name": "stderr",
     "output_type": "stream",
     "text": []
    },
    {
     "name": "stdout",
     "output_type": "stream",
     "text": [
      "Image pos003_EDOF_RGB.tiff processed. Total shapes extracted: 1\n"
     ]
    },
    {
     "name": "stderr",
     "output_type": "stream",
     "text": []
    },
    {
     "name": "stdout",
     "output_type": "stream",
     "text": [
      "Image pos007_EDOF_RGB.tiff processed. Total shapes extracted: 1\n"
     ]
    },
    {
     "name": "stderr",
     "output_type": "stream",
     "text": []
    },
    {
     "name": "stdout",
     "output_type": "stream",
     "text": [
      "Image pos000_EDOF_RGB.tiff processed. Total shapes extracted: 1\n"
     ]
    },
    {
     "name": "stderr",
     "output_type": "stream",
     "text": []
    },
    {
     "name": "stdout",
     "output_type": "stream",
     "text": [
      "Image pos004_EDOF_RGB.tiff processed. Total shapes extracted: 1\n"
     ]
    },
    {
     "name": "stderr",
     "output_type": "stream",
     "text": []
    },
    {
     "name": "stdout",
     "output_type": "stream",
     "text": [
      "Image pos005_EDOF_RGB.tiff processed. Total shapes extracted: 1\n"
     ]
    },
    {
     "name": "stderr",
     "output_type": "stream",
     "text": []
    },
    {
     "name": "stdout",
     "output_type": "stream",
     "text": [
      "Image pos001_EDOF_RGB.tiff processed. Total shapes extracted: 1\n"
     ]
    },
    {
     "name": "stderr",
     "output_type": "stream",
     "text": []
    },
    {
     "name": "stdout",
     "output_type": "stream",
     "text": [
      "Image pos006_EDOF_RGB.tiff processed. Total shapes extracted: 1\n"
     ]
    },
    {
     "name": "stderr",
     "output_type": "stream",
     "text": []
    },
    {
     "name": "stdout",
     "output_type": "stream",
     "text": [
      "Image pos002_EDOF_RGB.tiff processed. Total shapes extracted: 1\n"
     ]
    },
    {
     "name": "stderr",
     "output_type": "stream",
     "text": [
      "Processing images in folder 050418-16: 100%|██████████| 10/10 [00:15<00:00,  1.56s/it]\n",
      "Processing folders:  65%|██████▍   | 63/97 [26:38<10:53, 19.23s/it]"
     ]
    },
    {
     "name": "stdout",
     "output_type": "stream",
     "text": [
      "Image pos008_EDOF_RGB.tiff processed. Total shapes extracted: 1\n"
     ]
    },
    {
     "name": "stderr",
     "output_type": "stream",
     "text": []
    },
    {
     "name": "stdout",
     "output_type": "stream",
     "text": [
      "Image pos009_EDOF_RGB.tiff processed. Total shapes extracted: 96\n"
     ]
    },
    {
     "name": "stderr",
     "output_type": "stream",
     "text": []
    },
    {
     "name": "stdout",
     "output_type": "stream",
     "text": [
      "Image pos003_EDOF_RGB.tiff processed. Total shapes extracted: 79\n"
     ]
    },
    {
     "name": "stderr",
     "output_type": "stream",
     "text": []
    },
    {
     "name": "stdout",
     "output_type": "stream",
     "text": [
      "Image pos007_EDOF_RGB.tiff processed. Total shapes extracted: 68\n"
     ]
    },
    {
     "name": "stderr",
     "output_type": "stream",
     "text": []
    },
    {
     "name": "stdout",
     "output_type": "stream",
     "text": [
      "Image pos000_EDOF_RGB.tiff processed. Total shapes extracted: 69\n"
     ]
    },
    {
     "name": "stderr",
     "output_type": "stream",
     "text": []
    },
    {
     "name": "stdout",
     "output_type": "stream",
     "text": [
      "Image pos004_EDOF_RGB.tiff processed. Total shapes extracted: 76\n"
     ]
    },
    {
     "name": "stderr",
     "output_type": "stream",
     "text": []
    },
    {
     "name": "stdout",
     "output_type": "stream",
     "text": [
      "Image pos005_EDOF_RGB.tiff processed. Total shapes extracted: 74\n"
     ]
    },
    {
     "name": "stderr",
     "output_type": "stream",
     "text": []
    },
    {
     "name": "stdout",
     "output_type": "stream",
     "text": [
      "Image pos001_EDOF_RGB.tiff processed. Total shapes extracted: 64\n"
     ]
    },
    {
     "name": "stderr",
     "output_type": "stream",
     "text": []
    },
    {
     "name": "stdout",
     "output_type": "stream",
     "text": [
      "Image pos006_EDOF_RGB.tiff processed. Total shapes extracted: 83\n"
     ]
    },
    {
     "name": "stderr",
     "output_type": "stream",
     "text": []
    },
    {
     "name": "stdout",
     "output_type": "stream",
     "text": [
      "Image pos002_EDOF_RGB.tiff processed. Total shapes extracted: 67\n"
     ]
    },
    {
     "name": "stderr",
     "output_type": "stream",
     "text": [
      "Processing images in folder 130219-5r1: 100%|██████████| 10/10 [00:29<00:00,  2.97s/it]\n",
      "Processing folders:  66%|██████▌   | 64/97 [27:08<12:18, 22.37s/it]"
     ]
    },
    {
     "name": "stdout",
     "output_type": "stream",
     "text": [
      "Image pos008_EDOF_RGB.tiff processed. Total shapes extracted: 72\n"
     ]
    },
    {
     "name": "stderr",
     "output_type": "stream",
     "text": []
    },
    {
     "name": "stdout",
     "output_type": "stream",
     "text": [
      "Image pos009_EDOF_RGB.tiff processed. Total shapes extracted: 131\n"
     ]
    },
    {
     "name": "stderr",
     "output_type": "stream",
     "text": []
    },
    {
     "name": "stdout",
     "output_type": "stream",
     "text": [
      "Image pos003_EDOF_RGB.tiff processed. Total shapes extracted: 129\n"
     ]
    },
    {
     "name": "stderr",
     "output_type": "stream",
     "text": []
    },
    {
     "name": "stdout",
     "output_type": "stream",
     "text": [
      "Image pos007_EDOF_RGB.tiff processed. Total shapes extracted: 129\n"
     ]
    },
    {
     "name": "stderr",
     "output_type": "stream",
     "text": []
    },
    {
     "name": "stdout",
     "output_type": "stream",
     "text": [
      "Image pos000_EDOF_RGB.tiff processed. Total shapes extracted: 108\n"
     ]
    },
    {
     "name": "stderr",
     "output_type": "stream",
     "text": []
    },
    {
     "name": "stdout",
     "output_type": "stream",
     "text": [
      "Image pos004_EDOF_RGB.tiff processed. Total shapes extracted: 131\n"
     ]
    },
    {
     "name": "stderr",
     "output_type": "stream",
     "text": []
    },
    {
     "name": "stdout",
     "output_type": "stream",
     "text": [
      "Image pos005_EDOF_RGB.tiff processed. Total shapes extracted: 119\n"
     ]
    },
    {
     "name": "stderr",
     "output_type": "stream",
     "text": []
    },
    {
     "name": "stdout",
     "output_type": "stream",
     "text": [
      "Image pos001_EDOF_RGB.tiff processed. Total shapes extracted: 125\n"
     ]
    },
    {
     "name": "stderr",
     "output_type": "stream",
     "text": []
    },
    {
     "name": "stdout",
     "output_type": "stream",
     "text": [
      "Image pos006_EDOF_RGB.tiff processed. Total shapes extracted: 120\n"
     ]
    },
    {
     "name": "stderr",
     "output_type": "stream",
     "text": []
    },
    {
     "name": "stdout",
     "output_type": "stream",
     "text": [
      "Image pos002_EDOF_RGB.tiff processed. Total shapes extracted: 122\n"
     ]
    },
    {
     "name": "stderr",
     "output_type": "stream",
     "text": [
      "Processing images in folder 300519-9r1: 100%|██████████| 10/10 [00:30<00:00,  3.04s/it]\n",
      "Processing folders:  67%|██████▋   | 65/97 [27:38<13:13, 24.79s/it]"
     ]
    },
    {
     "name": "stdout",
     "output_type": "stream",
     "text": [
      "Image pos008_EDOF_RGB.tiff processed. Total shapes extracted: 140\n"
     ]
    },
    {
     "name": "stderr",
     "output_type": "stream",
     "text": []
    },
    {
     "name": "stdout",
     "output_type": "stream",
     "text": [
      "Image pos003_EDOF_RGB.tiff processed. Total shapes extracted: 113\n"
     ]
    },
    {
     "name": "stderr",
     "output_type": "stream",
     "text": []
    },
    {
     "name": "stdout",
     "output_type": "stream",
     "text": [
      "Image pos007_EDOF_RGB.tiff processed. Total shapes extracted: 76\n"
     ]
    },
    {
     "name": "stderr",
     "output_type": "stream",
     "text": []
    },
    {
     "name": "stdout",
     "output_type": "stream",
     "text": [
      "Image pos000_EDOF_RGB.tiff processed. Total shapes extracted: 103\n"
     ]
    },
    {
     "name": "stderr",
     "output_type": "stream",
     "text": []
    },
    {
     "name": "stdout",
     "output_type": "stream",
     "text": [
      "Image pos004_EDOF_RGB.tiff processed. Total shapes extracted: 111\n"
     ]
    },
    {
     "name": "stderr",
     "output_type": "stream",
     "text": []
    },
    {
     "name": "stdout",
     "output_type": "stream",
     "text": [
      "Image pos005_EDOF_RGB.tiff processed. Total shapes extracted: 79\n"
     ]
    },
    {
     "name": "stderr",
     "output_type": "stream",
     "text": []
    },
    {
     "name": "stdout",
     "output_type": "stream",
     "text": [
      "Image pos001_EDOF_RGB.tiff processed. Total shapes extracted: 84\n"
     ]
    },
    {
     "name": "stderr",
     "output_type": "stream",
     "text": []
    },
    {
     "name": "stdout",
     "output_type": "stream",
     "text": [
      "Image pos006_EDOF_RGB.tiff processed. Total shapes extracted: 78\n"
     ]
    },
    {
     "name": "stderr",
     "output_type": "stream",
     "text": []
    },
    {
     "name": "stdout",
     "output_type": "stream",
     "text": [
      "Image pos002_EDOF_RGB.tiff processed. Total shapes extracted: 101\n"
     ]
    },
    {
     "name": "stderr",
     "output_type": "stream",
     "text": [
      "Processing images in folder 280519-39: 100%|██████████| 9/9 [00:24<00:00,  2.68s/it]\n",
      "Processing folders:  68%|██████▊   | 66/97 [28:03<12:41, 24.57s/it]"
     ]
    },
    {
     "name": "stdout",
     "output_type": "stream",
     "text": [
      "Image pos008_EDOF_RGB.tiff processed. Total shapes extracted: 102\n"
     ]
    },
    {
     "name": "stderr",
     "output_type": "stream",
     "text": []
    },
    {
     "name": "stdout",
     "output_type": "stream",
     "text": [
      "Image pos009_EDOF_RGB.tiff processed. Total shapes extracted: 177\n"
     ]
    },
    {
     "name": "stderr",
     "output_type": "stream",
     "text": []
    },
    {
     "name": "stdout",
     "output_type": "stream",
     "text": [
      "Image pos003_EDOF_RGB.tiff processed. Total shapes extracted: 193\n"
     ]
    },
    {
     "name": "stderr",
     "output_type": "stream",
     "text": []
    },
    {
     "name": "stdout",
     "output_type": "stream",
     "text": [
      "Image pos007_EDOF_RGB.tiff processed. Total shapes extracted: 175\n"
     ]
    },
    {
     "name": "stderr",
     "output_type": "stream",
     "text": []
    },
    {
     "name": "stdout",
     "output_type": "stream",
     "text": [
      "Image pos000_EDOF_RGB.tiff processed. Total shapes extracted: 123\n"
     ]
    },
    {
     "name": "stderr",
     "output_type": "stream",
     "text": []
    },
    {
     "name": "stdout",
     "output_type": "stream",
     "text": [
      "Image pos004_EDOF_RGB.tiff processed. Total shapes extracted: 178\n"
     ]
    },
    {
     "name": "stderr",
     "output_type": "stream",
     "text": []
    },
    {
     "name": "stdout",
     "output_type": "stream",
     "text": [
      "Image pos005_EDOF_RGB.tiff processed. Total shapes extracted: 163\n"
     ]
    },
    {
     "name": "stderr",
     "output_type": "stream",
     "text": []
    },
    {
     "name": "stdout",
     "output_type": "stream",
     "text": [
      "Image pos001_EDOF_RGB.tiff processed. Total shapes extracted: 167\n"
     ]
    },
    {
     "name": "stderr",
     "output_type": "stream",
     "text": []
    },
    {
     "name": "stdout",
     "output_type": "stream",
     "text": [
      "Image pos006_EDOF_RGB.tiff processed. Total shapes extracted: 186\n"
     ]
    },
    {
     "name": "stderr",
     "output_type": "stream",
     "text": []
    },
    {
     "name": "stdout",
     "output_type": "stream",
     "text": [
      "Image pos002_EDOF_RGB.tiff processed. Total shapes extracted: 186\n"
     ]
    },
    {
     "name": "stderr",
     "output_type": "stream",
     "text": [
      "Processing images in folder 210519-11: 100%|██████████| 10/10 [00:36<00:00,  3.66s/it]\n",
      "Processing folders:  69%|██████▉   | 67/97 [28:39<14:05, 28.18s/it]"
     ]
    },
    {
     "name": "stdout",
     "output_type": "stream",
     "text": [
      "Image pos008_EDOF_RGB.tiff processed. Total shapes extracted: 196\n"
     ]
    },
    {
     "name": "stderr",
     "output_type": "stream",
     "text": []
    },
    {
     "name": "stdout",
     "output_type": "stream",
     "text": [
      "Image pos003_EDOF_RGB.tiff processed. Total shapes extracted: 68\n"
     ]
    },
    {
     "name": "stderr",
     "output_type": "stream",
     "text": []
    },
    {
     "name": "stdout",
     "output_type": "stream",
     "text": [
      "Image pos000_EDOF_RGB.tiff processed. Total shapes extracted: 86\n"
     ]
    },
    {
     "name": "stderr",
     "output_type": "stream",
     "text": []
    },
    {
     "name": "stdout",
     "output_type": "stream",
     "text": [
      "Image pos004_EDOF_RGB.tiff processed. Total shapes extracted: 145\n"
     ]
    },
    {
     "name": "stderr",
     "output_type": "stream",
     "text": []
    },
    {
     "name": "stdout",
     "output_type": "stream",
     "text": [
      "Image pos005_EDOF_RGB.tiff processed. Total shapes extracted: 161\n"
     ]
    },
    {
     "name": "stderr",
     "output_type": "stream",
     "text": []
    },
    {
     "name": "stdout",
     "output_type": "stream",
     "text": [
      "Image pos001_EDOF_RGB.tiff processed. Total shapes extracted: 20\n"
     ]
    },
    {
     "name": "stderr",
     "output_type": "stream",
     "text": [
      "Processing images in folder 060918-12: 100%|██████████| 6/6 [00:14<00:00,  2.42s/it]\n",
      "Processing folders:  70%|███████   | 68/97 [28:54<11:38, 24.08s/it]"
     ]
    },
    {
     "name": "stdout",
     "output_type": "stream",
     "text": [
      "Image pos002_EDOF_RGB.tiff processed. Total shapes extracted: 93\n"
     ]
    },
    {
     "name": "stderr",
     "output_type": "stream",
     "text": []
    },
    {
     "name": "stdout",
     "output_type": "stream",
     "text": [
      "Image pos001_EDOF_DENISOVAN_RGB.tiff processed. Total shapes extracted: 189\n"
     ]
    },
    {
     "name": "stderr",
     "output_type": "stream",
     "text": []
    },
    {
     "name": "stdout",
     "output_type": "stream",
     "text": [
      "Image pos005_EDOF_DENISOVAN_RGB.tiff processed. Total shapes extracted: 189\n"
     ]
    },
    {
     "name": "stderr",
     "output_type": "stream",
     "text": []
    },
    {
     "name": "stdout",
     "output_type": "stream",
     "text": [
      "Image pos006_EDOF_DENISOVAN_RGB.tiff processed. Total shapes extracted: 145\n"
     ]
    },
    {
     "name": "stderr",
     "output_type": "stream",
     "text": []
    },
    {
     "name": "stdout",
     "output_type": "stream",
     "text": [
      "Image pos009_EDOF_DENISOVAN_RGB.tiff processed. Total shapes extracted: 159\n"
     ]
    },
    {
     "name": "stderr",
     "output_type": "stream",
     "text": []
    },
    {
     "name": "stdout",
     "output_type": "stream",
     "text": [
      "Image pos002_EDOF_DENISOVAN_RGB.tiff processed. Total shapes extracted: 182\n"
     ]
    },
    {
     "name": "stderr",
     "output_type": "stream",
     "text": []
    },
    {
     "name": "stdout",
     "output_type": "stream",
     "text": [
      "Image pos004_EDOF_DENISOVAN_RGB.tiff processed. Total shapes extracted: 166\n"
     ]
    },
    {
     "name": "stderr",
     "output_type": "stream",
     "text": []
    },
    {
     "name": "stdout",
     "output_type": "stream",
     "text": [
      "Image pos000_EDOF_DENISOVAN_RGB.tiff processed. Total shapes extracted: 80\n"
     ]
    },
    {
     "name": "stderr",
     "output_type": "stream",
     "text": []
    },
    {
     "name": "stdout",
     "output_type": "stream",
     "text": [
      "Image pos003_EDOF_DENISOVAN_RGB.tiff processed. Total shapes extracted: 167\n"
     ]
    },
    {
     "name": "stderr",
     "output_type": "stream",
     "text": []
    },
    {
     "name": "stdout",
     "output_type": "stream",
     "text": [
      "Image pos008_EDOF_DENISOVAN_RGB.tiff processed. Total shapes extracted: 134\n"
     ]
    },
    {
     "name": "stderr",
     "output_type": "stream",
     "text": [
      "Processing images in folder 220819-15: 100%|██████████| 10/10 [00:33<00:00,  3.30s/it]\n",
      "Processing folders:  71%|███████   | 69/97 [29:27<12:29, 26.76s/it]"
     ]
    },
    {
     "name": "stdout",
     "output_type": "stream",
     "text": [
      "Image pos007_EDOF_DENISOVAN_RGB.tiff processed. Total shapes extracted: 179\n"
     ]
    },
    {
     "name": "stderr",
     "output_type": "stream",
     "text": []
    },
    {
     "name": "stdout",
     "output_type": "stream",
     "text": [
      "Image pos009_EDOF_RGB.tiff processed. Total shapes extracted: 1\n"
     ]
    },
    {
     "name": "stderr",
     "output_type": "stream",
     "text": []
    },
    {
     "name": "stdout",
     "output_type": "stream",
     "text": [
      "Image pos003_EDOF_RGB.tiff processed. Total shapes extracted: 2\n"
     ]
    },
    {
     "name": "stderr",
     "output_type": "stream",
     "text": []
    },
    {
     "name": "stdout",
     "output_type": "stream",
     "text": [
      "Image pos007_EDOF_RGB.tiff processed. Total shapes extracted: 2\n"
     ]
    },
    {
     "name": "stderr",
     "output_type": "stream",
     "text": []
    },
    {
     "name": "stdout",
     "output_type": "stream",
     "text": [
      "Image pos000_EDOF_RGB.tiff processed. Total shapes extracted: 2\n"
     ]
    },
    {
     "name": "stderr",
     "output_type": "stream",
     "text": []
    },
    {
     "name": "stdout",
     "output_type": "stream",
     "text": [
      "Image pos004_EDOF_RGB.tiff processed. Total shapes extracted: 2\n"
     ]
    },
    {
     "name": "stderr",
     "output_type": "stream",
     "text": []
    },
    {
     "name": "stdout",
     "output_type": "stream",
     "text": [
      "Image pos005_EDOF_RGB.tiff processed. Total shapes extracted: 1\n"
     ]
    },
    {
     "name": "stderr",
     "output_type": "stream",
     "text": []
    },
    {
     "name": "stdout",
     "output_type": "stream",
     "text": [
      "Image pos001_EDOF_RGB.tiff processed. Total shapes extracted: 1\n"
     ]
    },
    {
     "name": "stderr",
     "output_type": "stream",
     "text": []
    },
    {
     "name": "stdout",
     "output_type": "stream",
     "text": [
      "Image pos006_EDOF_RGB.tiff processed. Total shapes extracted: 2\n"
     ]
    },
    {
     "name": "stderr",
     "output_type": "stream",
     "text": []
    },
    {
     "name": "stdout",
     "output_type": "stream",
     "text": [
      "Image pos002_EDOF_RGB.tiff processed. Total shapes extracted: 1\n"
     ]
    },
    {
     "name": "stderr",
     "output_type": "stream",
     "text": [
      "Processing images in folder 160718-7r1: 100%|██████████| 10/10 [00:14<00:00,  1.44s/it]\n",
      "Processing folders:  72%|███████▏  | 70/97 [29:41<10:22, 23.07s/it]"
     ]
    },
    {
     "name": "stdout",
     "output_type": "stream",
     "text": [
      "Image pos008_EDOF_RGB.tiff processed. Total shapes extracted: 1\n"
     ]
    },
    {
     "name": "stderr",
     "output_type": "stream",
     "text": []
    },
    {
     "name": "stdout",
     "output_type": "stream",
     "text": [
      "Image pos001_EDOF_DENISOVAN_RGB.tiff processed. Total shapes extracted: 126\n"
     ]
    },
    {
     "name": "stderr",
     "output_type": "stream",
     "text": []
    },
    {
     "name": "stdout",
     "output_type": "stream",
     "text": [
      "Image pos005_EDOF_DENISOVAN_RGB.tiff processed. Total shapes extracted: 139\n"
     ]
    },
    {
     "name": "stderr",
     "output_type": "stream",
     "text": []
    },
    {
     "name": "stdout",
     "output_type": "stream",
     "text": [
      "Image pos006_EDOF_DENISOVAN_RGB.tiff processed. Total shapes extracted: 112\n"
     ]
    },
    {
     "name": "stderr",
     "output_type": "stream",
     "text": []
    },
    {
     "name": "stdout",
     "output_type": "stream",
     "text": [
      "Image pos009_EDOF_DENISOVAN_RGB.tiff processed. Total shapes extracted: 111\n"
     ]
    },
    {
     "name": "stderr",
     "output_type": "stream",
     "text": []
    },
    {
     "name": "stdout",
     "output_type": "stream",
     "text": [
      "Image pos002_EDOF_DENISOVAN_RGB.tiff processed. Total shapes extracted: 126\n"
     ]
    },
    {
     "name": "stderr",
     "output_type": "stream",
     "text": []
    },
    {
     "name": "stdout",
     "output_type": "stream",
     "text": [
      "Image pos004_EDOF_DENISOVAN_RGB.tiff processed. Total shapes extracted: 132\n"
     ]
    },
    {
     "name": "stderr",
     "output_type": "stream",
     "text": []
    },
    {
     "name": "stdout",
     "output_type": "stream",
     "text": [
      "Image pos000_EDOF_DENISOVAN_RGB.tiff processed. Total shapes extracted: 143\n"
     ]
    },
    {
     "name": "stderr",
     "output_type": "stream",
     "text": []
    },
    {
     "name": "stdout",
     "output_type": "stream",
     "text": [
      "Image pos003_EDOF_DENISOVAN_RGB.tiff processed. Total shapes extracted: 121\n"
     ]
    },
    {
     "name": "stderr",
     "output_type": "stream",
     "text": []
    },
    {
     "name": "stdout",
     "output_type": "stream",
     "text": [
      "Image pos008_EDOF_DENISOVAN_RGB.tiff processed. Total shapes extracted: 109\n"
     ]
    },
    {
     "name": "stderr",
     "output_type": "stream",
     "text": [
      "Processing images in folder 290919-04: 100%|██████████| 10/10 [00:25<00:00,  2.59s/it]\n",
      "Processing folders:  73%|███████▎  | 71/97 [30:07<10:22, 23.92s/it]"
     ]
    },
    {
     "name": "stdout",
     "output_type": "stream",
     "text": [
      "Image pos007_EDOF_DENISOVAN_RGB.tiff processed. Total shapes extracted: 92\n"
     ]
    },
    {
     "name": "stderr",
     "output_type": "stream",
     "text": []
    },
    {
     "name": "stdout",
     "output_type": "stream",
     "text": [
      "Image pos001_EDOF_DENISOVAN_RGB.tiff processed. Total shapes extracted: 115\n"
     ]
    },
    {
     "name": "stderr",
     "output_type": "stream",
     "text": []
    },
    {
     "name": "stdout",
     "output_type": "stream",
     "text": [
      "Image pos005_EDOF_DENISOVAN_RGB.tiff processed. Total shapes extracted: 132\n"
     ]
    },
    {
     "name": "stderr",
     "output_type": "stream",
     "text": []
    },
    {
     "name": "stdout",
     "output_type": "stream",
     "text": [
      "Image pos006_EDOF_DENISOVAN_RGB.tiff processed. Total shapes extracted: 138\n"
     ]
    },
    {
     "name": "stderr",
     "output_type": "stream",
     "text": []
    },
    {
     "name": "stdout",
     "output_type": "stream",
     "text": [
      "Image pos009_EDOF_DENISOVAN_RGB.tiff processed. Total shapes extracted: 157\n"
     ]
    },
    {
     "name": "stderr",
     "output_type": "stream",
     "text": []
    },
    {
     "name": "stdout",
     "output_type": "stream",
     "text": [
      "Image pos002_EDOF_DENISOVAN_RGB.tiff processed. Total shapes extracted: 131\n"
     ]
    },
    {
     "name": "stderr",
     "output_type": "stream",
     "text": []
    },
    {
     "name": "stdout",
     "output_type": "stream",
     "text": [
      "Image pos004_EDOF_DENISOVAN_RGB.tiff processed. Total shapes extracted: 151\n"
     ]
    },
    {
     "name": "stderr",
     "output_type": "stream",
     "text": []
    },
    {
     "name": "stdout",
     "output_type": "stream",
     "text": [
      "Image pos000_EDOF_DENISOVAN_RGB.tiff processed. Total shapes extracted: 97\n"
     ]
    },
    {
     "name": "stderr",
     "output_type": "stream",
     "text": []
    },
    {
     "name": "stdout",
     "output_type": "stream",
     "text": [
      "Image pos003_EDOF_DENISOVAN_RGB.tiff processed. Total shapes extracted: 142\n"
     ]
    },
    {
     "name": "stderr",
     "output_type": "stream",
     "text": []
    },
    {
     "name": "stdout",
     "output_type": "stream",
     "text": [
      "Image pos008_EDOF_DENISOVAN_RGB.tiff processed. Total shapes extracted: 172\n"
     ]
    },
    {
     "name": "stderr",
     "output_type": "stream",
     "text": [
      "Processing images in folder 280919-06: 100%|██████████| 10/10 [00:29<00:00,  2.97s/it]\n",
      "Processing folders:  74%|███████▍  | 72/97 [30:37<10:41, 25.65s/it]"
     ]
    },
    {
     "name": "stdout",
     "output_type": "stream",
     "text": [
      "Image pos007_EDOF_DENISOVAN_RGB.tiff processed. Total shapes extracted: 153\n"
     ]
    },
    {
     "name": "stderr",
     "output_type": "stream",
     "text": []
    },
    {
     "name": "stdout",
     "output_type": "stream",
     "text": [
      "Image pos001_EDOF_DENISOVAN_RGB.tiff processed. Total shapes extracted: 168\n"
     ]
    },
    {
     "name": "stderr",
     "output_type": "stream",
     "text": []
    },
    {
     "name": "stdout",
     "output_type": "stream",
     "text": [
      "Image pos005_EDOF_DENISOVAN_RGB.tiff processed. Total shapes extracted: 186\n"
     ]
    },
    {
     "name": "stderr",
     "output_type": "stream",
     "text": []
    },
    {
     "name": "stdout",
     "output_type": "stream",
     "text": [
      "Image pos006_EDOF_DENISOVAN_RGB.tiff processed. Total shapes extracted: 189\n"
     ]
    },
    {
     "name": "stderr",
     "output_type": "stream",
     "text": []
    },
    {
     "name": "stdout",
     "output_type": "stream",
     "text": [
      "Image pos009_EDOF_DENISOVAN_RGB.tiff processed. Total shapes extracted: 197\n"
     ]
    },
    {
     "name": "stderr",
     "output_type": "stream",
     "text": []
    },
    {
     "name": "stdout",
     "output_type": "stream",
     "text": [
      "Image pos002_EDOF_DENISOVAN_RGB.tiff processed. Total shapes extracted: 173\n"
     ]
    },
    {
     "name": "stderr",
     "output_type": "stream",
     "text": []
    },
    {
     "name": "stdout",
     "output_type": "stream",
     "text": [
      "Image pos004_EDOF_DENISOVAN_RGB.tiff processed. Total shapes extracted: 196\n"
     ]
    },
    {
     "name": "stderr",
     "output_type": "stream",
     "text": []
    },
    {
     "name": "stdout",
     "output_type": "stream",
     "text": [
      "Image pos000_EDOF_DENISOVAN_RGB.tiff processed. Total shapes extracted: 180\n"
     ]
    },
    {
     "name": "stderr",
     "output_type": "stream",
     "text": []
    },
    {
     "name": "stdout",
     "output_type": "stream",
     "text": [
      "Image pos003_EDOF_DENISOVAN_RGB.tiff processed. Total shapes extracted: 179\n"
     ]
    },
    {
     "name": "stderr",
     "output_type": "stream",
     "text": []
    },
    {
     "name": "stdout",
     "output_type": "stream",
     "text": [
      "Image pos008_EDOF_DENISOVAN_RGB.tiff processed. Total shapes extracted: 171\n"
     ]
    },
    {
     "name": "stderr",
     "output_type": "stream",
     "text": [
      "Processing images in folder 220819-13: 100%|██████████| 10/10 [00:32<00:00,  3.27s/it]\n",
      "Processing folders:  75%|███████▌  | 73/97 [31:09<11:06, 27.75s/it]"
     ]
    },
    {
     "name": "stdout",
     "output_type": "stream",
     "text": [
      "Image pos007_EDOF_DENISOVAN_RGB.tiff processed. Total shapes extracted: 192\n"
     ]
    },
    {
     "name": "stderr",
     "output_type": "stream",
     "text": []
    },
    {
     "name": "stdout",
     "output_type": "stream",
     "text": [
      "Image pos001_EDOF_DENISOVAN_RGB.tiff processed. Total shapes extracted: 108\n"
     ]
    },
    {
     "name": "stderr",
     "output_type": "stream",
     "text": []
    },
    {
     "name": "stdout",
     "output_type": "stream",
     "text": [
      "Image pos005_EDOF_DENISOVAN_RGB.tiff processed. Total shapes extracted: 103\n"
     ]
    },
    {
     "name": "stderr",
     "output_type": "stream",
     "text": []
    },
    {
     "name": "stdout",
     "output_type": "stream",
     "text": [
      "Image pos006_EDOF_DENISOVAN_RGB.tiff processed. Total shapes extracted: 136\n"
     ]
    },
    {
     "name": "stderr",
     "output_type": "stream",
     "text": []
    },
    {
     "name": "stdout",
     "output_type": "stream",
     "text": [
      "Image pos009_EDOF_DENISOVAN_RGB.tiff processed. Total shapes extracted: 134\n"
     ]
    },
    {
     "name": "stderr",
     "output_type": "stream",
     "text": []
    },
    {
     "name": "stdout",
     "output_type": "stream",
     "text": [
      "Image pos002_EDOF_DENISOVAN_RGB.tiff processed. Total shapes extracted: 132\n"
     ]
    },
    {
     "name": "stderr",
     "output_type": "stream",
     "text": []
    },
    {
     "name": "stdout",
     "output_type": "stream",
     "text": [
      "Image pos004_EDOF_DENISOVAN_RGB.tiff processed. Total shapes extracted: 91\n"
     ]
    },
    {
     "name": "stderr",
     "output_type": "stream",
     "text": []
    },
    {
     "name": "stdout",
     "output_type": "stream",
     "text": [
      "Image pos000_EDOF_DENISOVAN_RGB.tiff processed. Total shapes extracted: 70\n"
     ]
    },
    {
     "name": "stderr",
     "output_type": "stream",
     "text": []
    },
    {
     "name": "stdout",
     "output_type": "stream",
     "text": [
      "Image pos003_EDOF_DENISOVAN_RGB.tiff processed. Total shapes extracted: 108\n"
     ]
    },
    {
     "name": "stderr",
     "output_type": "stream",
     "text": []
    },
    {
     "name": "stdout",
     "output_type": "stream",
     "text": [
      "Image pos008_EDOF_DENISOVAN_RGB.tiff processed. Total shapes extracted: 121\n"
     ]
    },
    {
     "name": "stderr",
     "output_type": "stream",
     "text": [
      "Processing images in folder 260618-44: 100%|██████████| 10/10 [00:26<00:00,  2.62s/it]\n",
      "Processing folders:  76%|███████▋  | 74/97 [31:36<10:27, 27.29s/it]"
     ]
    },
    {
     "name": "stdout",
     "output_type": "stream",
     "text": [
      "Image pos007_EDOF_DENISOVAN_RGB.tiff processed. Total shapes extracted: 135\n"
     ]
    },
    {
     "name": "stderr",
     "output_type": "stream",
     "text": []
    },
    {
     "name": "stdout",
     "output_type": "stream",
     "text": [
      "Image pos009_EDOF_RGB.tiff processed. Total shapes extracted: 85\n"
     ]
    },
    {
     "name": "stderr",
     "output_type": "stream",
     "text": []
    },
    {
     "name": "stdout",
     "output_type": "stream",
     "text": [
      "Image pos003_EDOF_RGB.tiff processed. Total shapes extracted: 116\n"
     ]
    },
    {
     "name": "stderr",
     "output_type": "stream",
     "text": []
    },
    {
     "name": "stdout",
     "output_type": "stream",
     "text": [
      "Image pos007_EDOF_RGB.tiff processed. Total shapes extracted: 121\n"
     ]
    },
    {
     "name": "stderr",
     "output_type": "stream",
     "text": []
    },
    {
     "name": "stdout",
     "output_type": "stream",
     "text": [
      "Image pos000_EDOF_RGB.tiff processed. Total shapes extracted: 128\n"
     ]
    },
    {
     "name": "stderr",
     "output_type": "stream",
     "text": []
    },
    {
     "name": "stdout",
     "output_type": "stream",
     "text": [
      "Image pos004_EDOF_RGB.tiff processed. Total shapes extracted: 114\n"
     ]
    },
    {
     "name": "stderr",
     "output_type": "stream",
     "text": []
    },
    {
     "name": "stdout",
     "output_type": "stream",
     "text": [
      "Image pos005_EDOF_RGB.tiff processed. Total shapes extracted: 80\n"
     ]
    },
    {
     "name": "stderr",
     "output_type": "stream",
     "text": []
    },
    {
     "name": "stdout",
     "output_type": "stream",
     "text": [
      "Image pos001_EDOF_RGB.tiff processed. Total shapes extracted: 143\n"
     ]
    },
    {
     "name": "stderr",
     "output_type": "stream",
     "text": []
    },
    {
     "name": "stdout",
     "output_type": "stream",
     "text": [
      "Image pos006_EDOF_RGB.tiff processed. Total shapes extracted: 106\n"
     ]
    },
    {
     "name": "stderr",
     "output_type": "stream",
     "text": []
    },
    {
     "name": "stdout",
     "output_type": "stream",
     "text": [
      "Image pos002_EDOF_RGB.tiff processed. Total shapes extracted: 132\n"
     ]
    },
    {
     "name": "stderr",
     "output_type": "stream",
     "text": [
      "Processing images in folder 101018-04: 100%|██████████| 10/10 [00:29<00:00,  2.99s/it]\n",
      "Processing folders:  77%|███████▋  | 75/97 [32:05<10:17, 28.06s/it]"
     ]
    },
    {
     "name": "stdout",
     "output_type": "stream",
     "text": [
      "Image pos008_EDOF_RGB.tiff processed. Total shapes extracted: 111\n"
     ]
    },
    {
     "name": "stderr",
     "output_type": "stream",
     "text": []
    },
    {
     "name": "stdout",
     "output_type": "stream",
     "text": [
      "Image pos009_EDOF_RGB.tiff processed. Total shapes extracted: 97\n"
     ]
    },
    {
     "name": "stderr",
     "output_type": "stream",
     "text": []
    },
    {
     "name": "stdout",
     "output_type": "stream",
     "text": [
      "Image pos003_EDOF_RGB.tiff processed. Total shapes extracted: 130\n"
     ]
    },
    {
     "name": "stderr",
     "output_type": "stream",
     "text": []
    },
    {
     "name": "stdout",
     "output_type": "stream",
     "text": [
      "Image pos007_EDOF_RGB.tiff processed. Total shapes extracted: 98\n"
     ]
    },
    {
     "name": "stderr",
     "output_type": "stream",
     "text": []
    },
    {
     "name": "stdout",
     "output_type": "stream",
     "text": [
      "Image pos000_EDOF_RGB.tiff processed. Total shapes extracted: 116\n"
     ]
    },
    {
     "name": "stderr",
     "output_type": "stream",
     "text": []
    },
    {
     "name": "stdout",
     "output_type": "stream",
     "text": [
      "Image pos004_EDOF_RGB.tiff processed. Total shapes extracted: 119\n"
     ]
    },
    {
     "name": "stderr",
     "output_type": "stream",
     "text": []
    },
    {
     "name": "stdout",
     "output_type": "stream",
     "text": [
      "Image pos005_EDOF_RGB.tiff processed. Total shapes extracted: 130\n"
     ]
    },
    {
     "name": "stderr",
     "output_type": "stream",
     "text": []
    },
    {
     "name": "stdout",
     "output_type": "stream",
     "text": [
      "Image pos001_EDOF_RGB.tiff processed. Total shapes extracted: 158\n"
     ]
    },
    {
     "name": "stderr",
     "output_type": "stream",
     "text": []
    },
    {
     "name": "stdout",
     "output_type": "stream",
     "text": [
      "Image pos006_EDOF_RGB.tiff processed. Total shapes extracted: 118\n"
     ]
    },
    {
     "name": "stderr",
     "output_type": "stream",
     "text": []
    },
    {
     "name": "stdout",
     "output_type": "stream",
     "text": [
      "Image pos002_EDOF_RGB.tiff processed. Total shapes extracted: 135\n"
     ]
    },
    {
     "name": "stderr",
     "output_type": "stream",
     "text": [
      "Processing images in folder 200818-2r1: 100%|██████████| 10/10 [00:30<00:00,  3.06s/it]\n",
      "Processing folders:  78%|███████▊  | 76/97 [32:36<10:05, 28.83s/it]"
     ]
    },
    {
     "name": "stdout",
     "output_type": "stream",
     "text": [
      "Image pos008_EDOF_RGB.tiff processed. Total shapes extracted: 117\n"
     ]
    },
    {
     "name": "stderr",
     "output_type": "stream",
     "text": []
    },
    {
     "name": "stdout",
     "output_type": "stream",
     "text": [
      "Image pos009_EDOF_RGB.tiff processed. Total shapes extracted: 122\n"
     ]
    },
    {
     "name": "stderr",
     "output_type": "stream",
     "text": []
    },
    {
     "name": "stdout",
     "output_type": "stream",
     "text": [
      "Image pos003_EDOF_RGB.tiff processed. Total shapes extracted: 138\n"
     ]
    },
    {
     "name": "stderr",
     "output_type": "stream",
     "text": []
    },
    {
     "name": "stdout",
     "output_type": "stream",
     "text": [
      "Image pos007_EDOF_RGB.tiff processed. Total shapes extracted: 177\n"
     ]
    },
    {
     "name": "stderr",
     "output_type": "stream",
     "text": []
    },
    {
     "name": "stdout",
     "output_type": "stream",
     "text": [
      "Image pos000_EDOF_RGB.tiff processed. Total shapes extracted: 64\n"
     ]
    },
    {
     "name": "stderr",
     "output_type": "stream",
     "text": []
    },
    {
     "name": "stdout",
     "output_type": "stream",
     "text": [
      "Image pos004_EDOF_RGB.tiff processed. Total shapes extracted: 125\n"
     ]
    },
    {
     "name": "stderr",
     "output_type": "stream",
     "text": []
    },
    {
     "name": "stdout",
     "output_type": "stream",
     "text": [
      "Image pos005_EDOF_RGB.tiff processed. Total shapes extracted: 102\n"
     ]
    },
    {
     "name": "stderr",
     "output_type": "stream",
     "text": []
    },
    {
     "name": "stdout",
     "output_type": "stream",
     "text": [
      "Image pos001_EDOF_RGB.tiff processed. Total shapes extracted: 53\n"
     ]
    },
    {
     "name": "stderr",
     "output_type": "stream",
     "text": []
    },
    {
     "name": "stdout",
     "output_type": "stream",
     "text": [
      "Image pos006_EDOF_RGB.tiff processed. Total shapes extracted: 133\n"
     ]
    },
    {
     "name": "stderr",
     "output_type": "stream",
     "text": []
    },
    {
     "name": "stdout",
     "output_type": "stream",
     "text": [
      "Image pos002_EDOF_RGB.tiff processed. Total shapes extracted: 118\n"
     ]
    },
    {
     "name": "stderr",
     "output_type": "stream",
     "text": [
      "Processing images in folder 230419-03: 100%|██████████| 10/10 [00:30<00:00,  3.01s/it]\n",
      "Processing folders:  79%|███████▉  | 77/97 [33:06<09:44, 29.21s/it]"
     ]
    },
    {
     "name": "stdout",
     "output_type": "stream",
     "text": [
      "Image pos008_EDOF_RGB.tiff processed. Total shapes extracted: 22\n"
     ]
    },
    {
     "name": "stderr",
     "output_type": "stream",
     "text": []
    },
    {
     "name": "stdout",
     "output_type": "stream",
     "text": [
      "Image pos009_EDOF_RGB.tiff processed. Total shapes extracted: 110\n"
     ]
    },
    {
     "name": "stderr",
     "output_type": "stream",
     "text": []
    },
    {
     "name": "stdout",
     "output_type": "stream",
     "text": [
      "Image pos003_EDOF_RGB.tiff processed. Total shapes extracted: 97\n"
     ]
    },
    {
     "name": "stderr",
     "output_type": "stream",
     "text": []
    },
    {
     "name": "stdout",
     "output_type": "stream",
     "text": [
      "Image pos010_EDOF_RGB.tiff processed. Total shapes extracted: 114\n"
     ]
    },
    {
     "name": "stderr",
     "output_type": "stream",
     "text": []
    },
    {
     "name": "stdout",
     "output_type": "stream",
     "text": [
      "Image pos007_EDOF_RGB.tiff processed. Total shapes extracted: 99\n"
     ]
    },
    {
     "name": "stderr",
     "output_type": "stream",
     "text": []
    },
    {
     "name": "stdout",
     "output_type": "stream",
     "text": [
      "Image pos000_EDOF_RGB.tiff processed. Total shapes extracted: 107\n"
     ]
    },
    {
     "name": "stderr",
     "output_type": "stream",
     "text": []
    },
    {
     "name": "stdout",
     "output_type": "stream",
     "text": [
      "Image pos004_EDOF_RGB.tiff processed. Total shapes extracted: 92\n"
     ]
    },
    {
     "name": "stderr",
     "output_type": "stream",
     "text": []
    },
    {
     "name": "stdout",
     "output_type": "stream",
     "text": [
      "Image pos005_EDOF_RGB.tiff processed. Total shapes extracted: 87\n"
     ]
    },
    {
     "name": "stderr",
     "output_type": "stream",
     "text": []
    },
    {
     "name": "stdout",
     "output_type": "stream",
     "text": [
      "Image pos001_EDOF_RGB.tiff processed. Total shapes extracted: 92\n"
     ]
    },
    {
     "name": "stderr",
     "output_type": "stream",
     "text": []
    },
    {
     "name": "stdout",
     "output_type": "stream",
     "text": [
      "Image pos006_EDOF_RGB.tiff processed. Total shapes extracted: 107\n"
     ]
    },
    {
     "name": "stderr",
     "output_type": "stream",
     "text": []
    },
    {
     "name": "stdout",
     "output_type": "stream",
     "text": [
      "Image pos002_EDOF_RGB.tiff processed. Total shapes extracted: 96\n"
     ]
    },
    {
     "name": "stderr",
     "output_type": "stream",
     "text": [
      "Processing images in folder 111018-01: 100%|██████████| 11/11 [00:29<00:00,  2.68s/it]\n",
      "Processing folders:  80%|████████  | 78/97 [33:36<09:16, 29.29s/it]"
     ]
    },
    {
     "name": "stdout",
     "output_type": "stream",
     "text": [
      "Image pos008_EDOF_RGB.tiff processed. Total shapes extracted: 125\n"
     ]
    },
    {
     "name": "stderr",
     "output_type": "stream",
     "text": []
    },
    {
     "name": "stdout",
     "output_type": "stream",
     "text": [
      "Image pos009_EDOF_RGB.tiff processed. Total shapes extracted: 214\n"
     ]
    },
    {
     "name": "stderr",
     "output_type": "stream",
     "text": []
    },
    {
     "name": "stdout",
     "output_type": "stream",
     "text": [
      "Image pos003_EDOF_RGB.tiff processed. Total shapes extracted: 179\n"
     ]
    },
    {
     "name": "stderr",
     "output_type": "stream",
     "text": []
    },
    {
     "name": "stdout",
     "output_type": "stream",
     "text": [
      "Image pos007_EDOF_RGB.tiff processed. Total shapes extracted: 161\n"
     ]
    },
    {
     "name": "stderr",
     "output_type": "stream",
     "text": []
    },
    {
     "name": "stdout",
     "output_type": "stream",
     "text": [
      "Image pos000_EDOF_RGB.tiff processed. Total shapes extracted: 113\n"
     ]
    },
    {
     "name": "stderr",
     "output_type": "stream",
     "text": []
    },
    {
     "name": "stdout",
     "output_type": "stream",
     "text": [
      "Image pos004_EDOF_RGB.tiff processed. Total shapes extracted: 233\n"
     ]
    },
    {
     "name": "stderr",
     "output_type": "stream",
     "text": []
    },
    {
     "name": "stdout",
     "output_type": "stream",
     "text": [
      "Image pos005_EDOF_RGB.tiff processed. Total shapes extracted: 200\n"
     ]
    },
    {
     "name": "stderr",
     "output_type": "stream",
     "text": []
    },
    {
     "name": "stdout",
     "output_type": "stream",
     "text": [
      "Image pos001_EDOF_RGB.tiff processed. Total shapes extracted: 157\n"
     ]
    },
    {
     "name": "stderr",
     "output_type": "stream",
     "text": []
    },
    {
     "name": "stdout",
     "output_type": "stream",
     "text": [
      "Image pos006_EDOF_RGB.tiff processed. Total shapes extracted: 163\n"
     ]
    },
    {
     "name": "stderr",
     "output_type": "stream",
     "text": []
    },
    {
     "name": "stdout",
     "output_type": "stream",
     "text": [
      "Image pos002_EDOF_RGB.tiff processed. Total shapes extracted: 195\n"
     ]
    },
    {
     "name": "stderr",
     "output_type": "stream",
     "text": [
      "Processing images in folder 100619-5r1: 100%|██████████| 10/10 [00:39<00:00,  3.91s/it]\n",
      "Processing folders:  81%|████████▏ | 79/97 [34:15<09:40, 32.23s/it]"
     ]
    },
    {
     "name": "stdout",
     "output_type": "stream",
     "text": [
      "Image pos008_EDOF_RGB.tiff processed. Total shapes extracted: 218\n"
     ]
    },
    {
     "name": "stderr",
     "output_type": "stream",
     "text": []
    },
    {
     "name": "stdout",
     "output_type": "stream",
     "text": [
      "Image pos001_EDOF_DENISOVAN_RGB.tiff processed. Total shapes extracted: 144\n"
     ]
    },
    {
     "name": "stderr",
     "output_type": "stream",
     "text": []
    },
    {
     "name": "stdout",
     "output_type": "stream",
     "text": [
      "Image pos005_EDOF_DENISOVAN_RGB.tiff processed. Total shapes extracted: 157\n"
     ]
    },
    {
     "name": "stderr",
     "output_type": "stream",
     "text": []
    },
    {
     "name": "stdout",
     "output_type": "stream",
     "text": [
      "Image pos006_EDOF_DENISOVAN_RGB.tiff processed. Total shapes extracted: 180\n"
     ]
    },
    {
     "name": "stderr",
     "output_type": "stream",
     "text": []
    },
    {
     "name": "stdout",
     "output_type": "stream",
     "text": [
      "Image pos009_EDOF_DENISOVAN_RGB.tiff processed. Total shapes extracted: 162\n"
     ]
    },
    {
     "name": "stderr",
     "output_type": "stream",
     "text": []
    },
    {
     "name": "stdout",
     "output_type": "stream",
     "text": [
      "Image pos002_EDOF_DENISOVAN_RGB.tiff processed. Total shapes extracted: 153\n"
     ]
    },
    {
     "name": "stderr",
     "output_type": "stream",
     "text": []
    },
    {
     "name": "stdout",
     "output_type": "stream",
     "text": [
      "Image pos004_EDOF_DENISOVAN_RGB.tiff processed. Total shapes extracted: 165\n"
     ]
    },
    {
     "name": "stderr",
     "output_type": "stream",
     "text": []
    },
    {
     "name": "stdout",
     "output_type": "stream",
     "text": [
      "Image pos000_EDOF_DENISOVAN_RGB.tiff processed. Total shapes extracted: 167\n"
     ]
    },
    {
     "name": "stderr",
     "output_type": "stream",
     "text": []
    },
    {
     "name": "stdout",
     "output_type": "stream",
     "text": [
      "Image pos003_EDOF_DENISOVAN_RGB.tiff processed. Total shapes extracted: 168\n"
     ]
    },
    {
     "name": "stderr",
     "output_type": "stream",
     "text": []
    },
    {
     "name": "stdout",
     "output_type": "stream",
     "text": [
      "Image pos008_EDOF_DENISOVAN_RGB.tiff processed. Total shapes extracted: 176\n"
     ]
    },
    {
     "name": "stderr",
     "output_type": "stream",
     "text": [
      "Processing images in folder 290919-10: 100%|██████████| 10/10 [00:39<00:00,  3.90s/it]\n",
      "Processing folders:  82%|████████▏ | 80/97 [34:54<09:42, 34.27s/it]"
     ]
    },
    {
     "name": "stdout",
     "output_type": "stream",
     "text": [
      "Image pos007_EDOF_DENISOVAN_RGB.tiff processed. Total shapes extracted: 182\n"
     ]
    },
    {
     "name": "stderr",
     "output_type": "stream",
     "text": []
    },
    {
     "name": "stdout",
     "output_type": "stream",
     "text": [
      "Image pos003_EDOF_RGB.tiff processed. Total shapes extracted: 102\n"
     ]
    },
    {
     "name": "stderr",
     "output_type": "stream",
     "text": []
    },
    {
     "name": "stdout",
     "output_type": "stream",
     "text": [
      "Image pos000_EDOF_RGB.tiff processed. Total shapes extracted: 143\n"
     ]
    },
    {
     "name": "stderr",
     "output_type": "stream",
     "text": []
    },
    {
     "name": "stdout",
     "output_type": "stream",
     "text": [
      "Image pos001_EDOF_RGB.tiff processed. Total shapes extracted: 108\n"
     ]
    },
    {
     "name": "stderr",
     "output_type": "stream",
     "text": [
      "Processing images in folder 080818-09: 100%|██████████| 4/4 [00:13<00:00,  3.27s/it]\n",
      "Processing folders:  84%|████████▎ | 81/97 [35:07<07:26, 27.91s/it]"
     ]
    },
    {
     "name": "stdout",
     "output_type": "stream",
     "text": [
      "Image pos002_EDOF_RGB.tiff processed. Total shapes extracted: 86\n"
     ]
    },
    {
     "name": "stderr",
     "output_type": "stream",
     "text": []
    },
    {
     "name": "stdout",
     "output_type": "stream",
     "text": [
      "Image pos003_EDOF_RGB.tiff processed. Total shapes extracted: 98\n"
     ]
    },
    {
     "name": "stderr",
     "output_type": "stream",
     "text": []
    },
    {
     "name": "stdout",
     "output_type": "stream",
     "text": [
      "Image pos000_EDOF_RGB.tiff processed. Total shapes extracted: 1\n"
     ]
    },
    {
     "name": "stderr",
     "output_type": "stream",
     "text": []
    },
    {
     "name": "stdout",
     "output_type": "stream",
     "text": [
      "Image pos001_EDOF_RGB.tiff processed. Total shapes extracted: 3\n"
     ]
    },
    {
     "name": "stderr",
     "output_type": "stream",
     "text": [
      "Processing images in folder 200318-40: 100%|██████████| 4/4 [00:08<00:00,  2.23s/it]\n",
      "Processing folders:  85%|████████▍ | 82/97 [35:16<05:33, 22.22s/it]"
     ]
    },
    {
     "name": "stdout",
     "output_type": "stream",
     "text": [
      "Image pos002_EDOF_RGB.tiff processed. Total shapes extracted: 134\n"
     ]
    },
    {
     "name": "stderr",
     "output_type": "stream",
     "text": []
    },
    {
     "name": "stdout",
     "output_type": "stream",
     "text": [
      "Image pos009_EDOF_RGB.tiff processed. Total shapes extracted: 67\n"
     ]
    },
    {
     "name": "stderr",
     "output_type": "stream",
     "text": []
    },
    {
     "name": "stdout",
     "output_type": "stream",
     "text": [
      "Image pos003_EDOF_RGB.tiff processed. Total shapes extracted: 74\n"
     ]
    },
    {
     "name": "stderr",
     "output_type": "stream",
     "text": []
    },
    {
     "name": "stdout",
     "output_type": "stream",
     "text": [
      "Image pos007_EDOF_RGB.tiff processed. Total shapes extracted: 63\n"
     ]
    },
    {
     "name": "stderr",
     "output_type": "stream",
     "text": []
    },
    {
     "name": "stdout",
     "output_type": "stream",
     "text": [
      "Image pos000_EDOF_RGB.tiff processed. Total shapes extracted: 49\n"
     ]
    },
    {
     "name": "stderr",
     "output_type": "stream",
     "text": []
    },
    {
     "name": "stdout",
     "output_type": "stream",
     "text": [
      "Image pos004_EDOF_RGB.tiff processed. Total shapes extracted: 71\n"
     ]
    },
    {
     "name": "stderr",
     "output_type": "stream",
     "text": []
    },
    {
     "name": "stdout",
     "output_type": "stream",
     "text": [
      "Image pos005_EDOF_RGB.tiff processed. Total shapes extracted: 84\n"
     ]
    },
    {
     "name": "stderr",
     "output_type": "stream",
     "text": []
    },
    {
     "name": "stdout",
     "output_type": "stream",
     "text": [
      "Image pos001_EDOF_RGB.tiff processed. Total shapes extracted: 46\n"
     ]
    },
    {
     "name": "stderr",
     "output_type": "stream",
     "text": []
    },
    {
     "name": "stdout",
     "output_type": "stream",
     "text": [
      "Image pos006_EDOF_RGB.tiff processed. Total shapes extracted: 70\n"
     ]
    },
    {
     "name": "stderr",
     "output_type": "stream",
     "text": []
    },
    {
     "name": "stdout",
     "output_type": "stream",
     "text": [
      "Image pos002_EDOF_RGB.tiff processed. Total shapes extracted: 74\n"
     ]
    },
    {
     "name": "stderr",
     "output_type": "stream",
     "text": [
      "Processing images in folder 130219-05: 100%|██████████| 10/10 [00:19<00:00,  1.94s/it]\n",
      "Processing folders:  86%|████████▌ | 83/97 [35:35<04:59, 21.36s/it]"
     ]
    },
    {
     "name": "stdout",
     "output_type": "stream",
     "text": [
      "Image pos008_EDOF_RGB.tiff processed. Total shapes extracted: 89\n"
     ]
    },
    {
     "name": "stderr",
     "output_type": "stream",
     "text": []
    },
    {
     "name": "stdout",
     "output_type": "stream",
     "text": [
      "Image pos009_EDOF_RGB.tiff processed. Total shapes extracted: 10\n"
     ]
    },
    {
     "name": "stderr",
     "output_type": "stream",
     "text": []
    },
    {
     "name": "stdout",
     "output_type": "stream",
     "text": [
      "Image pos003_EDOF_RGB.tiff processed. Total shapes extracted: 2\n"
     ]
    },
    {
     "name": "stderr",
     "output_type": "stream",
     "text": []
    },
    {
     "name": "stdout",
     "output_type": "stream",
     "text": [
      "Image pos007_EDOF_RGB.tiff processed. Total shapes extracted: 1\n"
     ]
    },
    {
     "name": "stderr",
     "output_type": "stream",
     "text": []
    },
    {
     "name": "stdout",
     "output_type": "stream",
     "text": [
      "Image pos000_EDOF_RGB.tiff processed. Total shapes extracted: 27\n"
     ]
    },
    {
     "name": "stderr",
     "output_type": "stream",
     "text": []
    },
    {
     "name": "stdout",
     "output_type": "stream",
     "text": [
      "Image pos004_EDOF_RGB.tiff processed. Total shapes extracted: 1\n"
     ]
    },
    {
     "name": "stderr",
     "output_type": "stream",
     "text": []
    },
    {
     "name": "stdout",
     "output_type": "stream",
     "text": [
      "Image pos005_EDOF_RGB.tiff processed. Total shapes extracted: 1\n"
     ]
    },
    {
     "name": "stderr",
     "output_type": "stream",
     "text": []
    },
    {
     "name": "stdout",
     "output_type": "stream",
     "text": [
      "Image pos001_EDOF_RGB.tiff processed. Total shapes extracted: 26\n"
     ]
    },
    {
     "name": "stderr",
     "output_type": "stream",
     "text": []
    },
    {
     "name": "stdout",
     "output_type": "stream",
     "text": [
      "Image pos006_EDOF_RGB.tiff processed. Total shapes extracted: 2\n"
     ]
    },
    {
     "name": "stderr",
     "output_type": "stream",
     "text": []
    },
    {
     "name": "stdout",
     "output_type": "stream",
     "text": [
      "Image pos002_EDOF_RGB.tiff processed. Total shapes extracted: 1\n"
     ]
    },
    {
     "name": "stderr",
     "output_type": "stream",
     "text": [
      "Processing images in folder 240318-09: 100%|██████████| 10/10 [00:11<00:00,  1.10s/it]\n",
      "Processing folders:  87%|████████▋ | 84/97 [35:46<03:57, 18.27s/it]"
     ]
    },
    {
     "name": "stdout",
     "output_type": "stream",
     "text": [
      "Image pos008_EDOF_RGB.tiff processed. Total shapes extracted: 5\n"
     ]
    },
    {
     "name": "stderr",
     "output_type": "stream",
     "text": []
    },
    {
     "name": "stdout",
     "output_type": "stream",
     "text": [
      "Image pos009_EDOF_RGB.tiff processed. Total shapes extracted: 1\n"
     ]
    },
    {
     "name": "stderr",
     "output_type": "stream",
     "text": []
    },
    {
     "name": "stdout",
     "output_type": "stream",
     "text": [
      "Image pos003_EDOF_RGB.tiff processed. Total shapes extracted: 2\n"
     ]
    },
    {
     "name": "stderr",
     "output_type": "stream",
     "text": []
    },
    {
     "name": "stdout",
     "output_type": "stream",
     "text": [
      "Image pos010_EDOF_RGB.tiff processed. Total shapes extracted: 1\n"
     ]
    },
    {
     "name": "stderr",
     "output_type": "stream",
     "text": []
    },
    {
     "name": "stdout",
     "output_type": "stream",
     "text": [
      "Image pos007_EDOF_RGB.tiff processed. Total shapes extracted: 1\n"
     ]
    },
    {
     "name": "stderr",
     "output_type": "stream",
     "text": []
    },
    {
     "name": "stdout",
     "output_type": "stream",
     "text": [
      "Image pos000_EDOF_RGB.tiff processed. Total shapes extracted: 2\n"
     ]
    },
    {
     "name": "stderr",
     "output_type": "stream",
     "text": []
    },
    {
     "name": "stdout",
     "output_type": "stream",
     "text": [
      "Image pos004_EDOF_RGB.tiff processed. Total shapes extracted: 1\n"
     ]
    },
    {
     "name": "stderr",
     "output_type": "stream",
     "text": []
    },
    {
     "name": "stdout",
     "output_type": "stream",
     "text": [
      "Image pos012_EDOF_RGB.tiff processed. Total shapes extracted: 1\n"
     ]
    },
    {
     "name": "stderr",
     "output_type": "stream",
     "text": []
    },
    {
     "name": "stdout",
     "output_type": "stream",
     "text": [
      "Image pos005_EDOF_RGB.tiff processed. Total shapes extracted: 2\n"
     ]
    },
    {
     "name": "stderr",
     "output_type": "stream",
     "text": []
    },
    {
     "name": "stdout",
     "output_type": "stream",
     "text": [
      "Image pos001_EDOF_RGB.tiff processed. Total shapes extracted: 1\n"
     ]
    },
    {
     "name": "stderr",
     "output_type": "stream",
     "text": []
    },
    {
     "name": "stdout",
     "output_type": "stream",
     "text": [
      "Image pos006_EDOF_RGB.tiff processed. Total shapes extracted: 2\n"
     ]
    },
    {
     "name": "stderr",
     "output_type": "stream",
     "text": []
    },
    {
     "name": "stdout",
     "output_type": "stream",
     "text": [
      "Image pos011_EDOF_RGB.tiff processed. Total shapes extracted: 1\n"
     ]
    },
    {
     "name": "stderr",
     "output_type": "stream",
     "text": []
    },
    {
     "name": "stdout",
     "output_type": "stream",
     "text": [
      "Image pos002_EDOF_RGB.tiff processed. Total shapes extracted: 1\n"
     ]
    },
    {
     "name": "stderr",
     "output_type": "stream",
     "text": [
      "Processing images in folder 250318-02: 100%|██████████| 13/13 [00:14<00:00,  1.11s/it]\n",
      "Processing folders:  88%|████████▊ | 85/97 [36:01<03:25, 17.13s/it]"
     ]
    },
    {
     "name": "stdout",
     "output_type": "stream",
     "text": [
      "Image pos008_EDOF_RGB.tiff processed. Total shapes extracted: 1\n"
     ]
    },
    {
     "name": "stderr",
     "output_type": "stream",
     "text": []
    },
    {
     "name": "stdout",
     "output_type": "stream",
     "text": [
      "Image pos001_EDOF_DENISOVAN_RGB.tiff processed. Total shapes extracted: 161\n"
     ]
    },
    {
     "name": "stderr",
     "output_type": "stream",
     "text": []
    },
    {
     "name": "stdout",
     "output_type": "stream",
     "text": [
      "Image pos005_EDOF_DENISOVAN_RGB.tiff processed. Total shapes extracted: 176\n"
     ]
    },
    {
     "name": "stderr",
     "output_type": "stream",
     "text": []
    },
    {
     "name": "stdout",
     "output_type": "stream",
     "text": [
      "Image pos006_EDOF_DENISOVAN_RGB.tiff processed. Total shapes extracted: 158\n"
     ]
    },
    {
     "name": "stderr",
     "output_type": "stream",
     "text": []
    },
    {
     "name": "stdout",
     "output_type": "stream",
     "text": [
      "Image pos009_EDOF_DENISOVAN_RGB.tiff processed. Total shapes extracted: 161\n"
     ]
    },
    {
     "name": "stderr",
     "output_type": "stream",
     "text": []
    },
    {
     "name": "stdout",
     "output_type": "stream",
     "text": [
      "Image pos002_EDOF_DENISOVAN_RGB.tiff processed. Total shapes extracted: 29\n"
     ]
    },
    {
     "name": "stderr",
     "output_type": "stream",
     "text": []
    },
    {
     "name": "stdout",
     "output_type": "stream",
     "text": [
      "Image pos004_EDOF_DENISOVAN_RGB.tiff processed. Total shapes extracted: 119\n"
     ]
    },
    {
     "name": "stderr",
     "output_type": "stream",
     "text": []
    },
    {
     "name": "stdout",
     "output_type": "stream",
     "text": [
      "Image pos000_EDOF_DENISOVAN_RGB.tiff processed. Total shapes extracted: 165\n"
     ]
    },
    {
     "name": "stderr",
     "output_type": "stream",
     "text": []
    },
    {
     "name": "stdout",
     "output_type": "stream",
     "text": [
      "Image pos003_EDOF_DENISOVAN_RGB.tiff processed. Total shapes extracted: 181\n"
     ]
    },
    {
     "name": "stderr",
     "output_type": "stream",
     "text": []
    },
    {
     "name": "stdout",
     "output_type": "stream",
     "text": [
      "Image pos008_EDOF_DENISOVAN_RGB.tiff processed. Total shapes extracted: 180\n"
     ]
    },
    {
     "name": "stderr",
     "output_type": "stream",
     "text": [
      "Processing images in folder 220819-01: 100%|██████████| 10/10 [00:20<00:00,  2.09s/it]\n",
      "Processing folders:  89%|████████▊ | 86/97 [36:22<03:20, 18.26s/it]"
     ]
    },
    {
     "name": "stdout",
     "output_type": "stream",
     "text": [
      "Image pos007_EDOF_DENISOVAN_RGB.tiff processed. Total shapes extracted: 150\n"
     ]
    },
    {
     "name": "stderr",
     "output_type": "stream",
     "text": []
    },
    {
     "name": "stdout",
     "output_type": "stream",
     "text": [
      "Image pos003_EDOF_RGB.tiff processed. Total shapes extracted: 27\n"
     ]
    },
    {
     "name": "stderr",
     "output_type": "stream",
     "text": []
    },
    {
     "name": "stdout",
     "output_type": "stream",
     "text": [
      "Image pos000_EDOF_RGB.tiff processed. Total shapes extracted: 17\n"
     ]
    },
    {
     "name": "stderr",
     "output_type": "stream",
     "text": []
    },
    {
     "name": "stdout",
     "output_type": "stream",
     "text": [
      "Image pos004_EDOF_RGB.tiff processed. Total shapes extracted: 17\n"
     ]
    },
    {
     "name": "stderr",
     "output_type": "stream",
     "text": []
    },
    {
     "name": "stdout",
     "output_type": "stream",
     "text": [
      "Image pos005_EDOF_RGB.tiff processed. Total shapes extracted: 3\n"
     ]
    },
    {
     "name": "stderr",
     "output_type": "stream",
     "text": []
    },
    {
     "name": "stdout",
     "output_type": "stream",
     "text": [
      "Image pos001_EDOF_RGB.tiff processed. Total shapes extracted: 30\n"
     ]
    },
    {
     "name": "stderr",
     "output_type": "stream",
     "text": [
      "Processing images in folder 290318-02: 100%|██████████| 6/6 [00:07<00:00,  1.33s/it]\n",
      "Processing folders:  90%|████████▉ | 87/97 [36:30<02:31, 15.18s/it]"
     ]
    },
    {
     "name": "stdout",
     "output_type": "stream",
     "text": [
      "Image pos002_EDOF_RGB.tiff processed. Total shapes extracted: 3\n"
     ]
    },
    {
     "name": "stderr",
     "output_type": "stream",
     "text": []
    },
    {
     "name": "stdout",
     "output_type": "stream",
     "text": [
      "Image pos009_EDOF_RGB.tiff processed. Total shapes extracted: 100\n"
     ]
    },
    {
     "name": "stderr",
     "output_type": "stream",
     "text": []
    },
    {
     "name": "stdout",
     "output_type": "stream",
     "text": [
      "Image pos003_EDOF_RGB.tiff processed. Total shapes extracted: 133\n"
     ]
    },
    {
     "name": "stderr",
     "output_type": "stream",
     "text": []
    },
    {
     "name": "stdout",
     "output_type": "stream",
     "text": [
      "Image pos010_EDOF_RGB.tiff processed. Total shapes extracted: 86\n"
     ]
    },
    {
     "name": "stderr",
     "output_type": "stream",
     "text": []
    },
    {
     "name": "stdout",
     "output_type": "stream",
     "text": [
      "Image pos007_EDOF_RGB.tiff processed. Total shapes extracted: 117\n"
     ]
    },
    {
     "name": "stderr",
     "output_type": "stream",
     "text": []
    },
    {
     "name": "stdout",
     "output_type": "stream",
     "text": [
      "Image pos000_EDOF_RGB.tiff processed. Total shapes extracted: 127\n"
     ]
    },
    {
     "name": "stderr",
     "output_type": "stream",
     "text": []
    },
    {
     "name": "stdout",
     "output_type": "stream",
     "text": [
      "Image pos004_EDOF_RGB.tiff processed. Total shapes extracted: 150\n"
     ]
    },
    {
     "name": "stderr",
     "output_type": "stream",
     "text": []
    },
    {
     "name": "stdout",
     "output_type": "stream",
     "text": [
      "Image pos005_EDOF_RGB.tiff processed. Total shapes extracted: 116\n"
     ]
    },
    {
     "name": "stderr",
     "output_type": "stream",
     "text": []
    },
    {
     "name": "stdout",
     "output_type": "stream",
     "text": [
      "Image pos001_EDOF_RGB.tiff processed. Total shapes extracted: 132\n"
     ]
    },
    {
     "name": "stderr",
     "output_type": "stream",
     "text": []
    },
    {
     "name": "stdout",
     "output_type": "stream",
     "text": [
      "Image pos006_EDOF_RGB.tiff processed. Total shapes extracted: 133\n"
     ]
    },
    {
     "name": "stderr",
     "output_type": "stream",
     "text": []
    },
    {
     "name": "stdout",
     "output_type": "stream",
     "text": [
      "Image pos002_EDOF_RGB.tiff processed. Total shapes extracted: 128\n"
     ]
    },
    {
     "name": "stderr",
     "output_type": "stream",
     "text": [
      "Processing images in folder 121018-4r1: 100%|██████████| 11/11 [00:24<00:00,  2.20s/it]\n",
      "Processing folders:  91%|█████████ | 88/97 [36:54<02:41, 17.89s/it]"
     ]
    },
    {
     "name": "stdout",
     "output_type": "stream",
     "text": [
      "Image pos008_EDOF_RGB.tiff processed. Total shapes extracted: 106\n"
     ]
    },
    {
     "name": "stderr",
     "output_type": "stream",
     "text": []
    },
    {
     "name": "stdout",
     "output_type": "stream",
     "text": [
      "Image pos000_EDOF_RGB.tiff processed. Total shapes extracted: 38\n"
     ]
    },
    {
     "name": "stderr",
     "output_type": "stream",
     "text": []
    },
    {
     "name": "stdout",
     "output_type": "stream",
     "text": [
      "Image pos001_EDOF_RGB.tiff processed. Total shapes extracted: 55\n"
     ]
    },
    {
     "name": "stderr",
     "output_type": "stream",
     "text": [
      "Processing images in folder 290119-12: 100%|██████████| 3/3 [00:04<00:00,  1.57s/it]\n",
      "Processing folders:  92%|█████████▏| 89/97 [36:59<01:51, 13.94s/it]"
     ]
    },
    {
     "name": "stdout",
     "output_type": "stream",
     "text": [
      "Image pos002_EDOF_RGB.tiff processed. Total shapes extracted: 75\n"
     ]
    },
    {
     "name": "stderr",
     "output_type": "stream",
     "text": []
    },
    {
     "name": "stdout",
     "output_type": "stream",
     "text": [
      "Image pos009_EDOF_RGB.tiff processed. Total shapes extracted: 105\n"
     ]
    },
    {
     "name": "stderr",
     "output_type": "stream",
     "text": []
    },
    {
     "name": "stdout",
     "output_type": "stream",
     "text": [
      "Image pos003_EDOF_RGB.tiff processed. Total shapes extracted: 203\n"
     ]
    },
    {
     "name": "stderr",
     "output_type": "stream",
     "text": []
    },
    {
     "name": "stdout",
     "output_type": "stream",
     "text": [
      "Image pos007_EDOF_RGB.tiff processed. Total shapes extracted: 175\n"
     ]
    },
    {
     "name": "stderr",
     "output_type": "stream",
     "text": []
    },
    {
     "name": "stdout",
     "output_type": "stream",
     "text": [
      "Image pos000_EDOF_RGB.tiff processed. Total shapes extracted: 155\n"
     ]
    },
    {
     "name": "stderr",
     "output_type": "stream",
     "text": []
    },
    {
     "name": "stdout",
     "output_type": "stream",
     "text": [
      "Image pos004_EDOF_RGB.tiff processed. Total shapes extracted: 218\n"
     ]
    },
    {
     "name": "stderr",
     "output_type": "stream",
     "text": []
    },
    {
     "name": "stdout",
     "output_type": "stream",
     "text": [
      "Image pos005_EDOF_RGB.tiff processed. Total shapes extracted: 208\n"
     ]
    },
    {
     "name": "stderr",
     "output_type": "stream",
     "text": []
    },
    {
     "name": "stdout",
     "output_type": "stream",
     "text": [
      "Image pos001_EDOF_RGB.tiff processed. Total shapes extracted: 147\n"
     ]
    },
    {
     "name": "stderr",
     "output_type": "stream",
     "text": []
    },
    {
     "name": "stdout",
     "output_type": "stream",
     "text": [
      "Image pos006_EDOF_RGB.tiff processed. Total shapes extracted: 186\n"
     ]
    },
    {
     "name": "stderr",
     "output_type": "stream",
     "text": []
    },
    {
     "name": "stdout",
     "output_type": "stream",
     "text": [
      "Image pos002_EDOF_RGB.tiff processed. Total shapes extracted: 136\n"
     ]
    },
    {
     "name": "stderr",
     "output_type": "stream",
     "text": [
      "Processing images in folder 100619-05: 100%|██████████| 10/10 [00:26<00:00,  2.61s/it]\n",
      "Processing folders:  93%|█████████▎| 90/97 [37:25<02:03, 17.58s/it]"
     ]
    },
    {
     "name": "stdout",
     "output_type": "stream",
     "text": [
      "Image pos008_EDOF_RGB.tiff processed. Total shapes extracted: 180\n"
     ]
    },
    {
     "name": "stderr",
     "output_type": "stream",
     "text": []
    },
    {
     "name": "stdout",
     "output_type": "stream",
     "text": [
      "Image pos003_EDOF_RGB.tiff processed. Total shapes extracted: 169\n"
     ]
    },
    {
     "name": "stderr",
     "output_type": "stream",
     "text": []
    },
    {
     "name": "stdout",
     "output_type": "stream",
     "text": [
      "Image pos000_EDOF_RGB.tiff processed. Total shapes extracted: 223\n"
     ]
    },
    {
     "name": "stderr",
     "output_type": "stream",
     "text": []
    },
    {
     "name": "stdout",
     "output_type": "stream",
     "text": [
      "Image pos001_EDOF_RGB.tiff processed. Total shapes extracted: 47\n"
     ]
    },
    {
     "name": "stderr",
     "output_type": "stream",
     "text": [
      "Processing images in folder 041018-10: 100%|██████████| 4/4 [00:09<00:00,  2.33s/it]\n",
      "Processing folders:  94%|█████████▍| 91/97 [37:34<01:30, 15.10s/it]"
     ]
    },
    {
     "name": "stdout",
     "output_type": "stream",
     "text": [
      "Image pos002_EDOF_RGB.tiff processed. Total shapes extracted: 138\n"
     ]
    },
    {
     "name": "stderr",
     "output_type": "stream",
     "text": []
    },
    {
     "name": "stdout",
     "output_type": "stream",
     "text": [
      "Image pos003_EDOF_RGB.tiff processed. Total shapes extracted: 49\n"
     ]
    },
    {
     "name": "stderr",
     "output_type": "stream",
     "text": []
    },
    {
     "name": "stdout",
     "output_type": "stream",
     "text": [
      "Image pos000_EDOF_RGB.tiff processed. Total shapes extracted: 37\n"
     ]
    },
    {
     "name": "stderr",
     "output_type": "stream",
     "text": []
    },
    {
     "name": "stdout",
     "output_type": "stream",
     "text": [
      "Image pos004_EDOF_RGB.tiff processed. Total shapes extracted: 49\n"
     ]
    },
    {
     "name": "stderr",
     "output_type": "stream",
     "text": []
    },
    {
     "name": "stdout",
     "output_type": "stream",
     "text": [
      "Image pos001_EDOF_RGB.tiff processed. Total shapes extracted: 38\n"
     ]
    },
    {
     "name": "stderr",
     "output_type": "stream",
     "text": [
      "Processing images in folder 020418-15: 100%|██████████| 5/5 [00:07<00:00,  1.43s/it]\n",
      "Processing folders:  95%|█████████▍| 92/97 [37:41<01:03, 12.71s/it]"
     ]
    },
    {
     "name": "stdout",
     "output_type": "stream",
     "text": [
      "Image pos002_EDOF_RGB.tiff processed. Total shapes extracted: 57\n"
     ]
    },
    {
     "name": "stderr",
     "output_type": "stream",
     "text": []
    },
    {
     "name": "stdout",
     "output_type": "stream",
     "text": [
      "Image pos009_EDOF_RGB.tiff processed. Total shapes extracted: 114\n"
     ]
    },
    {
     "name": "stderr",
     "output_type": "stream",
     "text": []
    },
    {
     "name": "stdout",
     "output_type": "stream",
     "text": [
      "Image pos003_EDOF_RGB.tiff processed. Total shapes extracted: 153\n"
     ]
    },
    {
     "name": "stderr",
     "output_type": "stream",
     "text": []
    },
    {
     "name": "stdout",
     "output_type": "stream",
     "text": [
      "Image pos010_EDOF_RGB.tiff processed. Total shapes extracted: 135\n"
     ]
    },
    {
     "name": "stderr",
     "output_type": "stream",
     "text": []
    },
    {
     "name": "stdout",
     "output_type": "stream",
     "text": [
      "Image pos007_EDOF_RGB.tiff processed. Total shapes extracted: 126\n"
     ]
    },
    {
     "name": "stderr",
     "output_type": "stream",
     "text": []
    },
    {
     "name": "stdout",
     "output_type": "stream",
     "text": [
      "Image pos000_EDOF_RGB.tiff processed. Total shapes extracted: 128\n"
     ]
    },
    {
     "name": "stderr",
     "output_type": "stream",
     "text": []
    },
    {
     "name": "stdout",
     "output_type": "stream",
     "text": [
      "Image pos004_EDOF_RGB.tiff processed. Total shapes extracted: 138\n"
     ]
    },
    {
     "name": "stderr",
     "output_type": "stream",
     "text": []
    },
    {
     "name": "stdout",
     "output_type": "stream",
     "text": [
      "Image pos005_EDOF_RGB.tiff processed. Total shapes extracted: 51\n"
     ]
    },
    {
     "name": "stderr",
     "output_type": "stream",
     "text": []
    },
    {
     "name": "stdout",
     "output_type": "stream",
     "text": [
      "Image pos001_EDOF_RGB.tiff processed. Total shapes extracted: 141\n"
     ]
    },
    {
     "name": "stderr",
     "output_type": "stream",
     "text": []
    },
    {
     "name": "stdout",
     "output_type": "stream",
     "text": [
      "Image pos006_EDOF_RGB.tiff processed. Total shapes extracted: 142\n"
     ]
    },
    {
     "name": "stderr",
     "output_type": "stream",
     "text": []
    },
    {
     "name": "stdout",
     "output_type": "stream",
     "text": [
      "Image pos002_EDOF_RGB.tiff processed. Total shapes extracted: 131\n"
     ]
    },
    {
     "name": "stderr",
     "output_type": "stream",
     "text": [
      "Processing images in folder 270519-10: 100%|██████████| 11/11 [00:23<00:00,  2.18s/it]\n",
      "Processing folders:  96%|█████████▌| 93/97 [38:05<01:04, 16.09s/it]"
     ]
    },
    {
     "name": "stdout",
     "output_type": "stream",
     "text": [
      "Image pos008_EDOF_RGB.tiff processed. Total shapes extracted: 133\n"
     ]
    },
    {
     "name": "stderr",
     "output_type": "stream",
     "text": []
    },
    {
     "name": "stdout",
     "output_type": "stream",
     "text": [
      "Image pos009_EDOF_RGB.tiff processed. Total shapes extracted: 1\n"
     ]
    },
    {
     "name": "stderr",
     "output_type": "stream",
     "text": []
    },
    {
     "name": "stdout",
     "output_type": "stream",
     "text": [
      "Image pos003_EDOF_RGB.tiff processed. Total shapes extracted: 1\n"
     ]
    },
    {
     "name": "stderr",
     "output_type": "stream",
     "text": []
    },
    {
     "name": "stdout",
     "output_type": "stream",
     "text": [
      "Image pos007_EDOF_RGB.tiff processed. Total shapes extracted: 1\n"
     ]
    },
    {
     "name": "stderr",
     "output_type": "stream",
     "text": []
    },
    {
     "name": "stdout",
     "output_type": "stream",
     "text": [
      "Image pos000_EDOF_RGB.tiff processed. Total shapes extracted: 1\n"
     ]
    },
    {
     "name": "stderr",
     "output_type": "stream",
     "text": []
    },
    {
     "name": "stdout",
     "output_type": "stream",
     "text": [
      "Image pos004_EDOF_RGB.tiff processed. Total shapes extracted: 1\n"
     ]
    },
    {
     "name": "stderr",
     "output_type": "stream",
     "text": []
    },
    {
     "name": "stdout",
     "output_type": "stream",
     "text": [
      "Image pos005_EDOF_RGB.tiff processed. Total shapes extracted: 1\n"
     ]
    },
    {
     "name": "stderr",
     "output_type": "stream",
     "text": []
    },
    {
     "name": "stdout",
     "output_type": "stream",
     "text": [
      "Image pos001_EDOF_RGB.tiff processed. Total shapes extracted: 2\n"
     ]
    },
    {
     "name": "stderr",
     "output_type": "stream",
     "text": []
    },
    {
     "name": "stdout",
     "output_type": "stream",
     "text": [
      "Image pos006_EDOF_RGB.tiff processed. Total shapes extracted: 1\n"
     ]
    },
    {
     "name": "stderr",
     "output_type": "stream",
     "text": []
    },
    {
     "name": "stdout",
     "output_type": "stream",
     "text": [
      "Image pos002_EDOF_RGB.tiff processed. Total shapes extracted: 1\n"
     ]
    },
    {
     "name": "stderr",
     "output_type": "stream",
     "text": [
      "Processing images in folder 070418-02: 100%|██████████| 10/10 [00:11<00:00,  1.17s/it]\n",
      "Processing folders:  97%|█████████▋| 94/97 [38:17<00:44, 14.77s/it]"
     ]
    },
    {
     "name": "stdout",
     "output_type": "stream",
     "text": [
      "Image pos008_EDOF_RGB.tiff processed. Total shapes extracted: 1\n"
     ]
    },
    {
     "name": "stderr",
     "output_type": "stream",
     "text": []
    },
    {
     "name": "stdout",
     "output_type": "stream",
     "text": [
      "Image pos001_EDOF_DENISOVAN_RGB.tiff processed. Total shapes extracted: 196\n"
     ]
    },
    {
     "name": "stderr",
     "output_type": "stream",
     "text": []
    },
    {
     "name": "stdout",
     "output_type": "stream",
     "text": [
      "Image pos005_EDOF_DENISOVAN_RGB.tiff processed. Total shapes extracted: 137\n"
     ]
    },
    {
     "name": "stderr",
     "output_type": "stream",
     "text": []
    },
    {
     "name": "stdout",
     "output_type": "stream",
     "text": [
      "Image pos006_EDOF_DENISOVAN_RGB.tiff processed. Total shapes extracted: 166\n"
     ]
    },
    {
     "name": "stderr",
     "output_type": "stream",
     "text": []
    },
    {
     "name": "stdout",
     "output_type": "stream",
     "text": [
      "Image pos009_EDOF_DENISOVAN_RGB.tiff processed. Total shapes extracted: 140\n"
     ]
    },
    {
     "name": "stderr",
     "output_type": "stream",
     "text": []
    },
    {
     "name": "stdout",
     "output_type": "stream",
     "text": [
      "Image pos002_EDOF_DENISOVAN_RGB.tiff processed. Total shapes extracted: 167\n"
     ]
    },
    {
     "name": "stderr",
     "output_type": "stream",
     "text": []
    },
    {
     "name": "stdout",
     "output_type": "stream",
     "text": [
      "Image pos004_EDOF_DENISOVAN_RGB.tiff processed. Total shapes extracted: 152\n"
     ]
    },
    {
     "name": "stderr",
     "output_type": "stream",
     "text": []
    },
    {
     "name": "stdout",
     "output_type": "stream",
     "text": [
      "Image pos000_EDOF_DENISOVAN_RGB.tiff processed. Total shapes extracted: 200\n"
     ]
    },
    {
     "name": "stderr",
     "output_type": "stream",
     "text": []
    },
    {
     "name": "stdout",
     "output_type": "stream",
     "text": [
      "Image pos003_EDOF_DENISOVAN_RGB.tiff processed. Total shapes extracted: 173\n"
     ]
    },
    {
     "name": "stderr",
     "output_type": "stream",
     "text": []
    },
    {
     "name": "stdout",
     "output_type": "stream",
     "text": [
      "Image pos008_EDOF_DENISOVAN_RGB.tiff processed. Total shapes extracted: 197\n"
     ]
    },
    {
     "name": "stderr",
     "output_type": "stream",
     "text": [
      "Processing images in folder 300919-01: 100%|██████████| 10/10 [00:23<00:00,  2.31s/it]\n",
      "Processing folders:  98%|█████████▊| 95/97 [38:40<00:34, 17.27s/it]"
     ]
    },
    {
     "name": "stdout",
     "output_type": "stream",
     "text": [
      "Image pos007_EDOF_DENISOVAN_RGB.tiff processed. Total shapes extracted: 175\n"
     ]
    },
    {
     "name": "stderr",
     "output_type": "stream",
     "text": []
    },
    {
     "name": "stdout",
     "output_type": "stream",
     "text": [
      "Image pos009_EDOF_RGB.tiff processed. Total shapes extracted: 89\n"
     ]
    },
    {
     "name": "stderr",
     "output_type": "stream",
     "text": []
    },
    {
     "name": "stdout",
     "output_type": "stream",
     "text": [
      "Image pos003_EDOF_RGB.tiff processed. Total shapes extracted: 94\n"
     ]
    },
    {
     "name": "stderr",
     "output_type": "stream",
     "text": []
    },
    {
     "name": "stdout",
     "output_type": "stream",
     "text": [
      "Image pos007_EDOF_RGB.tiff processed. Total shapes extracted: 72\n"
     ]
    },
    {
     "name": "stderr",
     "output_type": "stream",
     "text": []
    },
    {
     "name": "stdout",
     "output_type": "stream",
     "text": [
      "Image pos000_EDOF_RGB.tiff processed. Total shapes extracted: 86\n"
     ]
    },
    {
     "name": "stderr",
     "output_type": "stream",
     "text": []
    },
    {
     "name": "stdout",
     "output_type": "stream",
     "text": [
      "Image pos004_EDOF_RGB.tiff processed. Total shapes extracted: 83\n"
     ]
    },
    {
     "name": "stderr",
     "output_type": "stream",
     "text": []
    },
    {
     "name": "stdout",
     "output_type": "stream",
     "text": [
      "Image pos005_EDOF_RGB.tiff processed. Total shapes extracted: 96\n"
     ]
    },
    {
     "name": "stderr",
     "output_type": "stream",
     "text": []
    },
    {
     "name": "stdout",
     "output_type": "stream",
     "text": [
      "Image pos001_EDOF_RGB.tiff processed. Total shapes extracted: 69\n"
     ]
    },
    {
     "name": "stderr",
     "output_type": "stream",
     "text": []
    },
    {
     "name": "stdout",
     "output_type": "stream",
     "text": [
      "Image pos006_EDOF_RGB.tiff processed. Total shapes extracted: 62\n"
     ]
    },
    {
     "name": "stderr",
     "output_type": "stream",
     "text": []
    },
    {
     "name": "stdout",
     "output_type": "stream",
     "text": [
      "Image pos002_EDOF_RGB.tiff processed. Total shapes extracted: 81\n"
     ]
    },
    {
     "name": "stderr",
     "output_type": "stream",
     "text": [
      "Processing images in folder 120319-30: 100%|██████████| 10/10 [00:17<00:00,  1.75s/it]\n",
      "Processing folders:  99%|█████████▉| 96/97 [38:57<00:17, 17.34s/it]"
     ]
    },
    {
     "name": "stdout",
     "output_type": "stream",
     "text": [
      "Image pos008_EDOF_RGB.tiff processed. Total shapes extracted: 76\n"
     ]
    },
    {
     "name": "stderr",
     "output_type": "stream",
     "text": []
    },
    {
     "name": "stdout",
     "output_type": "stream",
     "text": [
      "Image pos003_EDOF_RGB.tiff processed. Total shapes extracted: 83\n"
     ]
    },
    {
     "name": "stderr",
     "output_type": "stream",
     "text": []
    },
    {
     "name": "stdout",
     "output_type": "stream",
     "text": [
      "Image pos000_EDOF_RGB.tiff processed. Total shapes extracted: 44\n"
     ]
    },
    {
     "name": "stderr",
     "output_type": "stream",
     "text": []
    },
    {
     "name": "stdout",
     "output_type": "stream",
     "text": [
      "Image pos004_EDOF_RGB.tiff processed. Total shapes extracted: 43\n"
     ]
    },
    {
     "name": "stderr",
     "output_type": "stream",
     "text": []
    },
    {
     "name": "stdout",
     "output_type": "stream",
     "text": [
      "Image pos001_EDOF_RGB.tiff processed. Total shapes extracted: 57\n"
     ]
    },
    {
     "name": "stderr",
     "output_type": "stream",
     "text": [
      "Processing images in folder 220519-01: 100%|██████████| 5/5 [00:10<00:00,  2.03s/it]\n",
      "Processing folders: 100%|██████████| 97/97 [39:07<00:00, 24.21s/it]"
     ]
    },
    {
     "name": "stdout",
     "output_type": "stream",
     "text": [
      "Image pos002_EDOF_RGB.tiff processed. Total shapes extracted: 118\n",
      "All images processed successfully.\n"
     ]
    },
    {
     "name": "stderr",
     "output_type": "stream",
     "text": [
      "\n"
     ]
    }
   ],
   "source": [
    "import os\n",
    "import cv2\n",
    "import shutil\n",
    "from tqdm import tqdm\n",
    "\n",
    "# Function for RBC segmentation and thumbnail extraction\n",
    "def process_image(image, output_dir):\n",
    "    # Perform RBC segmentation\n",
    "    rbc_only = rbc_segmentation(image)\n",
    "    \n",
    "    # Perform thumbnail extraction\n",
    "    shapeid = chop_thumbnails(image, output_dir)\n",
    "    \n",
    "    return shapeid\n",
    "\n",
    "# Define input and output directories\n",
    "current_dir = os.getcwd()\n",
    "input_relative_path = 'Red_Cell_Morphology 2/non-sma'\n",
    "output_relative_path = 'Red_Cell_Morphology 2 rbc/non-sma'\n",
    "input_dir = os.path.join(current_dir, input_relative_path)\n",
    "output_dir = os.path.join(current_dir, output_relative_path)\n",
    "\n",
    "# Create output directory if it doesn't exist\n",
    "if not os.path.exists(output_dir):\n",
    "    os.makedirs(output_dir)\n",
    "\n",
    "# Get a list of input folders\n",
    "input_folders = [folder for folder in os.listdir(input_dir) if os.path.isdir(os.path.join(input_dir, folder))]\n",
    "\n",
    "# Process each folder\n",
    "for folder in tqdm(input_folders, desc='Processing folders'):\n",
    "    # Create corresponding folder in the output directory\n",
    "    output_folder = os.path.join(output_dir, folder)\n",
    "    os.makedirs(output_folder, exist_ok=True)\n",
    "    \n",
    "    # Get a list of image files in the current folder\n",
    "    folder_path = os.path.join(input_dir, folder)\n",
    "    image_files = [file for file in os.listdir(folder_path) if file.endswith('.tiff')]\n",
    "    \n",
    "    # Process each image in the current folder\n",
    "    for image_file in tqdm(image_files, desc=f'Processing images in folder {folder}'):\n",
    "        # Read the image\n",
    "        image_path = os.path.join(folder_path, image_file)\n",
    "        image = cv2.imread(image_path)\n",
    "        \n",
    "        if image is not None:\n",
    "            # Process the image\n",
    "            shapeid = process_image(image, output_folder)\n",
    "            \n",
    "            print(f\"Image {image_file} processed. Total shapes extracted: {shapeid}\")\n",
    "\n",
    "print(\"All images processed successfully.\")"
   ]
  },
  {
   "cell_type": "code",
   "execution_count": null,
   "metadata": {},
   "outputs": [],
   "source": []
  }
 ],
 "metadata": {
  "kernelspec": {
   "display_name": "FYPenv",
   "language": "python",
   "name": "python3"
  },
  "language_info": {
   "codemirror_mode": {
    "name": "ipython",
    "version": 3
   },
   "file_extension": ".py",
   "mimetype": "text/x-python",
   "name": "python",
   "nbconvert_exporter": "python",
   "pygments_lexer": "ipython3",
   "version": "3.11.3"
  },
  "orig_nbformat": 4
 },
 "nbformat": 4,
 "nbformat_minor": 2
}
