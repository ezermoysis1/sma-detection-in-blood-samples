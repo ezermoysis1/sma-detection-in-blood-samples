{
 "cells": [
  {
   "cell_type": "code",
   "execution_count": 1,
   "metadata": {},
   "outputs": [],
   "source": [
    "import os\n",
    "import torch\n",
    "from torch import nn\n",
    "from torch.utils.data import DataLoader, random_split\n",
    "from torchvision import datasets, transforms\n",
    "from PIL import Image"
   ]
  },
  {
   "cell_type": "code",
   "execution_count": null,
   "metadata": {},
   "outputs": [],
   "source": [
    "class ImageFileDataset(torch.utils.data.Dataset):\n",
    "    def __init__(self, folder_path, transform=None, label=0):\n",
    "        self.folder_path = folder_path\n",
    "        self.file_list = [f for f in os.listdir(folder_path) if f.endswith('.png')]  # .tiff extension\n",
    "        self.transform = transform\n",
    "        self.label = label\n",
    "\n",
    "    def __len__(self):\n",
    "        return len(self.file_list)\n",
    "\n",
    "    def __getitem__(self, idx):\n",
    "        filename = self.file_list[idx]\n",
    "        file_path = os.path.join(self.folder_path, filename)\n",
    "        img = Image.open(file_path)\n",
    "        if self.transform:\n",
    "            img = self.transform(img)\n",
    "        return img, self.label"
   ]
  }
 ],
 "metadata": {
  "kernelspec": {
   "display_name": "FYPenv",
   "language": "python",
   "name": "python3"
  },
  "language_info": {
   "codemirror_mode": {
    "name": "ipython",
    "version": 3
   },
   "file_extension": ".py",
   "mimetype": "text/x-python",
   "name": "python",
   "nbconvert_exporter": "python",
   "pygments_lexer": "ipython3",
   "version": "3.11.3"
  },
  "orig_nbformat": 4
 },
 "nbformat": 4,
 "nbformat_minor": 2
}
