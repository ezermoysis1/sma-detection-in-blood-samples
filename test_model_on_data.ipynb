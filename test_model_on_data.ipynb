{
 "cells": [
  {
   "cell_type": "code",
   "execution_count": 2,
   "metadata": {},
   "outputs": [
    {
     "name": "stderr",
     "output_type": "stream",
     "text": [
      "/home/fabspace/anaconda3/envs/EzerM/lib/python3.9/site-packages/tqdm/auto.py:21: TqdmWarning: IProgress not found. Please update jupyter and ipywidgets. See https://ipywidgets.readthedocs.io/en/stable/user_install.html\n",
      "  from .autonotebook import tqdm as notebook_tqdm\n"
     ]
    }
   ],
   "source": [
    "import numpy as np\n",
    "import torch\n",
    "import matplotlib.pyplot as plt\n",
    "from torchvision import datasets, transforms\n",
    "from torch.utils.data import DataLoader\n",
    "import seaborn as sns\n",
    "import pandas as pd\n",
    "from sklearn.metrics import classification_report, confusion_matrix\n",
    "from my_models import my_ResNet_CNN\n",
    "from my_models_simple import my_ResNet_CNN_simple\n",
    "\n",
    "from collections import defaultdict\n",
    "from sklearn.metrics import f1_score, roc_curve, auc\n",
    "from dataloader import CustomImageDataset\n",
    "from sklearn.metrics import average_precision_score\n",
    "from sklearn.metrics import confusion_matrix\n"
   ]
  },
  {
   "cell_type": "code",
   "execution_count": 6,
   "metadata": {},
   "outputs": [
    {
     "name": "stdout",
     "output_type": "stream",
     "text": [
      "For classes:\n",
      "For SMA: Sensitivity = 0.82, Specificity = 0.38, Accuracy = 0.58\n",
      "For Non-SMA: Sensitivity = 0.38, Specificity = 0.82, Accuracy = 0.58\n",
      "For subclasses:\n",
      "For No Malaria, Severe Anaemia: Sensitivity = 0.82, Specificity = 0.29, Accuracy = 0.61\n",
      "For No Malaria, Anaemia: Sensitivity = 0.82, Specificity = 0.00, Accuracy = 0.69\n",
      "For No Malaria, No Anaemia: Sensitivity = 0.82, Specificity = 1.00, Accuracy = 0.86\n",
      "For Malaria, No Anaemia: Sensitivity = 0.82, Specificity = 0.00, Accuracy = 0.75\n"
     ]
    }
   ],
   "source": [
    "\n",
    "# MILSMA 4-4\n",
    "model_path = 'Experiments_log/model_weights_105.pth'\n",
    "\n",
    "# MILSMA 12-3\n",
    "#model_path = 'Experiments_log/20230811_024433/model_weights_4.pth'\n",
    "\n",
    "model = my_ResNet_CNN()\n",
    "model.load_state_dict(torch.load(model_path))\n",
    "model.eval()\n",
    "\n",
    "device = torch.device(\"cuda\" if torch.cuda.is_available() else \"cpu\")\n",
    "model.to(device)\n",
    "\n",
    "# Map class to 0/1\n",
    "class_to_idx = {'sma': 1, 'non-sma': 0} # Dictionaty to assign 1 to 'sma' and 0 to 'non-sma' samples\n",
    "\n",
    "transform_augm = transforms.Compose([\n",
    "            transforms.Resize((128, 128)),\n",
    "            transforms.ToTensor()\n",
    "])\n",
    "\n",
    "new_path='edof_new_sma_2023_cells_cleaned'\n",
    "\n",
    "# Create dataset\n",
    "dataset = CustomImageDataset(root_dir=new_path, class_to_idx=class_to_idx, min_number_images=20, transform=transform_augm)\n",
    "\n",
    "test_loader = DataLoader(dataset, batch_size=1, shuffle=False)  # Adjust batch size as needed\n",
    "\n",
    "df_samples = pd.read_csv('new_data1.csv')\n",
    "\n",
    "data = []\n",
    "\n",
    "with torch.no_grad():\n",
    "        for imgs, labels, img_paths in test_loader:\n",
    "            imgs = [tensor.to(device) for tensor in imgs]\n",
    "\n",
    "            # imgs = imgs.to(device)\n",
    "            labels = labels.to(device)\n",
    "            outputs = model(imgs, mode='test')\n",
    "            probs = outputs.cpu().numpy()\n",
    "            for img_path, label, prob in zip(img_paths, labels, probs):\n",
    "                data.append([img_path, label.item(), prob[0]])\n",
    "\n",
    "img_class_df = pd.DataFrame(data, columns=['image_path', 'true_label', 'predicted_probability'])\n",
    "\n",
    "img_class_df['Diagnosis'] = img_class_df['image_path'].map(df_samples.set_index('FASt-Mal-Code')['Diagnosis'])\n",
    "\n",
    "img_class_df['predicted label'] = np.round(img_class_df['predicted_probability']).astype(int)\n",
    "\n",
    "combined_df = img_class_df\n",
    "\n",
    "\n",
    "def calc_sens_spec_acc(df, pos_label, neg_label, col='true_label'):\n",
    "    true_positives = df[(df[col] == pos_label) & (df['predicted label'] == pos_label)].shape[0]\n",
    "    true_negatives = df[(df[col] == neg_label) & (df['predicted label'] == neg_label)].shape[0]\n",
    "    false_positives = df[(df[col] == neg_label) & (df['predicted label'] == pos_label)].shape[0]\n",
    "    false_negatives = df[(df[col] == pos_label) & (df['predicted label'] == neg_label)].shape[0]\n",
    "\n",
    "    sensitivity = true_positives / (true_positives + false_negatives)\n",
    "    specificity = true_negatives / (true_negatives + false_positives)\n",
    "    accuracy = (true_positives + true_negatives) / (true_positives + true_negatives + false_positives + false_negatives)\n",
    "\n",
    "    return sensitivity, specificity, accuracy\n",
    "\n",
    "# Assuming your dataframe is called combined_df:\n",
    "\n",
    "print('For classes:')\n",
    "# Calculate sensitivity, specificity, and accuracy for each unique 'true label'\n",
    "for label in combined_df['true_label'].unique():\n",
    "    sensitivity, specificity, accuracy = calc_sens_spec_acc(combined_df, label, 1-label)\n",
    "    label_name = 'SMA' if label == 1 else 'Non-SMA'\n",
    "    print(f\"For {label_name}: Sensitivity = {sensitivity:.2f}, Specificity = {specificity:.2f}, Accuracy = {accuracy:.2f}\")\n",
    "\n",
    "print('For subclasses:')\n",
    "# Calculate sensitivity, specificity, and accuracy for each unique 'Diagnosis'\n",
    "for diagnosis in combined_df['Diagnosis'].unique():\n",
    "    if diagnosis != 'Severe Malaria Anaemia':\n",
    "        subset = combined_df[(combined_df['Diagnosis'] == diagnosis) | (combined_df['Diagnosis'] == 'Severe Malaria Anaemia')]\n",
    "        sensitivity, specificity, accuracy = calc_sens_spec_acc(subset, 1, 0)\n",
    "        print(f\"For {diagnosis}: Sensitivity = {sensitivity:.2f}, Specificity = {specificity:.2f}, Accuracy = {accuracy:.2f}\")"
   ]
  },
  {
   "cell_type": "code",
   "execution_count": null,
   "metadata": {},
   "outputs": [],
   "source": []
  }
 ],
 "metadata": {
  "kernelspec": {
   "display_name": "EzerM",
   "language": "python",
   "name": "python3"
  },
  "language_info": {
   "codemirror_mode": {
    "name": "ipython",
    "version": 3
   },
   "file_extension": ".py",
   "mimetype": "text/x-python",
   "name": "python",
   "nbconvert_exporter": "python",
   "pygments_lexer": "ipython3",
   "version": "3.9.16"
  },
  "orig_nbformat": 4
 },
 "nbformat": 4,
 "nbformat_minor": 2
}
