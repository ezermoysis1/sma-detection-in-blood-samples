{
 "cells": [
  {
   "cell_type": "code",
   "execution_count": null,
   "metadata": {},
   "outputs": [],
   "source": [
    "from PIL import Image\n",
    "import numpy as np\n",
    "import os\n",
    "import matplotlib.pyplot as plt\n",
    "from tqdm import tqdm\n",
    "import torch\n",
    "import torch.optim as optim\n",
    "import torch.nn as nn\n",
    "import torch.nn.functional as F\n",
    "import torchvision.models as models\n",
    "from torch.utils.data import DataLoader, random_split, Dataset, DataLoader, WeightedRandomSampler\n",
    "import torchvision.transforms as transforms\n",
    "from sklearn.metrics import f1_score, roc_curve, auc\n",
    "\n",
    "\n",
    "from dataloader import CustomImageDataset\n",
    "import random"
   ]
  },
  {
   "cell_type": "code",
   "execution_count": 40,
   "metadata": {},
   "outputs": [],
   "source": [
    "# Parameters\n",
    "\n",
    "attention = 1"
   ]
  },
  {
   "cell_type": "code",
   "execution_count": 6,
   "metadata": {},
   "outputs": [],
   "source": [
    "# Define all the transforms\n",
    "\n",
    "# Transform for loading dataset\n",
    "transform_loading = transforms.Compose([\n",
    "    transforms.Resize((64, 64)),  # resize to 64x64\n",
    "    # transforms.Grayscale(),\n",
    "    transforms.ToTensor()\n",
    "])"
   ]
  },
  {
   "cell_type": "code",
   "execution_count": 31,
   "metadata": {},
   "outputs": [],
   "source": [
    "# Create the dataset and dataloader\n",
    "\n",
    "class_to_idx = {'sma': 1, 'non-sma': 0} # Dictionaty to assign 1 to 'sma' and 0 to 'non-sma' samples\n",
    "\n",
    "# Get current directory\n",
    "current_directory = os.getcwd()\n",
    "\n",
    "# Relative directory of images\n",
    "other_string = \"Red_Cell_Morphology 2 rbc balanced\"\n",
    "\n",
    "# Combine directpries\n",
    "new_path = os.path.join(current_directory, other_string)\n",
    "\n",
    "# Create dataset\n",
    "dataset = CustomImageDataset(root_dir=new_path, class_to_idx=class_to_idx, transform=transform_loading)\n",
    "\n",
    "# Define the train, validation, and test ratios (e.g., 70%, 15%, 15%)\n",
    "train_ratio = 0.7\n",
    "val_ratio = 0.15\n",
    "test_ratio = 0.15\n",
    "\n",
    "# Calculate the number of samples for each split\n",
    "num_samples = len(dataset)\n",
    "train_samples = int(train_ratio * num_samples)\n",
    "val_samples = int(val_ratio * num_samples)\n",
    "test_samples = num_samples - train_samples - val_samples\n",
    "\n",
    "# Use random_split to split the dataset\n",
    "train_set, val_set, test_set = random_split(dataset, [train_samples, val_samples, test_samples])\n",
    "\n",
    "# Create data loaders for each split\n",
    "train_loader = DataLoader(train_set, batch_size=1, shuffle=True)\n",
    "val_loader = DataLoader(val_set, batch_size=1, shuffle=False)  # No need to shuffle validation set\n",
    "test_loader = DataLoader(test_set, batch_size=1, shuffle=False)  # No need to shuffle test set\n"
   ]
  },
  {
   "cell_type": "code",
   "execution_count": 32,
   "metadata": {},
   "outputs": [
    {
     "name": "stdout",
     "output_type": "stream",
     "text": [
      "{'sma': 33, 'non-sma': 33}\n"
     ]
    }
   ],
   "source": [
    "# Get counts\n",
    "counts = dataset.get_class_counts()\n",
    "print(counts)"
   ]
  },
  {
   "attachments": {},
   "cell_type": "markdown",
   "metadata": {},
   "source": [
    "Code that checks if the sample/bag has less than 20 RBC images and deleted the sample if they are less. This is not correct. TBD"
   ]
  },
  {
   "cell_type": "code",
   "execution_count": null,
   "metadata": {},
   "outputs": [],
   "source": [
    "class SimpleCNN1(nn.Module):\n",
    "    def __init__(self):\n",
    "        super(SimpleCNN1, self).__init__()\n",
    "        self.conv1 = nn.Conv2d(3, 32, kernel_size=3, stride=1, padding=1)\n",
    "        self.pool = nn.MaxPool2d(2, 2)\n",
    "        self.conv2 = nn.Conv2d(32, 64, kernel_size=3, stride=1, padding=1)\n",
    "        self.fc1 = nn.Linear(4 * 64 * 64, 500)  # Adjusted for input image size 224x224\n",
    "        self.fc2 = nn.Linear(500, 100)\n",
    "        self.fc3 = nn.Linear(100, 1)\n",
    "        self.sigmoid = nn.Sigmoid()\n",
    "\n",
    "    def forward(self, x):\n",
    "        # Perform individual feature extraction on each image\n",
    "        features = []\n",
    "        for img in x:\n",
    "            img_features = self.pool(F.relu(self.conv1(img)))\n",
    "            img_features = self.pool(F.relu(self.conv2(img_features)))            \n",
    "            img_features = img_features.view(img_features.size(0), -1)  # Flatten layer\n",
    "            img_features = F.relu(self.fc1(img_features))\n",
    "            img_features = self.fc2(img_features)\n",
    "            features.append(img_features)\n",
    "\n",
    "        # Apply max pooling across all images\n",
    "        pooled_features = torch.stack(features)\n",
    "        # print(pooled_features.size())\n",
    "        pooled_features, _ = torch.max(pooled_features, dim=0)\n",
    "        # print(pooled_features.size())\n",
    "\n",
    "        # Flatten the pooled features\n",
    "        x = pooled_features.view(pooled_features.size(0), -1)\n",
    "\n",
    "        x=F.relu(x)\n",
    "\n",
    "        # Pass through the fully connected layers\n",
    "        x = self.fc3(x)\n",
    "        x = self.sigmoid(x)  # Apply sigmoid activation\n",
    "\n",
    "        return x"
   ]
  },
  {
   "cell_type": "code",
   "execution_count": 43,
   "metadata": {},
   "outputs": [],
   "source": [
    "class SimpleCNN(nn.Module):\n",
    "    def __init__(self):\n",
    "        super().__init__()\n",
    "        \n",
    "        # Use the first layers of ResNet-50 --> Look a bit more into this\n",
    "        resnet = models.resnet50(pretrained=True)\n",
    "        self.features = nn.Sequential(*list(resnet.children())[:6]) # Check this(?)\n",
    "\n",
    "        # Freeze the ResNet-50 weights\n",
    "        for param in self.features.parameters():\n",
    "            param.requires_grad = False\n",
    "        \n",
    "        self.fc2 = nn.Linear(32768, 2048)\n",
    "        self.fc3 = nn.Linear(2048, 1)  # Adjusted for ResNet-50 output size\n",
    "        self.sigmoid = nn.Sigmoid()\n",
    "\n",
    "        # Attention weights and bias -- if needed\n",
    "        self.attention_weights = nn.Linear(2048, 1)\n",
    "        self.attention_bias = nn.Parameter(torch.zeros(1))\n",
    "\n",
    "    def forward(self, x):\n",
    "        imgs_features = []\n",
    "\n",
    "        # # Randomly choose k=50 images frm each bag of images in each training cycle\n",
    "        # idxs=random.sample(range(len(x)),k=50)\n",
    "        # x=[x[i] for i in idxs]\n",
    "\n",
    "        # Independently pass each image (or a random subset) of a bag through the layers\n",
    "        for img in x:\n",
    "            # Pass through ResNet-50 layers\n",
    "            img_features = self.features(img)\n",
    "            # Flatten\n",
    "            img_features = img_features.view(img_features.size(0), -1)\n",
    "            # First linear from 32768 to 2048\n",
    "            img_features=self.fc2(img_features)\n",
    "            # Store in a list all the 2048 sized feature vectors for each sample\n",
    "            imgs_features.append(img_features)\n",
    "\n",
    "        # Apply max pooling across all images\n",
    "        pooled_features = torch.stack(imgs_features)\n",
    "\n",
    "        if attention == 1:\n",
    "            # Attention pooling\n",
    "            attention_weights = self.attention_weights(pooled_features)  # Calculate attention weights\n",
    "            attention_weights = F.softmax(attention_weights, dim=0)  # Apply softmax to get attention probabilities\n",
    "            pooled_features = pooled_features * attention_weights  # Apply attention weights\n",
    "            pooled_features = torch.sum(pooled_features, dim=0)  # Sum the attention-weighted features\n",
    "\n",
    "        elif attention == 0:\n",
    "            pooled_features, _ = torch.max(pooled_features, dim=0)\n",
    "\n",
    "        # Flatten the pooled features\n",
    "        x = pooled_features.view(pooled_features.size(0), -1)\n",
    "\n",
    "\n",
    "\n",
    "        # Pass through the fully connected layers\n",
    "        x = self.fc3(x)\n",
    "        x = self.sigmoid(x)  # Apply sigmoid activation\n",
    "\n",
    "        return x"
   ]
  },
  {
   "cell_type": "code",
   "execution_count": null,
   "metadata": {},
   "outputs": [
    {
     "name": "stdout",
     "output_type": "stream",
     "text": [
      "This will run on cpu\n"
     ]
    }
   ],
   "source": [
    "device = torch.device(\"cuda\" if torch.cuda.is_available() else \"cpu\")\n",
    "print('This will run on', device)"
   ]
  },
  {
   "cell_type": "code",
   "execution_count": 29,
   "metadata": {},
   "outputs": [
    {
     "ename": "NameError",
     "evalue": "name 'train_dataset_augmented_normalized' is not defined",
     "output_type": "error",
     "traceback": [
      "\u001b[0;31m---------------------------------------------------------------------------\u001b[0m",
      "\u001b[0;31mNameError\u001b[0m                                 Traceback (most recent call last)",
      "Cell \u001b[0;32mIn[29], line 4\u001b[0m\n\u001b[1;32m      1\u001b[0m \u001b[39m# Step 4: Data resampling or class weights\u001b[39;00m\n\u001b[1;32m      2\u001b[0m \u001b[39m# Option 1: Data Resampling - Oversampling the minority class\u001b[39;00m\n\u001b[1;32m      3\u001b[0m class_sample_count \u001b[39m=\u001b[39m torch\u001b[39m.\u001b[39mtensor(\n\u001b[0;32m----> 4\u001b[0m     [(train_dataset_augmented_normalized\u001b[39m.\u001b[39mtargets \u001b[39m==\u001b[39m t)\u001b[39m.\u001b[39msum() \u001b[39mfor\u001b[39;00m t \u001b[39min\u001b[39;00m torch\u001b[39m.\u001b[39munique(train_dataset_augmented_normalized\u001b[39m.\u001b[39mtargets, \u001b[39msorted\u001b[39m\u001b[39m=\u001b[39m\u001b[39mTrue\u001b[39;00m)])\n\u001b[1;32m      5\u001b[0m weight \u001b[39m=\u001b[39m \u001b[39m1.\u001b[39m \u001b[39m/\u001b[39m class_sample_count\u001b[39m.\u001b[39mfloat()\n\u001b[1;32m      6\u001b[0m samples_weight \u001b[39m=\u001b[39m weight[train_dataset_augmented_normalized\u001b[39m.\u001b[39mtargets]\n",
      "\u001b[0;31mNameError\u001b[0m: name 'train_dataset_augmented_normalized' is not defined"
     ]
    }
   ],
   "source": [
    "# Step 4: Data resampling or class weights\n",
    "# Option 1: Data Resampling - Oversampling the minority class\n",
    "class_sample_count = torch.tensor(\n",
    "    [(dataset.targets == t).sum() for t in torch.unique(dataset.targets, sorted=True)])\n",
    "\n",
    "# weight = 1. / class_sample_count.float()\n",
    "# samples_weight = weight[train_dataset_augmented_normalized.targets]\n",
    "# sampler = WeightedRandomSampler(samples_weight, len(samples_weight), replacement=True)\n",
    "\n",
    "# Option 2: Class Weights\n",
    "class_weights = 1. / class_sample_count.float()\n",
    "class_weights = class_weights / class_weights.sum()\n",
    "criterion = torch.nn.CrossEntropyLoss(weight=class_weights)"
   ]
  },
  {
   "cell_type": "code",
   "execution_count": 44,
   "metadata": {},
   "outputs": [
    {
     "name": "stderr",
     "output_type": "stream",
     "text": [
      "Epoch 1/1:  22%|██▏       | 10/46 [01:48<06:30, 10.84s/batch]\n"
     ]
    },
    {
     "ename": "KeyboardInterrupt",
     "evalue": "",
     "output_type": "error",
     "traceback": [
      "\u001b[0;31m---------------------------------------------------------------------------\u001b[0m",
      "\u001b[0;31mKeyboardInterrupt\u001b[0m                         Traceback (most recent call last)",
      "Cell \u001b[0;32mIn[44], line 39\u001b[0m\n\u001b[1;32m     37\u001b[0m loss \u001b[39m=\u001b[39m loss_fn(target[\u001b[39m0\u001b[39m],labels\u001b[39m.\u001b[39mfloat())\n\u001b[1;32m     38\u001b[0m optimizer\u001b[39m.\u001b[39mzero_grad()\n\u001b[0;32m---> 39\u001b[0m loss\u001b[39m.\u001b[39;49mbackward()\n\u001b[1;32m     40\u001b[0m optimizer\u001b[39m.\u001b[39mstep()\n\u001b[1;32m     41\u001b[0m loss_tracker\u001b[39m.\u001b[39mappend(loss)\n",
      "File \u001b[0;32m~/opt/miniconda3/envs/FYPenv/lib/python3.11/site-packages/torch/_tensor.py:487\u001b[0m, in \u001b[0;36mTensor.backward\u001b[0;34m(self, gradient, retain_graph, create_graph, inputs)\u001b[0m\n\u001b[1;32m    477\u001b[0m \u001b[39mif\u001b[39;00m has_torch_function_unary(\u001b[39mself\u001b[39m):\n\u001b[1;32m    478\u001b[0m     \u001b[39mreturn\u001b[39;00m handle_torch_function(\n\u001b[1;32m    479\u001b[0m         Tensor\u001b[39m.\u001b[39mbackward,\n\u001b[1;32m    480\u001b[0m         (\u001b[39mself\u001b[39m,),\n\u001b[0;32m   (...)\u001b[0m\n\u001b[1;32m    485\u001b[0m         inputs\u001b[39m=\u001b[39minputs,\n\u001b[1;32m    486\u001b[0m     )\n\u001b[0;32m--> 487\u001b[0m torch\u001b[39m.\u001b[39;49mautograd\u001b[39m.\u001b[39;49mbackward(\n\u001b[1;32m    488\u001b[0m     \u001b[39mself\u001b[39;49m, gradient, retain_graph, create_graph, inputs\u001b[39m=\u001b[39;49minputs\n\u001b[1;32m    489\u001b[0m )\n",
      "File \u001b[0;32m~/opt/miniconda3/envs/FYPenv/lib/python3.11/site-packages/torch/autograd/__init__.py:200\u001b[0m, in \u001b[0;36mbackward\u001b[0;34m(tensors, grad_tensors, retain_graph, create_graph, grad_variables, inputs)\u001b[0m\n\u001b[1;32m    195\u001b[0m     retain_graph \u001b[39m=\u001b[39m create_graph\n\u001b[1;32m    197\u001b[0m \u001b[39m# The reason we repeat same the comment below is that\u001b[39;00m\n\u001b[1;32m    198\u001b[0m \u001b[39m# some Python versions print out the first line of a multi-line function\u001b[39;00m\n\u001b[1;32m    199\u001b[0m \u001b[39m# calls in the traceback and some print out the last line\u001b[39;00m\n\u001b[0;32m--> 200\u001b[0m Variable\u001b[39m.\u001b[39;49m_execution_engine\u001b[39m.\u001b[39;49mrun_backward(  \u001b[39m# Calls into the C++ engine to run the backward pass\u001b[39;49;00m\n\u001b[1;32m    201\u001b[0m     tensors, grad_tensors_, retain_graph, create_graph, inputs,\n\u001b[1;32m    202\u001b[0m     allow_unreachable\u001b[39m=\u001b[39;49m\u001b[39mTrue\u001b[39;49;00m, accumulate_grad\u001b[39m=\u001b[39;49m\u001b[39mTrue\u001b[39;49;00m)\n",
      "\u001b[0;31mKeyboardInterrupt\u001b[0m: "
     ]
    }
   ],
   "source": [
    "# Initialize the network and optimizer\n",
    "net = SimpleCNN() \n",
    "\n",
    "net.to(device) # Move model to GPU ---> I have this twice\n",
    "\n",
    "loss_fn = nn.BCEWithLogitsLoss()\n",
    "optimizer = optim.Adam(net.parameters(), lr=0.00001)\n",
    "\n",
    "# Initialize lists to store accuracy values\n",
    "train_accuracy_list = []\n",
    "val_accuracy_list = []\n",
    "test_accuracy = 0.0       \n",
    "loss_tracker=[]\n",
    "\n",
    "# Training loop\n",
    "for epoch in range(2):  # loop over the dataset multiple times\n",
    "\n",
    "    running_loss = 0.0\n",
    "    correct = 0\n",
    "    total = 0\n",
    "\n",
    "    with tqdm(total=len(train_loader),desc=f'Epoch {epoch+1}/{1}', unit='batch',) as pbar:\n",
    "        for i, data in enumerate(train_loader, 0):\n",
    "\n",
    "            # get the inputs; data is a list of [inputs, labels]\n",
    "            inputs, labels = data\n",
    "            \n",
    "            # Move each tensor in the list, all labels, and the model to the GPU\n",
    "            inputs = [tensor.to(device) for tensor in inputs]\n",
    "            labels = labels.to(device)\n",
    "            net = net.to(device)\n",
    "            \n",
    "            # Make a prediciton by passing inputs sample through network\n",
    "            target = net(inputs)\n",
    "    \n",
    "            # Calculate the loss\n",
    "            loss = loss_fn(target[0],labels.float())\n",
    "            optimizer.zero_grad()\n",
    "            loss.backward()\n",
    "            optimizer.step()\n",
    "            loss_tracker.append(loss)\n",
    "\n",
    "            # Update accuracy\n",
    "            predicted = target.data.round().int()\n",
    "            total += labels.size(0)\n",
    "            correct += (predicted == labels).sum().item()\n",
    "\n",
    "            # print statistics\n",
    "            running_loss += loss.item()\n",
    "            \n",
    "             # Print loss in every minibatch\n",
    "            # print(f'Epoch {epoch+1}/{1}, Minibatch {i+1}/{len(train_loader)}, Loss: {objective.item()}')\n",
    "            pbar.update(1)\n",
    "\n",
    "    # Calculate training accuracy\n",
    "    train_accuracy = 100 * correct / total                                                                                      \n",
    "    train_accuracy_list.append(train_accuracy)\n",
    "\n",
    "    # Validation accuracy - store validation accuracy at the end of each epoch\n",
    "    net.eval()  # Switch to evaluation mode                                                                                                                                                                     \n",
    "    val_correct = 0\n",
    "    val_total = 0\n",
    "\n",
    "    with torch.no_grad():\n",
    "        for data in val_loader:\n",
    "            inputs, labels = data\n",
    "            inputs = [tensor.to(device) for tensor in inputs]\n",
    "\n",
    "            target = net(inputs)\n",
    "            target = target.to(device)\n",
    "\n",
    "            labels = labels.to(device)\n",
    "\n",
    "            # Calculate validation accuracy\n",
    "            predicted = target.data.round().int()\n",
    "            val_total += labels.size(0)\n",
    "            val_correct += (predicted == labels).sum().item()\n",
    "\n",
    "    val_accuracy = 100 * val_correct / val_total\n",
    "    val_accuracy_list.append(val_accuracy)\n",
    "\n",
    "        # Calculate F1 score for validation set\n",
    "    val_predicted_probs = torch.sigmoid(target).cpu().numpy()\n",
    "    val_predicted_labels = np.round(val_predicted_probs)\n",
    "    val_f1 = f1_score(labels.cpu().numpy(), val_predicted_labels)\n",
    "\n",
    "    # Calculate ROC curve for validation set\n",
    "    fpr, tpr, _ = roc_curve(labels.cpu().numpy(), val_predicted_probs)\n",
    "    val_roc_auc = auc(fpr, tpr)\n",
    "\n",
    " # Testing accuracy - calculate test accuracy at the end of training\n",
    "net.eval()  # Switch to evaluation mode\n",
    "test_correct = 0\n",
    "test_total = 0\n",
    "\n",
    "with torch.no_grad():\n",
    "    for data in test_loader:\n",
    "        inputs, labels = data\n",
    "        inputs = [tensor.to(device) for tensor in inputs]\n",
    "\n",
    "        target = net(inputs)\n",
    "        target = target.to(device)\n",
    "        labels = labels.to(device)\n",
    "\n",
    "        # Calculate test accuracy\n",
    "        predicted = target.data.round().int()\n",
    "        test_total += labels.size(0)\n",
    "        test_correct += (predicted == labels).sum().item()\n",
    "\n",
    "test_accuracy = 100 * test_correct / test_total\n",
    "\n",
    "print(f'Training Accuracy: {train_accuracy_list[-1]:.2f}%')\n",
    "print(f'Validation Accuracy: {val_accuracy_list[-1]:.2f}%')\n",
    "print(f'Test Accuracy: {test_accuracy:.2f}%')\n",
    "\n",
    "print('Finished Training')\n",
    "\n",
    "\n",
    "plt.plot(val_accuracy_list)"
   ]
  },
  {
   "cell_type": "code",
   "execution_count": 38,
   "metadata": {},
   "outputs": [
    {
     "data": {
      "image/png": "[encoded data removed]",
      "text/plain": [
       "<Figure size 640x480 with 1 Axes>"
      ]
     },
     "metadata": {},
     "output_type": "display_data"
    }
   ],
   "source": [
    "# Plot validation accuracy in each epoch\n",
    "\n",
    "plt.plot(val_accuracy_list)\n",
    "plt.title('Validation accuracy vs Epoch')\n",
    "plt.xlabel('Epoch')\n",
    "plt.ylabel('Validation accuracy')\n",
    "plt.show()"
   ]
  },
  {
   "cell_type": "code",
   "execution_count": 39,
   "metadata": {},
   "outputs": [
    {
     "data": {
      "image/png": "[encoded data removed]",
      "text/plain": [
       "<Figure size 640x480 with 1 Axes>"
      ]
     },
     "metadata": {},
     "output_type": "display_data"
    }
   ],
   "source": [
    "# Plot the loss against minibatch iteration\n",
    "loss_all=[]\n",
    "\n",
    "for i in range(len(loss_tracker)):\n",
    "    loss_all.append(loss_tracker[i].item())\n",
    "\n",
    "plt.plot(loss_all)\n",
    "plt.title('Loss vs Minibatch iteration')\n",
    "plt.xlabel('Minibatch iteration')\n",
    "plt.ylabel('BCE Loss for minibatch')\n",
    "plt.show()\n"
   ]
  },
  {
   "cell_type": "code",
   "execution_count": 32,
   "metadata": {},
   "outputs": [
    {
     "name": "stdout",
     "output_type": "stream",
     "text": [
      "target tensor([[0.8240]])\n",
      "labels:  tensor([1])\n",
      "target data: tensor([[0.8240]])\n",
      "predicted tensor([[1]], dtype=torch.int32)\n",
      "target tensor([[0.8167]])\n",
      "labels:  tensor([1])\n",
      "target data: tensor([[0.8167]])\n",
      "predicted tensor([[1]], dtype=torch.int32)\n",
      "target tensor([[0.8113]])\n",
      "labels:  tensor([1])\n",
      "target data: tensor([[0.8113]])\n",
      "predicted tensor([[1]], dtype=torch.int32)\n",
      "target tensor([[0.8184]])\n",
      "labels:  tensor([1])\n",
      "target data: tensor([[0.8184]])\n",
      "predicted tensor([[1]], dtype=torch.int32)\n",
      "target tensor([[0.8050]])\n",
      "labels:  tensor([1])\n",
      "target data: tensor([[0.8050]])\n",
      "predicted tensor([[1]], dtype=torch.int32)\n",
      "target tensor([[0.8205]])\n",
      "labels:  tensor([1])\n",
      "target data: tensor([[0.8205]])\n",
      "predicted tensor([[1]], dtype=torch.int32)\n",
      "100.0\n"
     ]
    }
   ],
   "source": [
    "test_total=0\n",
    "test_correct=0\n",
    "with torch.no_grad():\n",
    "    for data in test_loader:\n",
    "        inputs, labels = data\n",
    "        target = net(inputs)\n",
    "        print('target', target)\n",
    "        print('labels: ', labels)\n",
    "\n",
    "        # Calculate test accuracy\n",
    "        print('target data:' , target.data)\n",
    "        predicted = target.data.round().int()\n",
    "        print('predicted', predicted)\n",
    "        test_total += labels.size(0)\n",
    "        test_correct += (predicted == labels).sum().item()\n",
    "\n",
    "test_accuracy = 100 * test_correct / test_total\n",
    "print(test_accuracy)"
   ]
  },
  {
   "cell_type": "code",
   "execution_count": null,
   "metadata": {},
   "outputs": [],
   "source": []
  }
 ],
 "metadata": {
  "kernelspec": {
   "display_name": "FYPenv",
   "language": "python",
   "name": "python3"
  },
  "language_info": {
   "codemirror_mode": {
    "name": "ipython",
    "version": 3
   },
   "file_extension": ".py",
   "mimetype": "text/x-python",
   "name": "python",
   "nbconvert_exporter": "python",
   "pygments_lexer": "ipython3",
   "version": "3.11.3"
  },
  "orig_nbformat": 4
 },
 "nbformat": 4,
 "nbformat_minor": 2
}
