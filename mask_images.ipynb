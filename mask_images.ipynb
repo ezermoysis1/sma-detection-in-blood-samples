{
 "cells": [
  {
   "cell_type": "code",
   "execution_count": 2,
   "metadata": {},
   "outputs": [],
   "source": [
    "import cv2\n",
    "import cv2 as cv\n",
    "import numpy as np\n",
    "from matplotlib import pyplot as plt\n",
    "from PIL import Image\n",
    "# import tensorflow as tf\n",
    "# from tensorflow import keras as K\n",
    "import skimage\n",
    "from skimage.io import imshow, imread, imsave\n",
    "from glob import glob\n",
    "import os"
   ]
  },
  {
   "cell_type": "code",
   "execution_count": 3,
   "metadata": {},
   "outputs": [
    {
     "name": "stdout",
     "output_type": "stream",
     "text": [
      "current directory =  /Users/ezermoysis/Documents/UCL/Year end project/Malaria/FYP\n"
     ]
    }
   ],
   "source": [
    "# Check current directory\n",
    "current_directory = os.getcwd()\n",
    "print('current directory = ',current_directory)\n",
    "\n",
    "# setting the path to the directory containing the file\n",
    "folder_path = current_directory+'/Yu-SMA/sma-images/'\n",
    "\n",
    "# setting the filename\n",
    "filename = 'sma_11_EDOF_RGB.tiff'\n",
    "\n",
    "# creating the full file path\n",
    "file_path = os.path.join(folder_path, filename)"
   ]
  },
  {
   "cell_type": "code",
   "execution_count": 6,
   "metadata": {},
   "outputs": [
    {
     "name": "stdout",
     "output_type": "stream",
     "text": [
      "['/Users/ezermoysis/Documents/UCL/Year end project/Malaria/FYP/Yu-SMA/sma-images/sma_11_EDOF_RGB.tiff', '/Users/ezermoysis/Documents/UCL/Year end project/Malaria/FYP/Yu-SMA/sma-images/sma_15_EDOF_RGB.tiff', '/Users/ezermoysis/Documents/UCL/Year end project/Malaria/FYP/Yu-SMA/sma-images/sma_8_EDOF_RGB.tiff', '/Users/ezermoysis/Documents/UCL/Year end project/Malaria/FYP/Yu-SMA/sma-images/sma_12_EDOF_RGB.tiff', '/Users/ezermoysis/Documents/UCL/Year end project/Malaria/FYP/Yu-SMA/sma-images/sma_16_EDOF_RGB.tiff', '/Users/ezermoysis/Documents/UCL/Year end project/Malaria/FYP/Yu-SMA/sma-images/sma_2_EDOF_RGB.tiff', '/Users/ezermoysis/Documents/UCL/Year end project/Malaria/FYP/Yu-SMA/sma-images/sma_6_EDOF_RGB.tiff', '/Users/ezermoysis/Documents/UCL/Year end project/Malaria/FYP/Yu-SMA/sma-images/sma_1_EDOF_RGB.tiff', '/Users/ezermoysis/Documents/UCL/Year end project/Malaria/FYP/Yu-SMA/sma-images/sma_5_EDOF_RGB.tiff', '/Users/ezermoysis/Documents/UCL/Year end project/Malaria/FYP/Yu-SMA/sma-images/sma_4_EDOF_RGB.tiff', '/Users/ezermoysis/Documents/UCL/Year end project/Malaria/FYP/Yu-SMA/sma-images/sma_7_EDOF_RGB.tiff', '/Users/ezermoysis/Documents/UCL/Year end project/Malaria/FYP/Yu-SMA/sma-images/sma_3_EDOF_RGB.tiff', '/Users/ezermoysis/Documents/UCL/Year end project/Malaria/FYP/Yu-SMA/sma-images/sma_9_EDOF_RGB.tiff', '/Users/ezermoysis/Documents/UCL/Year end project/Malaria/FYP/Yu-SMA/sma-images/sma_17_EDOF_RGB.tiff', '/Users/ezermoysis/Documents/UCL/Year end project/Malaria/FYP/Yu-SMA/sma-images/sma_13_EDOF_RGB.tiff', '/Users/ezermoysis/Documents/UCL/Year end project/Malaria/FYP/Yu-SMA/sma-images/sma_14_EDOF_RGB.tiff', '/Users/ezermoysis/Documents/UCL/Year end project/Malaria/FYP/Yu-SMA/sma-images/sma_10_EDOF_RGB.tiff']\n"
     ]
    }
   ],
   "source": [
    "in_dir = folder_path\n",
    "out_dir = '/Users/ezermoysis/Documents/UCL/Year end project/Malaria/FYP/Out'\n",
    "\n",
    "# read the input image file names with paths into a list\n",
    "infiles = in_dir + '/*.tiff'\n",
    "img_names = glob(infiles)\n",
    "print(img_names)"
   ]
  },
  {
   "cell_type": "code",
   "execution_count": 9,
   "metadata": {},
   "outputs": [
    {
     "name": "stdout",
     "output_type": "stream",
     "text": [
      "['/Users/ezermoysis/Documents/UCL/Year end project/Malaria/FYP/Out/sma_11_EDOF_RGB.tiff', '/Users/ezermoysis/Documents/UCL/Year end project/Malaria/FYP/Out/sma_15_EDOF_RGB.tiff', '/Users/ezermoysis/Documents/UCL/Year end project/Malaria/FYP/Out/sma_8_EDOF_RGB.tiff', '/Users/ezermoysis/Documents/UCL/Year end project/Malaria/FYP/Out/sma_12_EDOF_RGB.tiff', '/Users/ezermoysis/Documents/UCL/Year end project/Malaria/FYP/Out/sma_16_EDOF_RGB.tiff', '/Users/ezermoysis/Documents/UCL/Year end project/Malaria/FYP/Out/sma_2_EDOF_RGB.tiff', '/Users/ezermoysis/Documents/UCL/Year end project/Malaria/FYP/Out/sma_6_EDOF_RGB.tiff', '/Users/ezermoysis/Documents/UCL/Year end project/Malaria/FYP/Out/sma_1_EDOF_RGB.tiff', '/Users/ezermoysis/Documents/UCL/Year end project/Malaria/FYP/Out/sma_5_EDOF_RGB.tiff', '/Users/ezermoysis/Documents/UCL/Year end project/Malaria/FYP/Out/sma_4_EDOF_RGB.tiff', '/Users/ezermoysis/Documents/UCL/Year end project/Malaria/FYP/Out/sma_7_EDOF_RGB.tiff', '/Users/ezermoysis/Documents/UCL/Year end project/Malaria/FYP/Out/sma_3_EDOF_RGB.tiff', '/Users/ezermoysis/Documents/UCL/Year end project/Malaria/FYP/Out/sma_9_EDOF_RGB.tiff', '/Users/ezermoysis/Documents/UCL/Year end project/Malaria/FYP/Out/sma_17_EDOF_RGB.tiff', '/Users/ezermoysis/Documents/UCL/Year end project/Malaria/FYP/Out/sma_13_EDOF_RGB.tiff', '/Users/ezermoysis/Documents/UCL/Year end project/Malaria/FYP/Out/sma_14_EDOF_RGB.tiff', '/Users/ezermoysis/Documents/UCL/Year end project/Malaria/FYP/Out/sma_10_EDOF_RGB.tiff']\n"
     ]
    }
   ],
   "source": [
    "in_dir = '/Users/ezermoysis/Documents/UCL/Year end project/Malaria/FYP/Out'\n",
    "out_dir = '/Users/ezermoysis/Documents/UCL/Year end project/Malaria/FYP/Out-mask'\n",
    "\n",
    "# read the input image file names with paths into a list\n",
    "infiles = in_dir + '/*.tiff'\n",
    "img_names = glob(infiles)\n",
    "print(img_names)"
   ]
  },
  {
   "cell_type": "code",
   "execution_count": 10,
   "metadata": {},
   "outputs": [
    {
     "name": "stdout",
     "output_type": "stream",
     "text": [
      "processing /Users/ezermoysis/Documents/UCL/Year end project/Malaria/FYP/Out/sma_11_EDOF_RGB.tiff...\n",
      "processing /Users/ezermoysis/Documents/UCL/Year end project/Malaria/FYP/Out/sma_15_EDOF_RGB.tiff...\n",
      "processing /Users/ezermoysis/Documents/UCL/Year end project/Malaria/FYP/Out/sma_8_EDOF_RGB.tiff...\n",
      "processing /Users/ezermoysis/Documents/UCL/Year end project/Malaria/FYP/Out/sma_12_EDOF_RGB.tiff...\n",
      "processing /Users/ezermoysis/Documents/UCL/Year end project/Malaria/FYP/Out/sma_16_EDOF_RGB.tiff...\n",
      "processing /Users/ezermoysis/Documents/UCL/Year end project/Malaria/FYP/Out/sma_2_EDOF_RGB.tiff...\n",
      "processing /Users/ezermoysis/Documents/UCL/Year end project/Malaria/FYP/Out/sma_6_EDOF_RGB.tiff...\n",
      "processing /Users/ezermoysis/Documents/UCL/Year end project/Malaria/FYP/Out/sma_1_EDOF_RGB.tiff...\n",
      "processing /Users/ezermoysis/Documents/UCL/Year end project/Malaria/FYP/Out/sma_5_EDOF_RGB.tiff...\n",
      "processing /Users/ezermoysis/Documents/UCL/Year end project/Malaria/FYP/Out/sma_4_EDOF_RGB.tiff...\n",
      "processing /Users/ezermoysis/Documents/UCL/Year end project/Malaria/FYP/Out/sma_7_EDOF_RGB.tiff...\n",
      "processing /Users/ezermoysis/Documents/UCL/Year end project/Malaria/FYP/Out/sma_3_EDOF_RGB.tiff...\n",
      "processing /Users/ezermoysis/Documents/UCL/Year end project/Malaria/FYP/Out/sma_9_EDOF_RGB.tiff...\n",
      "processing /Users/ezermoysis/Documents/UCL/Year end project/Malaria/FYP/Out/sma_17_EDOF_RGB.tiff...\n",
      "processing /Users/ezermoysis/Documents/UCL/Year end project/Malaria/FYP/Out/sma_13_EDOF_RGB.tiff...\n",
      "processing /Users/ezermoysis/Documents/UCL/Year end project/Malaria/FYP/Out/sma_14_EDOF_RGB.tiff...\n",
      "processing /Users/ezermoysis/Documents/UCL/Year end project/Malaria/FYP/Out/sma_10_EDOF_RGB.tiff...\n"
     ]
    }
   ],
   "source": [
    "for fn in img_names:\n",
    "    print('processing %s...' % fn)\n",
    "\n",
    "    # read an input image as gray\n",
    "    im_gray = cv2.imread(fn,0)\n",
    "    \n",
    "    #blur = cv2.GaussianBlur(im_gray,(5,5),0)\n",
    "\n",
    "    # threshold it with your saved threshold\n",
    "    im_bw = cv2.threshold(im_gray, 0, 255, cv2.THRESH_BINARY_INV + cv2.THRESH_OTSU)[1]\n",
    "\n",
    "    # write the result to disk in the previously created output directory\n",
    "    name = os.path.basename(fn)\n",
    "    outfile = out_dir + '/' + name\n",
    "    cv2.imwrite(outfile, im_bw)"
   ]
  },
  {
   "cell_type": "code",
   "execution_count": null,
   "metadata": {},
   "outputs": [],
   "source": []
  }
 ],
 "metadata": {
  "kernelspec": {
   "display_name": "FYPenv",
   "language": "python",
   "name": "python3"
  },
  "language_info": {
   "codemirror_mode": {
    "name": "ipython",
    "version": 3
   },
   "file_extension": ".py",
   "mimetype": "text/x-python",
   "name": "python",
   "nbconvert_exporter": "python",
   "pygments_lexer": "ipython3",
   "version": "3.11.3"
  },
  "orig_nbformat": 4
 },
 "nbformat": 4,
 "nbformat_minor": 2
}
