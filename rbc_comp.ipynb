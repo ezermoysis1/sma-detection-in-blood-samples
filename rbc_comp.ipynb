{
 "cells": [
  {
   "cell_type": "code",
   "execution_count": 1,
   "metadata": {},
   "outputs": [],
   "source": [
    "import functions.rbc_comparison_utils"
   ]
  },
  {
   "cell_type": "code",
   "execution_count": 13,
   "metadata": {},
   "outputs": [],
   "source": [
    "img_path = 'RCM_cells_cleaned'\n",
    "\n",
    "# MILSMA 12-3\n",
    "model_path = 'Experiments_log/20230811_024433/model_weights_4.pth'"
   ]
  },
  {
   "cell_type": "markdown",
   "metadata": {},
   "source": [
    "Use the defined model to classify all images of the training dataset"
   ]
  },
  {
   "cell_type": "code",
   "execution_count": 14,
   "metadata": {},
   "outputs": [],
   "source": [
    "img_class_df = rbc_comparison_utils.rbf_classification(img_path, model_path)"
   ]
  },
  {
   "cell_type": "markdown",
   "metadata": {},
   "source": [
    "Choose the RBC images which are most certainly predicted as SMA negative and SMA positive and display them side-by-side"
   ]
  },
  {
   "cell_type": "code",
   "execution_count": null,
   "metadata": {},
   "outputs": [],
   "source": [
    "most_non_sma_rbcs, most_sma_rbcs = rbc_comparison_utils.rbf_n_comparison(img_class_df, num_rbcs_per_class=100)\n",
    "fig_rbc_img_comp = rbc_comparison_utils.display_rbc_comparison(most_non_sma_rbcs, most_sma_rbcs)"
   ]
  },
  {
   "cell_type": "markdown",
   "metadata": {},
   "source": [
    "Run descriptors on these RBC images"
   ]
  },
  {
   "cell_type": "code",
   "execution_count": null,
   "metadata": {},
   "outputs": [],
   "source": [
    "descriptors_numeric_highest, descriptors_numeric_lowest = rbc_comparison_utils.rbc_descriptors_comp(most_non_sma_rbcs, most_sma_rbcs)"
   ]
  },
  {
   "cell_type": "markdown",
   "metadata": {},
   "source": [
    "Compare the descriptors and display barplot "
   ]
  },
  {
   "cell_type": "code",
   "execution_count": null,
   "metadata": {},
   "outputs": [],
   "source": [
    "fig_rbc_desc_comp = rbc_comparison_utils.compare_dataframes(descriptors_numeric_highest, descriptors_numeric_lowest)"
   ]
  }
 ],
 "metadata": {
  "kernelspec": {
   "display_name": "EzerM",
   "language": "python",
   "name": "python3"
  },
  "language_info": {
   "codemirror_mode": {
    "name": "ipython",
    "version": 3
   },
   "file_extension": ".py",
   "mimetype": "text/x-python",
   "name": "python",
   "nbconvert_exporter": "python",
   "pygments_lexer": "ipython3",
   "version": "3.11.3"
  },
  "orig_nbformat": 4
 },
 "nbformat": 4,
 "nbformat_minor": 2
}
