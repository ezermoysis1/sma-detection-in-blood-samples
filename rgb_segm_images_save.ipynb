{
 "cells": [
  {
   "cell_type": "code",
   "execution_count": 1,
   "metadata": {},
   "outputs": [
    {
     "name": "stderr",
     "output_type": "stream",
     "text": [
      "/tmp/ipykernel_426051/3803682953.py:15: DeprecationWarning: Please use `binary_fill_holes` from the `scipy.ndimage` namespace, the `scipy.ndimage.morphology` namespace is deprecated.\n",
      "  from scipy.ndimage.morphology import binary_fill_holes\n"
     ]
    }
   ],
   "source": [
    "import cv2\n",
    "import matplotlib.pyplot as plt\n",
    "import numpy as np\n",
    "import argparse\n",
    "import os\n",
    "import sys\n",
    "import numpy as np\n",
    "import csv\n",
    "import cv2\n",
    "import argparse \n",
    "import imageio\n",
    "from skimage.filters import threshold_otsu, threshold_mean, threshold_local, threshold_isodata\n",
    "from skimage.measure import label, regionprops\n",
    "from skimage.morphology import remove_small_objects\n",
    "from scipy.ndimage.morphology import binary_fill_holes\n",
    "from skimage.morphology import square\n",
    "from skimage import morphology\n",
    "from skimage.segmentation import clear_border\n",
    "from sklearn.preprocessing import StandardScaler\n",
    "from sklearn.decomposition import PCA\n",
    "import time\n",
    "\n"
   ]
  },
  {
   "cell_type": "code",
   "execution_count": 2,
   "metadata": {},
   "outputs": [],
   "source": [
    "import os\n",
    "import shutil\n",
    "import cv2\n",
    "import matplotlib.pyplot as plt\n",
    "import numpy as np\n",
    "from scipy.ndimage import binary_fill_holes\n",
    "from skimage import morphology\n",
    "\n",
    "def preprocess_image(image_path):\n",
    "    # Read the image\n",
    "    image = cv2.imread(image_path)\n",
    "\n",
    "    # Convert to Gray\n",
    "    gray = cv2.cvtColor(image, cv2.COLOR_BGR2GRAY)\n",
    "\n",
    "    # Gaussian Blur\n",
    "    gray_blurred = cv2.GaussianBlur(gray, (5,5), 0)\n",
    "\n",
    "    # Thresholding\n",
    "    ret, thresh = cv2.threshold(gray_blurred, 127, 255, cv2.THRESH_BINARY_INV + cv2.THRESH_OTSU)\n",
    "\n",
    "    # Opening\n",
    "    kernel = np.ones((3,3), np.uint8)\n",
    "    opening = cv2.morphologyEx(thresh, cv2.MORPH_OPEN, kernel, iterations=2)\n",
    "\n",
    "    # Dilation\n",
    "    sure_bg = cv2.dilate(opening, kernel, iterations=2)\n",
    "\n",
    "    # Distance Transform\n",
    "    dist_transform = cv2.distanceTransform(opening, cv2.DIST_L2, 5)\n",
    "\n",
    "    # Thresholding for foreground\n",
    "    ret, sure_fg = cv2.threshold(dist_transform, 0.3 * dist_transform.max(), 255, 0)\n",
    "\n",
    "    # Finding unknown region\n",
    "    sure_fg = np.uint8(sure_fg)\n",
    "    unknown = cv2.subtract(sure_bg, sure_fg)\n",
    "\n",
    "    # Connected Components to differentiate regions\n",
    "    ret, markers = cv2.connectedComponents(sure_fg)\n",
    "    markers = markers + 1\n",
    "    markers[unknown == 255] = 0\n",
    "\n",
    "    # Watershed\n",
    "    markers = cv2.watershed(image, markers)\n",
    "\n",
    "    # Convert markers to binary and fill holes\n",
    "    bw = (markers > 1).astype(int)\n",
    "    bw_filled = binary_fill_holes(bw).astype(np.uint8)\n",
    "\n",
    "    # Remove small objects\n",
    "    bw_clean = morphology.remove_small_objects(bw_filled.astype(bool), min_size=5000, connectivity=4).astype(np.uint8)\n",
    "\n",
    "    # Save the final preprocessed image\n",
    "    cv2.imwrite(image_path, bw_clean * 255)\n",
    "\n",
    "def process_directory(src_directory):\n",
    "    # Create a copy of the directory\n",
    "    dst_directory = src_directory + \"_copy\"\n",
    "    shutil.copytree(src_directory, dst_directory)\n",
    "\n",
    "    # Iterate through the copied directory and preprocess .png files\n",
    "    for root, _, files in os.walk(dst_directory):\n",
    "        for filename in files:\n",
    "            if filename.endswith('.png'):\n",
    "                file_path = os.path.join(root, filename)\n",
    "                preprocess_image(file_path)\n",
    "                \n",
    "    return dst_directory\n",
    "\n",
    "\n"
   ]
  },
  {
   "cell_type": "code",
   "execution_count": 3,
   "metadata": {},
   "outputs": [
    {
     "data": {
      "text/plain": [
       "'edof_new_sma_2023_cells_cleaned_copy'"
      ]
     },
     "execution_count": 3,
     "metadata": {},
     "output_type": "execute_result"
    }
   ],
   "source": [
    "# Test\n",
    "src_directory = 'edof_new_sma_2023_cells_cleaned'\n",
    "process_directory(src_directory)"
   ]
  },
  {
   "cell_type": "code",
   "execution_count": null,
   "metadata": {},
   "outputs": [],
   "source": []
  }
 ],
 "metadata": {
  "kernelspec": {
   "display_name": "EzerM",
   "language": "python",
   "name": "python3"
  },
  "language_info": {
   "codemirror_mode": {
    "name": "ipython",
    "version": 3
   },
   "file_extension": ".py",
   "mimetype": "text/x-python",
   "name": "python",
   "nbconvert_exporter": "python",
   "pygments_lexer": "ipython3",
   "version": "3.9.16"
  },
  "orig_nbformat": 4
 },
 "nbformat": 4,
 "nbformat_minor": 2
}
