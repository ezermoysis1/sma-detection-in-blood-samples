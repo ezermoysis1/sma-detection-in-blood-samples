{
 "cells": [
  {
   "cell_type": "markdown",
   "metadata": {},
   "source": [
    "Go through all the files in a given folder\n",
    "- Read all the CSV files starting with 'predictions_record'.\n",
    "- Combine all dataframes into a single dataframe.\n",
    "- Calculate sensitivity and specificity for each unique 'true_label'.\n",
    "- Calculate sensitivity and specificity for each unique 'Diagnosis' using the given rules."
   ]
  },
  {
   "cell_type": "code",
   "execution_count": null,
   "metadata": {},
   "outputs": [],
   "source": [
    "import pandas as pd\n",
    "import os\n",
    "from functions.utils import aggregate_summary\n",
    "\n",
    "directory = 'Experiments_log/20230902_185235'\n",
    "aggregate_summary(directory)"
   ]
  }
 ],
 "metadata": {
  "kernelspec": {
   "display_name": "EzerM",
   "language": "python",
   "name": "python3"
  },
  "language_info": {
   "codemirror_mode": {
    "name": "ipython",
    "version": 3
   },
   "file_extension": ".py",
   "mimetype": "text/x-python",
   "name": "python",
   "nbconvert_exporter": "python",
   "pygments_lexer": "ipython3",
   "version": "3.11.3"
  },
  "orig_nbformat": 4
 },
 "nbformat": 4,
 "nbformat_minor": 2
}
