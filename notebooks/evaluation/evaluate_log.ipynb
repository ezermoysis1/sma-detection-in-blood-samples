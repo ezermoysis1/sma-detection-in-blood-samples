{
 "cells": [
  {
   "cell_type": "markdown",
   "metadata": {},
   "source": [
    "Go through all the files in a given folder\n",
    "- Read all the CSV files starting with 'predictions_record'.\n",
    "- Combine all dataframes into a single dataframe.\n",
    "- Calculate sensitivity and specificity for each unique 'true_label'.\n",
    "- Calculate sensitivity and specificity for each unique 'Diagnosis' using the given rules."
   ]
  },
  {
   "cell_type": "code",
   "execution_count": 1,
   "metadata": {},
   "outputs": [
    {
     "ename": "FileNotFoundError",
     "evalue": "[Errno 2] No such file or directory: 'Experiments_log/20230902_185235'",
     "output_type": "error",
     "traceback": [
      "\u001b[0;31m---------------------------------------------------------------------------\u001b[0m",
      "\u001b[0;31mFileNotFoundError\u001b[0m                         Traceback (most recent call last)",
      "Cell \u001b[0;32mIn[1], line 6\u001b[0m\n\u001b[1;32m      3\u001b[0m \u001b[39mfrom\u001b[39;00m \u001b[39mfunctions\u001b[39;00m\u001b[39m.\u001b[39;00m\u001b[39mutils\u001b[39;00m \u001b[39mimport\u001b[39;00m aggregate_summary\n\u001b[1;32m      5\u001b[0m directory \u001b[39m=\u001b[39m \u001b[39m'\u001b[39m\u001b[39mExperiments_log/20230902_185235\u001b[39m\u001b[39m'\u001b[39m\n\u001b[0;32m----> 6\u001b[0m aggregate_summary(directory)\n",
      "File \u001b[0;32m~/Documents/UCL/Thesis/Malaria/Malaria-Detection-in-Blood-Samples/functions/utils.py:254\u001b[0m, in \u001b[0;36maggregate_summary\u001b[0;34m(directory)\u001b[0m\n\u001b[1;32m    251\u001b[0m dfs \u001b[39m=\u001b[39m []\n\u001b[1;32m    253\u001b[0m \u001b[39m# 1. Read all the CSV files starting with 'predictions_record'\u001b[39;00m\n\u001b[0;32m--> 254\u001b[0m \u001b[39mfor\u001b[39;00m filename \u001b[39min\u001b[39;00m os\u001b[39m.\u001b[39;49mlistdir(directory):\n\u001b[1;32m    255\u001b[0m     \u001b[39mif\u001b[39;00m filename\u001b[39m.\u001b[39mstartswith(\u001b[39m'\u001b[39m\u001b[39mpredictions_record\u001b[39m\u001b[39m'\u001b[39m) \u001b[39mand\u001b[39;00m filename\u001b[39m.\u001b[39mendswith(\u001b[39m'\u001b[39m\u001b[39m.csv\u001b[39m\u001b[39m'\u001b[39m):\n\u001b[1;32m    256\u001b[0m         path \u001b[39m=\u001b[39m os\u001b[39m.\u001b[39mpath\u001b[39m.\u001b[39mjoin(directory, filename)\n",
      "\u001b[0;31mFileNotFoundError\u001b[0m: [Errno 2] No such file or directory: 'Experiments_log/20230902_185235'"
     ]
    }
   ],
   "source": [
    "import pandas as pd\n",
    "import os\n",
    "from functions.utils import aggregate_summary\n",
    "\n",
    "directory = 'Experiments_log/20230902_185235'\n",
    "aggregate_summary(directory)"
   ]
  }
 ],
 "metadata": {
  "kernelspec": {
   "display_name": "EzerM",
   "language": "python",
   "name": "python3"
  },
  "language_info": {
   "codemirror_mode": {
    "name": "ipython",
    "version": 3
   },
   "file_extension": ".py",
   "mimetype": "text/x-python",
   "name": "python",
   "nbconvert_exporter": "python",
   "pygments_lexer": "ipython3",
   "version": "3.11.3"
  },
  "orig_nbformat": 4
 },
 "nbformat": 4,
 "nbformat_minor": 2
}
