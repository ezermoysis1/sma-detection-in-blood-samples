{
 "cells": [
  {
   "cell_type": "code",
   "execution_count": 1,
   "metadata": {},
   "outputs": [],
   "source": [
    "import os\n",
    "import cv2\n",
    "import numpy as np\n",
    "from PIL import Image\n",
    "import matplotlib.pyplot as plt\n",
    "import numpy as np\n",
    "import math\n",
    "\n",
    "def detect_and_calculate_area_ratio(image):\n",
    "    \"\"\"\n",
    "    Given a PIL.Image object, this function detects white object(s) against a black\n",
    "    background in a binary image, calculates their area, and returns the area ratio\n",
    "    of the white object(s) to the total image area.\n",
    "    \"\"\"\n",
    "\n",
    "    # Convert the PIL Image to an OpenCV usable format\n",
    "    image = cv2.cvtColor(np.array(image), cv2.COLOR_RGB2BGR)\n",
    "\n",
    "    # Convert the image to grayscale\n",
    "    gray = cv2.cvtColor(image, cv2.COLOR_BGR2GRAY)\n",
    "\n",
    "    # Threshold the image (assuming objects are white and the background is black)\n",
    "    _, binary = cv2.threshold(gray, 127, 255, cv2.THRESH_BINARY)\n",
    "\n",
    "    # Find contours in the binary image\n",
    "    contours, _ = cv2.findContours(binary, cv2.RETR_EXTERNAL, cv2.CHAIN_APPROX_SIMPLE)\n",
    "\n",
    "    # Calculate the total area of the contours (objects)\n",
    "    total_object_area = sum(cv2.contourArea(cnt) for cnt in contours)\n",
    "\n",
    "    # Calculate the total image area\n",
    "    total_image_area = image.shape[0] * image.shape[1]\n",
    "\n",
    "    # Calculate and return the area ratio\n",
    "    return total_object_area / total_image_area\n",
    "\n",
    "\n",
    "def gather_images(directory):\n",
    "    # Stores the paths of .png images\n",
    "    png_paths = []\n",
    "\n",
    "    # Stores the paths of .png images where the area of the object depicted\n",
    "    # is more than 0.7 of the total image or less than 0.1\n",
    "    target_images = []\n",
    "\n",
    "    # Walk through all directories and files in the given directory\n",
    "    for root, dirs, files in os.walk(directory):\n",
    "        print(files)\n",
    "        for file in files:\n",
    "            if file.endswith('.png'):\n",
    "                path = os.path.join(root, file)\n",
    "                png_paths.append(path)\n",
    "\n",
    "                # Open the image file\n",
    "                with Image.open(path) as img:\n",
    "                    ratio = detect_and_calculate_area_ratio(img)\n",
    "\n",
    "                    # Check the condition and append to list if it matches\n",
    "                    if ratio is not None and (ratio < 0.75): # This should be somewhere between 0.4 and 0.5\n",
    "                        target_images.append(path)\n",
    "\n",
    "    return png_paths, target_images\n",
    "\n",
    "def display_images(image_paths, fig_size):\n",
    "    num_images = len(image_paths)\n",
    "\n",
    "    # Calculate number of rows needed\n",
    "    num_rows = math.ceil(num_images / 10)\n",
    "\n",
    "    # Create subplots\n",
    "    fig, axs = plt.subplots(num_rows, 10, figsize=(20, fig_size))\n",
    "\n",
    "    # Remove axes for any unused subplot spaces\n",
    "    if num_images % 10 != 0:\n",
    "        for ax in axs.flatten()[num_images:]:\n",
    "            ax.axis('off')\n",
    "\n",
    "    # Flatten the array of axes and iterate through them along with your images\n",
    "    for ax, image_path in zip(axs.flatten(), image_paths):\n",
    "        # Open the image file\n",
    "        img = Image.open(image_path)\n",
    "        # Display the image on the current axes\n",
    "        ax.imshow(img)\n",
    "        # Remove the axes for this subplot\n",
    "        ax.axis('off')\n",
    "\n",
    "    # Show the plot with all images\n",
    "    plt.show()"
   ]
  },
  {
   "cell_type": "code",
   "execution_count": null,
   "metadata": {},
   "outputs": [],
   "source": [
    "image_path = 'edof_new_sma_2023_cells'\n",
    "png_paths, target_images = gather_images(image_path)"
   ]
  },
  {
   "cell_type": "code",
   "execution_count": 11,
   "metadata": {},
   "outputs": [
    {
     "name": "stdout",
     "output_type": "stream",
     "text": [
      "579\n",
      "2737\n"
     ]
    }
   ],
   "source": [
    "print(len(target_images))\n",
    "print(len(png_paths))"
   ]
  },
  {
   "cell_type": "code",
   "execution_count": 12,
   "metadata": {},
   "outputs": [],
   "source": [
    "import matplotlib.pyplot as plt\n",
    "import seaborn as sns\n",
    "import pandas as pd\n",
    "import numpy as np\n",
    "from skimage import io, color, filters, measure\n",
    "import os\n",
    "import matplotlib.patches as patches\n",
    "from scipy import stats\n",
    "\n",
    "def get_image_descriptors(image_paths):\n",
    "    # Initialize an empty list to store each image's descriptor dictionary\n",
    "    all_descriptors = []\n",
    "\n",
    "    for image_path in image_paths:\n",
    "        # Check if the file exists\n",
    "        if not os.path.isfile(image_path):\n",
    "            print(f\"File {image_path} not found.\")\n",
    "            continue\n",
    "\n",
    "        # Read the image\n",
    "        image = io.imread(image_path)\n",
    "\n",
    "        # If the image is not grayscale, convert it to grayscale\n",
    "        if len(image.shape) > 2:\n",
    "            gray_image = color.rgb2gray(image)\n",
    "\n",
    "        # Threshold the image to get a binary image\n",
    "        threshold_value = filters.threshold_otsu(gray_image)\n",
    "        binary_image = gray_image < threshold_value\n",
    "\n",
    "        # Label the image\n",
    "        label_image = measure.label(binary_image)\n",
    "\n",
    "        # Use regionprops to get the descriptors\n",
    "        regions = measure.regionprops(label_image, intensity_image=gray_image)\n",
    "\n",
    "        # If there are no regions, continue to the next image\n",
    "        if not regions:\n",
    "            continue\n",
    "\n",
    "        # Select the region with the largest area\n",
    "        region = max(regions, key=lambda region: region.area)\n",
    "\n",
    "        descriptor_dict = {\n",
    "            'area': region.area,\n",
    "            'filled_area': region.filled_area,\n",
    "            'equivalent_diameter': region.equivalent_diameter,\n",
    "            'eccentricity': region.eccentricity,\n",
    "            'convex_area': region.convex_area,\n",
    "            'extent': region.extent,\n",
    "            'solidity': region.solidity,\n",
    "            'perimeter': region.perimeter,\n",
    "            'image_path': image_path\n",
    "        }\n",
    "\n",
    "        all_descriptors.append(descriptor_dict)\n",
    "\n",
    "    # Convert the list of dictionaries into a DataFrame\n",
    "    df_1 = pd.DataFrame(all_descriptors)\n",
    "\n",
    "    df = pd.DataFrame(all_descriptors)\n",
    "\n",
    "    # Add an extra column 'Source' for identification\n",
    "    df['Source'] = df['image_path'].str.contains('sma')\n",
    "\n",
    "    # Reshape the dataframe suitable for sns.boxplot\n",
    "    df_melt = df.melt(id_vars=['Source', 'image_path'])\n",
    "\n",
    "    # Get the unique column names (variables)\n",
    "    columns = df_melt['variable'].unique()\n",
    "\n",
    "    # Create a subplot for each column\n",
    "    for col in columns:\n",
    "        subset = df_melt[df_melt['variable'] == col]\n",
    "        plt.figure(figsize=(5, 4))\n",
    "        sns.boxplot(x='variable', y='value', hue='Source', data=subset, palette='PRGn')\n",
    "        plt.title(f\"{col}\")  # 2 decimal places in scientific notation\n",
    "        plt.show()\n",
    "    \n",
    "    return df_1"
   ]
  },
  {
   "cell_type": "code",
   "execution_count": null,
   "metadata": {},
   "outputs": [],
   "source": [
    "df = get_image_descriptors(png_paths)"
   ]
  },
  {
   "cell_type": "code",
   "execution_count": 14,
   "metadata": {},
   "outputs": [
    {
     "data": {
      "text/plain": [
       "2737"
      ]
     },
     "execution_count": 14,
     "metadata": {},
     "output_type": "execute_result"
    }
   ],
   "source": [
    "len(df)"
   ]
  },
  {
   "cell_type": "code",
   "execution_count": null,
   "metadata": {},
   "outputs": [],
   "source": [
    "# Filter the DataFrame for small regions\n",
    "small_regions_df_count = df[df['area'] < 5000].count()\n",
    "print(small_regions_df_count)"
   ]
  },
  {
   "cell_type": "code",
   "execution_count": null,
   "metadata": {},
   "outputs": [],
   "source": [
    "# Filter the DataFrame\n",
    "small_regions_df = df[df['area'] < 5000]\n",
    "\n",
    "# Get the unique image paths\n",
    "small_regions_paths = small_regions_df['image_path'].unique()\n",
    "\n",
    "# Determine the number of rows needed for the grid\n",
    "n_images = len(small_regions_paths)\n",
    "n_cols = 10\n",
    "n_rows = n_images // n_cols if n_images % n_cols == 0 else n_images // n_cols + 1\n",
    "\n",
    "# Create a grid of subplots\n",
    "fig, axes = plt.subplots(n_rows, n_cols, figsize=(20, 2 * n_rows))\n",
    "\n",
    "# Flatten the axes array, so we can easily iterate over it\n",
    "axes = axes.flatten()\n",
    "\n",
    "# Iterate over the image paths and the axes\n",
    "for ax, image_path in zip(axes, small_regions_paths):\n",
    "    # Read the image\n",
    "    image = io.imread(image_path)\n",
    "\n",
    "    # Display the image\n",
    "    ax.imshow(image)\n",
    "    ax.set_title(f\"Image {image_path}\")\n",
    "    ax.axis('off')\n",
    "\n",
    "# If there are fewer images than total subplots, remove the extras\n",
    "for ax in axes[n_images:]:\n",
    "    fig.delaxes(ax)\n",
    "\n",
    "# Display the plot\n",
    "plt.tight_layout()\n",
    "plt.show()\n",
    "\n",
    "small_regions_paths_list = list(small_regions_df['image_path'].unique())\n",
    "small_regions_paths_list"
   ]
  },
  {
   "cell_type": "code",
   "execution_count": 17,
   "metadata": {},
   "outputs": [
    {
     "name": "stdout",
     "output_type": "stream",
     "text": [
      "area                   248\n",
      "filled_area            248\n",
      "equivalent_diameter    248\n",
      "eccentricity           248\n",
      "convex_area            248\n",
      "extent                 248\n",
      "solidity               248\n",
      "perimeter              248\n",
      "image_path             248\n",
      "dtype: int64\n"
     ]
    }
   ],
   "source": [
    "# Filter the DataFrame for small regions\n",
    "large_regions_df_count = df[df['area'] > 13000].count()\n",
    "print(large_regions_df_count)"
   ]
  },
  {
   "cell_type": "code",
   "execution_count": null,
   "metadata": {},
   "outputs": [],
   "source": [
    "# Filter the DataFrame\n",
    "large_regions_df = df[df['area'] > 13000]\n",
    "\n",
    "# Get the unique image paths\n",
    "large_regions_paths = large_regions_df['image_path'].unique()\n",
    "\n",
    "# Determine the number of rows needed for the grid\n",
    "n_images = len(large_regions_paths)\n",
    "n_cols = 10\n",
    "n_rows = n_images // n_cols if n_images % n_cols == 0 else n_images // n_cols + 1\n",
    "\n",
    "# Create a grid of subplots\n",
    "fig, axes = plt.subplots(n_rows, n_cols, figsize=(20, 2 * n_rows))\n",
    "\n",
    "# Flatten the axes array, so we can easily iterate over it\n",
    "axes = axes.flatten()\n",
    "\n",
    "# Iterate over the image paths and the axes\n",
    "for ax, image_path in zip(axes, large_regions_paths):\n",
    "    # Read the image\n",
    "    image = io.imread(image_path)\n",
    "\n",
    "    # Display the image\n",
    "    ax.imshow(image)\n",
    "    ax.set_title(f\"Image {image_path}\")\n",
    "    ax.axis('off')\n",
    "\n",
    "# If there are fewer images than total subplots, remove the extras\n",
    "for ax in axes[n_images:]:\n",
    "    fig.delaxes(ax)\n",
    "\n",
    "# Display the plot\n",
    "plt.tight_layout()\n",
    "plt.show()\n",
    "\n",
    "large_regions_paths_list = list(large_regions_df['image_path'].unique())\n",
    "\n",
    "large_regions_paths_list"
   ]
  },
  {
   "cell_type": "code",
   "execution_count": 24,
   "metadata": {},
   "outputs": [
    {
     "data": {
      "text/plain": [
       "2279"
      ]
     },
     "execution_count": 24,
     "metadata": {},
     "output_type": "execute_result"
    }
   ],
   "source": [
    "png_paths = list(filter(lambda path: path not in small_regions_paths_list, png_paths))\n",
    "png_paths = list(filter(lambda path: path not in large_regions_paths_list, png_paths))\n",
    "len(png_paths)"
   ]
  },
  {
   "cell_type": "code",
   "execution_count": 25,
   "metadata": {},
   "outputs": [
    {
     "name": "stdout",
     "output_type": "stream",
     "text": [
      "area                   288\n",
      "filled_area            288\n",
      "equivalent_diameter    288\n",
      "eccentricity           288\n",
      "convex_area            288\n",
      "extent                 288\n",
      "solidity               288\n",
      "perimeter              288\n",
      "image_path             288\n",
      "dtype: int64\n"
     ]
    }
   ],
   "source": [
    "# Filter the DataFrame for small regions\n",
    "large_regions_df_count = df[df['perimeter'] > 750].count()\n",
    "print(large_regions_df_count)"
   ]
  },
  {
   "cell_type": "code",
   "execution_count": null,
   "metadata": {},
   "outputs": [],
   "source": [
    "# Filter the DataFrame\n",
    "p_large_regions_df = df[df['perimeter'] > 750]\n",
    "\n",
    "# Get the unique image paths\n",
    "p_large_regions_paths = p_large_regions_df['image_path'].unique()\n",
    "\n",
    "# Determine the number of rows needed for the grid\n",
    "n_images = len(p_large_regions_paths)\n",
    "n_cols = 6\n",
    "n_rows = n_images // n_cols if n_images % n_cols == 0 else n_images // n_cols + 1\n",
    "\n",
    "# Create a grid of subplots\n",
    "fig, axes = plt.subplots(n_rows, n_cols, figsize=(20, 2 * n_rows))\n",
    "\n",
    "# Flatten the axes array, so we can easily iterate over it\n",
    "axes = axes.flatten()\n",
    "\n",
    "# Iterate over the image paths and the axes\n",
    "for ax, image_path in zip(axes, p_large_regions_paths):\n",
    "    # Read the image\n",
    "    image = io.imread(image_path)\n",
    "\n",
    "    # Display the image\n",
    "    ax.imshow(image)\n",
    "    # Get the title\n",
    "    title = '/non-sma' + image_path.split('/non-sma')[-1] if '/non-sma' in image_path else '/sma' + image_path.split('/sma')[-1]\n",
    "\n",
    "    # Set the title\n",
    "    ax.set_title(f\"Image {title}\")\n",
    "    ax.axis('off')\n",
    "\n",
    "\n",
    "# If there are fewer images than total subplots, remove the extras\n",
    "for ax in axes[n_images:]:\n",
    "    fig.delaxes(ax)\n",
    "\n",
    "# Display the plot\n",
    "plt.tight_layout()\n",
    "plt.show()\n",
    "\n",
    "p_large_regions_paths_list = list(p_large_regions_df['image_path'].unique())\n",
    "\n",
    "p_large_regions_paths_list"
   ]
  },
  {
   "cell_type": "code",
   "execution_count": 27,
   "metadata": {},
   "outputs": [
    {
     "data": {
      "text/plain": [
       "2279"
      ]
     },
     "execution_count": 27,
     "metadata": {},
     "output_type": "execute_result"
    }
   ],
   "source": [
    "png_paths = list(filter(lambda path: path not in p_large_regions_paths_list, png_paths))\n",
    "len(png_paths)"
   ]
  },
  {
   "cell_type": "code",
   "execution_count": null,
   "metadata": {},
   "outputs": [],
   "source": [
    "df = get_image_descriptors(png_paths)"
   ]
  },
  {
   "cell_type": "code",
   "execution_count": 29,
   "metadata": {},
   "outputs": [
    {
     "name": "stdout",
     "output_type": "stream",
     "text": [
      "1129\n",
      "787\n"
     ]
    }
   ],
   "source": [
    "# Concatenate the lists\n",
    "all_paths = target_images + p_large_regions_paths_list + large_regions_paths_list + small_regions_paths_list \n",
    "print(len(all_paths))\n",
    "\n",
    "# Create a DataFrame with all paths under column 'Paths'\n",
    "df = pd.DataFrame(all_paths, columns=['Paths'])\n",
    "df = df.drop_duplicates()\n",
    "print(len(df))\n",
    "\n",
    "# Save the DataFrame into a CSV file\n",
    "df.to_csv('images_to_remove1.csv', index=False)"
   ]
  }
 ],
 "metadata": {
  "kernelspec": {
   "display_name": "EzerM",
   "language": "python",
   "name": "python3"
  },
  "language_info": {
   "codemirror_mode": {
    "name": "ipython",
    "version": 3
   },
   "file_extension": ".py",
   "mimetype": "text/x-python",
   "name": "python",
   "nbconvert_exporter": "python",
   "pygments_lexer": "ipython3",
   "version": "3.11.3"
  },
  "orig_nbformat": 4
 },
 "nbformat": 4,
 "nbformat_minor": 2
}
